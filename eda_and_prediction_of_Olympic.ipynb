{
 "cells": [
  {
   "cell_type": "markdown",
   "id": "9e668311",
   "metadata": {},
   "source": [
    "Name-Nikhil Santosh Upadhyay\n",
    "\n",
    "Enrollment Number - EBEON0522606562\n",
    "\n",
    "Certification - Data Analytics"
   ]
  },
  {
   "cell_type": "markdown",
   "id": "07799cd2",
   "metadata": {},
   "source": [
    "# Introduction to the Olympics"
   ]
  },
  {
   "cell_type": "markdown",
   "id": "a434863a",
   "metadata": {},
   "source": [
    "The modern Olympic Games or Olympics are leading international sporting events featuring summer and winter sports competitions in which thousands of athletes from around the world participate in a variety of competitions. The Olympic Games are considered the world’s foremost sports competition with more than 200 nations participating. The Olympic Games are held every four years, with the Summer and Winter Games alternating by occurring every four years but two years apart.\n",
    "\n",
    "The evolution of the Olympic Movement during the 20th and 21st centuries has resulted in several changes to the Olympic Games. Some of these adjustments include the creation of the Winter Olympic Games for snow and ice sports, the Paralympic Games for athletes with a disability, the Youth Olympic Games for athletes aged 14 to 18, the five Continental games (Pan American, African, Asian, European, and Pacific), and the World Games for sports that are not contested in the Olympic Games. The Deaflympics and Special Olympics are also endorsed by the IOC. The IOC has had to adapt to a variety of economic, political, and technological advancements. As a result, the Olympics has shifted away from pure amateurism, as envisioned by Coubertin, to allowing participation of professional athletes. The growing importance of mass media created the issue of corporate sponsorship and commercialisation of the Games. World wars led to the cancellation of the 1916, 1940, and 1944 Games. Large boycotts during the Cold War limited participation in the 1980 and 1984 Games. The latter, however, attracted 140 National Olympic Committees, which was a record at the time."
   ]
  },
  {
   "cell_type": "markdown",
   "id": "8f9475ab",
   "metadata": {},
   "source": [
    "# Introduction about the Data"
   ]
  },
  {
   "cell_type": "markdown",
   "id": "30b57bd9",
   "metadata": {},
   "source": [
    "This is a comprehensive dataset of the modern-day Olympic Games, spanning and having records of games all the way from 1896, Athens Olympics to 2016, Rio Olympics. The dataset contains 271116 instances and 17 attributes.\n",
    "\n",
    "Each instance corresponds to an individual athlete competing in an individual Olympic event (athlete-events). While the attribute consists of various inputs as follows (to name a few):"
   ]
  },
  {
   "cell_type": "markdown",
   "id": "8489be6b",
   "metadata": {},
   "source": [
    "# Acknowledgements"
   ]
  },
  {
   "cell_type": "markdown",
   "id": "4258dfe9",
   "metadata": {},
   "source": [
    "The Olympic data on www.kaggle.com is the result of an incredible amount of research by a group of Olympic history enthusiasts and self-proclaimed 'statistorians'. Check out their blog for more information. All I did was consolidated their decades of work into a convenient format for data analysis."
   ]
  },
  {
   "cell_type": "markdown",
   "id": "81d86078",
   "metadata": {},
   "source": [
    "# Tool Used"
   ]
  },
  {
   "cell_type": "markdown",
   "id": "b674db67",
   "metadata": {},
   "source": [
    "Python jupyter notebook.\n",
    "\n",
    "Machine learning algorithms\n",
    "\n",
    "Pandas library\n",
    "\n",
    "Numpy library\n",
    "\n",
    "Seaborn Library\n",
    "\n",
    "Matplotlib.pyplotlibrary\n",
    "\n",
    "Train Test split\n",
    "\n",
    "Confusion matrix"
   ]
  },
  {
   "cell_type": "markdown",
   "id": "c7063216",
   "metadata": {},
   "source": [
    "# Content"
   ]
  },
  {
   "cell_type": "markdown",
   "id": "9d7cdb71",
   "metadata": {},
   "source": [
    "ID - Unique number of each athlete\n",
    "\n",
    "Name - Athlete’s name\n",
    "\n",
    "Sex - M or F\n",
    "\n",
    "Age - Integer\n",
    "\n",
    "Height - In centimeters\n",
    "\n",
    "Weight - In kilograms\n",
    "\n",
    "Team - Team name\n",
    "\n",
    "NOC - National Olympic Committee 3-letter code\n",
    "\n",
    "Games - Year and season\n",
    "\n",
    "Year - Integer\n",
    "\n",
    "Season - Summer or Winter\n",
    "\n",
    "City - Host city\n",
    "\n",
    "Sport - Sport\n",
    "\n",
    "Medal - Gold, Silver, Bronze, or NA"
   ]
  },
  {
   "cell_type": "markdown",
   "id": "5fa2c50f",
   "metadata": {},
   "source": [
    "# Importing libraries"
   ]
  },
  {
   "cell_type": "code",
   "execution_count": 1,
   "id": "5ab05c9a",
   "metadata": {},
   "outputs": [],
   "source": [
    "import pandas as pd\n",
    "import numpy as np\n",
    "import matplotlib.pyplot as plt\n",
    "import seaborn as sns\n",
    "import warnings\n",
    "warnings.filterwarnings('ignore')"
   ]
  },
  {
   "cell_type": "markdown",
   "id": "f98976a5",
   "metadata": {},
   "source": [
    "## Reading Data"
   ]
  },
  {
   "cell_type": "code",
   "execution_count": 2,
   "id": "7d2470ee",
   "metadata": {},
   "outputs": [],
   "source": [
    "ath=pd.read_csv(r'E:\\edu\\New folder\\athlete_events.csv')"
   ]
  },
  {
   "cell_type": "code",
   "execution_count": 3,
   "id": "9c5520b8",
   "metadata": {},
   "outputs": [
    {
     "data": {
      "text/html": [
       "<div>\n",
       "<style scoped>\n",
       "    .dataframe tbody tr th:only-of-type {\n",
       "        vertical-align: middle;\n",
       "    }\n",
       "\n",
       "    .dataframe tbody tr th {\n",
       "        vertical-align: top;\n",
       "    }\n",
       "\n",
       "    .dataframe thead th {\n",
       "        text-align: right;\n",
       "    }\n",
       "</style>\n",
       "<table border=\"1\" class=\"dataframe\">\n",
       "  <thead>\n",
       "    <tr style=\"text-align: right;\">\n",
       "      <th></th>\n",
       "      <th>ID</th>\n",
       "      <th>Name</th>\n",
       "      <th>Sex</th>\n",
       "      <th>Age</th>\n",
       "      <th>Height</th>\n",
       "      <th>Weight</th>\n",
       "      <th>Team</th>\n",
       "      <th>NOC</th>\n",
       "      <th>Games</th>\n",
       "      <th>Year</th>\n",
       "      <th>Season</th>\n",
       "      <th>City</th>\n",
       "      <th>Sport</th>\n",
       "      <th>Event</th>\n",
       "      <th>Medal</th>\n",
       "    </tr>\n",
       "  </thead>\n",
       "  <tbody>\n",
       "    <tr>\n",
       "      <th>0</th>\n",
       "      <td>1</td>\n",
       "      <td>A Dijiang</td>\n",
       "      <td>M</td>\n",
       "      <td>24.0</td>\n",
       "      <td>180.0</td>\n",
       "      <td>80.0</td>\n",
       "      <td>China</td>\n",
       "      <td>CHN</td>\n",
       "      <td>1992 Summer</td>\n",
       "      <td>1992</td>\n",
       "      <td>Summer</td>\n",
       "      <td>Barcelona</td>\n",
       "      <td>Basketball</td>\n",
       "      <td>Basketball Men's Basketball</td>\n",
       "      <td>NaN</td>\n",
       "    </tr>\n",
       "    <tr>\n",
       "      <th>1</th>\n",
       "      <td>2</td>\n",
       "      <td>A Lamusi</td>\n",
       "      <td>M</td>\n",
       "      <td>23.0</td>\n",
       "      <td>170.0</td>\n",
       "      <td>60.0</td>\n",
       "      <td>China</td>\n",
       "      <td>CHN</td>\n",
       "      <td>2012 Summer</td>\n",
       "      <td>2012</td>\n",
       "      <td>Summer</td>\n",
       "      <td>London</td>\n",
       "      <td>Judo</td>\n",
       "      <td>Judo Men's Extra-Lightweight</td>\n",
       "      <td>NaN</td>\n",
       "    </tr>\n",
       "    <tr>\n",
       "      <th>2</th>\n",
       "      <td>3</td>\n",
       "      <td>Gunnar Nielsen Aaby</td>\n",
       "      <td>M</td>\n",
       "      <td>24.0</td>\n",
       "      <td>NaN</td>\n",
       "      <td>NaN</td>\n",
       "      <td>Denmark</td>\n",
       "      <td>DEN</td>\n",
       "      <td>1920 Summer</td>\n",
       "      <td>1920</td>\n",
       "      <td>Summer</td>\n",
       "      <td>Antwerpen</td>\n",
       "      <td>Football</td>\n",
       "      <td>Football Men's Football</td>\n",
       "      <td>NaN</td>\n",
       "    </tr>\n",
       "    <tr>\n",
       "      <th>3</th>\n",
       "      <td>4</td>\n",
       "      <td>Edgar Lindenau Aabye</td>\n",
       "      <td>M</td>\n",
       "      <td>34.0</td>\n",
       "      <td>NaN</td>\n",
       "      <td>NaN</td>\n",
       "      <td>Denmark/Sweden</td>\n",
       "      <td>DEN</td>\n",
       "      <td>1900 Summer</td>\n",
       "      <td>1900</td>\n",
       "      <td>Summer</td>\n",
       "      <td>Paris</td>\n",
       "      <td>Tug-Of-War</td>\n",
       "      <td>Tug-Of-War Men's Tug-Of-War</td>\n",
       "      <td>Gold</td>\n",
       "    </tr>\n",
       "    <tr>\n",
       "      <th>4</th>\n",
       "      <td>5</td>\n",
       "      <td>Christine Jacoba Aaftink</td>\n",
       "      <td>F</td>\n",
       "      <td>21.0</td>\n",
       "      <td>185.0</td>\n",
       "      <td>82.0</td>\n",
       "      <td>Netherlands</td>\n",
       "      <td>NED</td>\n",
       "      <td>1988 Winter</td>\n",
       "      <td>1988</td>\n",
       "      <td>Winter</td>\n",
       "      <td>Calgary</td>\n",
       "      <td>Speed Skating</td>\n",
       "      <td>Speed Skating Women's 500 metres</td>\n",
       "      <td>NaN</td>\n",
       "    </tr>\n",
       "    <tr>\n",
       "      <th>...</th>\n",
       "      <td>...</td>\n",
       "      <td>...</td>\n",
       "      <td>...</td>\n",
       "      <td>...</td>\n",
       "      <td>...</td>\n",
       "      <td>...</td>\n",
       "      <td>...</td>\n",
       "      <td>...</td>\n",
       "      <td>...</td>\n",
       "      <td>...</td>\n",
       "      <td>...</td>\n",
       "      <td>...</td>\n",
       "      <td>...</td>\n",
       "      <td>...</td>\n",
       "      <td>...</td>\n",
       "    </tr>\n",
       "    <tr>\n",
       "      <th>271111</th>\n",
       "      <td>135569</td>\n",
       "      <td>Andrzej ya</td>\n",
       "      <td>M</td>\n",
       "      <td>29.0</td>\n",
       "      <td>179.0</td>\n",
       "      <td>89.0</td>\n",
       "      <td>Poland-1</td>\n",
       "      <td>POL</td>\n",
       "      <td>1976 Winter</td>\n",
       "      <td>1976</td>\n",
       "      <td>Winter</td>\n",
       "      <td>Innsbruck</td>\n",
       "      <td>Luge</td>\n",
       "      <td>Luge Mixed (Men)'s Doubles</td>\n",
       "      <td>NaN</td>\n",
       "    </tr>\n",
       "    <tr>\n",
       "      <th>271112</th>\n",
       "      <td>135570</td>\n",
       "      <td>Piotr ya</td>\n",
       "      <td>M</td>\n",
       "      <td>27.0</td>\n",
       "      <td>176.0</td>\n",
       "      <td>59.0</td>\n",
       "      <td>Poland</td>\n",
       "      <td>POL</td>\n",
       "      <td>2014 Winter</td>\n",
       "      <td>2014</td>\n",
       "      <td>Winter</td>\n",
       "      <td>Sochi</td>\n",
       "      <td>Ski Jumping</td>\n",
       "      <td>Ski Jumping Men's Large Hill, Individual</td>\n",
       "      <td>NaN</td>\n",
       "    </tr>\n",
       "    <tr>\n",
       "      <th>271113</th>\n",
       "      <td>135570</td>\n",
       "      <td>Piotr ya</td>\n",
       "      <td>M</td>\n",
       "      <td>27.0</td>\n",
       "      <td>176.0</td>\n",
       "      <td>59.0</td>\n",
       "      <td>Poland</td>\n",
       "      <td>POL</td>\n",
       "      <td>2014 Winter</td>\n",
       "      <td>2014</td>\n",
       "      <td>Winter</td>\n",
       "      <td>Sochi</td>\n",
       "      <td>Ski Jumping</td>\n",
       "      <td>Ski Jumping Men's Large Hill, Team</td>\n",
       "      <td>NaN</td>\n",
       "    </tr>\n",
       "    <tr>\n",
       "      <th>271114</th>\n",
       "      <td>135571</td>\n",
       "      <td>Tomasz Ireneusz ya</td>\n",
       "      <td>M</td>\n",
       "      <td>30.0</td>\n",
       "      <td>185.0</td>\n",
       "      <td>96.0</td>\n",
       "      <td>Poland</td>\n",
       "      <td>POL</td>\n",
       "      <td>1998 Winter</td>\n",
       "      <td>1998</td>\n",
       "      <td>Winter</td>\n",
       "      <td>Nagano</td>\n",
       "      <td>Bobsleigh</td>\n",
       "      <td>Bobsleigh Men's Four</td>\n",
       "      <td>NaN</td>\n",
       "    </tr>\n",
       "    <tr>\n",
       "      <th>271115</th>\n",
       "      <td>135571</td>\n",
       "      <td>Tomasz Ireneusz ya</td>\n",
       "      <td>M</td>\n",
       "      <td>34.0</td>\n",
       "      <td>185.0</td>\n",
       "      <td>96.0</td>\n",
       "      <td>Poland</td>\n",
       "      <td>POL</td>\n",
       "      <td>2002 Winter</td>\n",
       "      <td>2002</td>\n",
       "      <td>Winter</td>\n",
       "      <td>Salt Lake City</td>\n",
       "      <td>Bobsleigh</td>\n",
       "      <td>Bobsleigh Men's Four</td>\n",
       "      <td>NaN</td>\n",
       "    </tr>\n",
       "  </tbody>\n",
       "</table>\n",
       "<p>271116 rows × 15 columns</p>\n",
       "</div>"
      ],
      "text/plain": [
       "            ID                      Name Sex   Age  Height  Weight  \\\n",
       "0            1                 A Dijiang   M  24.0   180.0    80.0   \n",
       "1            2                  A Lamusi   M  23.0   170.0    60.0   \n",
       "2            3       Gunnar Nielsen Aaby   M  24.0     NaN     NaN   \n",
       "3            4      Edgar Lindenau Aabye   M  34.0     NaN     NaN   \n",
       "4            5  Christine Jacoba Aaftink   F  21.0   185.0    82.0   \n",
       "...        ...                       ...  ..   ...     ...     ...   \n",
       "271111  135569                Andrzej ya   M  29.0   179.0    89.0   \n",
       "271112  135570                  Piotr ya   M  27.0   176.0    59.0   \n",
       "271113  135570                  Piotr ya   M  27.0   176.0    59.0   \n",
       "271114  135571        Tomasz Ireneusz ya   M  30.0   185.0    96.0   \n",
       "271115  135571        Tomasz Ireneusz ya   M  34.0   185.0    96.0   \n",
       "\n",
       "                  Team  NOC        Games  Year  Season            City  \\\n",
       "0                China  CHN  1992 Summer  1992  Summer       Barcelona   \n",
       "1                China  CHN  2012 Summer  2012  Summer          London   \n",
       "2              Denmark  DEN  1920 Summer  1920  Summer       Antwerpen   \n",
       "3       Denmark/Sweden  DEN  1900 Summer  1900  Summer           Paris   \n",
       "4          Netherlands  NED  1988 Winter  1988  Winter         Calgary   \n",
       "...                ...  ...          ...   ...     ...             ...   \n",
       "271111        Poland-1  POL  1976 Winter  1976  Winter       Innsbruck   \n",
       "271112          Poland  POL  2014 Winter  2014  Winter           Sochi   \n",
       "271113          Poland  POL  2014 Winter  2014  Winter           Sochi   \n",
       "271114          Poland  POL  1998 Winter  1998  Winter          Nagano   \n",
       "271115          Poland  POL  2002 Winter  2002  Winter  Salt Lake City   \n",
       "\n",
       "                Sport                                     Event Medal  \n",
       "0          Basketball               Basketball Men's Basketball   NaN  \n",
       "1                Judo              Judo Men's Extra-Lightweight   NaN  \n",
       "2            Football                   Football Men's Football   NaN  \n",
       "3          Tug-Of-War               Tug-Of-War Men's Tug-Of-War  Gold  \n",
       "4       Speed Skating          Speed Skating Women's 500 metres   NaN  \n",
       "...               ...                                       ...   ...  \n",
       "271111           Luge                Luge Mixed (Men)'s Doubles   NaN  \n",
       "271112    Ski Jumping  Ski Jumping Men's Large Hill, Individual   NaN  \n",
       "271113    Ski Jumping        Ski Jumping Men's Large Hill, Team   NaN  \n",
       "271114      Bobsleigh                      Bobsleigh Men's Four   NaN  \n",
       "271115      Bobsleigh                      Bobsleigh Men's Four   NaN  \n",
       "\n",
       "[271116 rows x 15 columns]"
      ]
     },
     "execution_count": 3,
     "metadata": {},
     "output_type": "execute_result"
    }
   ],
   "source": [
    "ath"
   ]
  },
  {
   "cell_type": "markdown",
   "id": "16c22cb6",
   "metadata": {},
   "source": [
    "## Reading Second Data"
   ]
  },
  {
   "cell_type": "code",
   "execution_count": 4,
   "id": "e31b8b4a",
   "metadata": {},
   "outputs": [],
   "source": [
    "reg=pd.read_csv(r'E:\\edu\\New folder\\noc_regions.csv')"
   ]
  },
  {
   "cell_type": "code",
   "execution_count": 5,
   "id": "a6d1bca6",
   "metadata": {},
   "outputs": [
    {
     "data": {
      "text/html": [
       "<div>\n",
       "<style scoped>\n",
       "    .dataframe tbody tr th:only-of-type {\n",
       "        vertical-align: middle;\n",
       "    }\n",
       "\n",
       "    .dataframe tbody tr th {\n",
       "        vertical-align: top;\n",
       "    }\n",
       "\n",
       "    .dataframe thead th {\n",
       "        text-align: right;\n",
       "    }\n",
       "</style>\n",
       "<table border=\"1\" class=\"dataframe\">\n",
       "  <thead>\n",
       "    <tr style=\"text-align: right;\">\n",
       "      <th></th>\n",
       "      <th>NOC</th>\n",
       "      <th>region</th>\n",
       "      <th>notes</th>\n",
       "    </tr>\n",
       "  </thead>\n",
       "  <tbody>\n",
       "    <tr>\n",
       "      <th>0</th>\n",
       "      <td>AFG</td>\n",
       "      <td>Afghanistan</td>\n",
       "      <td>NaN</td>\n",
       "    </tr>\n",
       "    <tr>\n",
       "      <th>1</th>\n",
       "      <td>AHO</td>\n",
       "      <td>Curacao</td>\n",
       "      <td>Netherlands Antilles</td>\n",
       "    </tr>\n",
       "    <tr>\n",
       "      <th>2</th>\n",
       "      <td>ALB</td>\n",
       "      <td>Albania</td>\n",
       "      <td>NaN</td>\n",
       "    </tr>\n",
       "    <tr>\n",
       "      <th>3</th>\n",
       "      <td>ALG</td>\n",
       "      <td>Algeria</td>\n",
       "      <td>NaN</td>\n",
       "    </tr>\n",
       "    <tr>\n",
       "      <th>4</th>\n",
       "      <td>AND</td>\n",
       "      <td>Andorra</td>\n",
       "      <td>NaN</td>\n",
       "    </tr>\n",
       "    <tr>\n",
       "      <th>...</th>\n",
       "      <td>...</td>\n",
       "      <td>...</td>\n",
       "      <td>...</td>\n",
       "    </tr>\n",
       "    <tr>\n",
       "      <th>225</th>\n",
       "      <td>YEM</td>\n",
       "      <td>Yemen</td>\n",
       "      <td>NaN</td>\n",
       "    </tr>\n",
       "    <tr>\n",
       "      <th>226</th>\n",
       "      <td>YMD</td>\n",
       "      <td>Yemen</td>\n",
       "      <td>South Yemen</td>\n",
       "    </tr>\n",
       "    <tr>\n",
       "      <th>227</th>\n",
       "      <td>YUG</td>\n",
       "      <td>Serbia</td>\n",
       "      <td>Yugoslavia</td>\n",
       "    </tr>\n",
       "    <tr>\n",
       "      <th>228</th>\n",
       "      <td>ZAM</td>\n",
       "      <td>Zambia</td>\n",
       "      <td>NaN</td>\n",
       "    </tr>\n",
       "    <tr>\n",
       "      <th>229</th>\n",
       "      <td>ZIM</td>\n",
       "      <td>Zimbabwe</td>\n",
       "      <td>NaN</td>\n",
       "    </tr>\n",
       "  </tbody>\n",
       "</table>\n",
       "<p>230 rows × 3 columns</p>\n",
       "</div>"
      ],
      "text/plain": [
       "     NOC       region                 notes\n",
       "0    AFG  Afghanistan                   NaN\n",
       "1    AHO      Curacao  Netherlands Antilles\n",
       "2    ALB      Albania                   NaN\n",
       "3    ALG      Algeria                   NaN\n",
       "4    AND      Andorra                   NaN\n",
       "..   ...          ...                   ...\n",
       "225  YEM        Yemen                   NaN\n",
       "226  YMD        Yemen           South Yemen\n",
       "227  YUG       Serbia            Yugoslavia\n",
       "228  ZAM       Zambia                   NaN\n",
       "229  ZIM     Zimbabwe                   NaN\n",
       "\n",
       "[230 rows x 3 columns]"
      ]
     },
     "execution_count": 5,
     "metadata": {},
     "output_type": "execute_result"
    }
   ],
   "source": [
    "reg"
   ]
  },
  {
   "cell_type": "markdown",
   "id": "a69e4914",
   "metadata": {},
   "source": [
    "# Merging Both Data"
   ]
  },
  {
   "cell_type": "code",
   "execution_count": 6,
   "id": "8047d921",
   "metadata": {},
   "outputs": [],
   "source": [
    "ath_df = ath.merge(reg,on = 'NOC' )\n",
    "\n",
    "# on is used for common column that is NOC\n",
    "# how is used to that where we have to merge on left or on right"
   ]
  },
  {
   "cell_type": "code",
   "execution_count": 7,
   "id": "abccb3e6",
   "metadata": {},
   "outputs": [
    {
     "data": {
      "text/html": [
       "<div>\n",
       "<style scoped>\n",
       "    .dataframe tbody tr th:only-of-type {\n",
       "        vertical-align: middle;\n",
       "    }\n",
       "\n",
       "    .dataframe tbody tr th {\n",
       "        vertical-align: top;\n",
       "    }\n",
       "\n",
       "    .dataframe thead th {\n",
       "        text-align: right;\n",
       "    }\n",
       "</style>\n",
       "<table border=\"1\" class=\"dataframe\">\n",
       "  <thead>\n",
       "    <tr style=\"text-align: right;\">\n",
       "      <th></th>\n",
       "      <th>ID</th>\n",
       "      <th>Name</th>\n",
       "      <th>Sex</th>\n",
       "      <th>Age</th>\n",
       "      <th>Height</th>\n",
       "      <th>Weight</th>\n",
       "      <th>Team</th>\n",
       "      <th>NOC</th>\n",
       "      <th>Games</th>\n",
       "      <th>Year</th>\n",
       "      <th>Season</th>\n",
       "      <th>City</th>\n",
       "      <th>Sport</th>\n",
       "      <th>Event</th>\n",
       "      <th>Medal</th>\n",
       "      <th>region</th>\n",
       "      <th>notes</th>\n",
       "    </tr>\n",
       "  </thead>\n",
       "  <tbody>\n",
       "    <tr>\n",
       "      <th>0</th>\n",
       "      <td>1</td>\n",
       "      <td>A Dijiang</td>\n",
       "      <td>M</td>\n",
       "      <td>24.0</td>\n",
       "      <td>180.0</td>\n",
       "      <td>80.0</td>\n",
       "      <td>China</td>\n",
       "      <td>CHN</td>\n",
       "      <td>1992 Summer</td>\n",
       "      <td>1992</td>\n",
       "      <td>Summer</td>\n",
       "      <td>Barcelona</td>\n",
       "      <td>Basketball</td>\n",
       "      <td>Basketball Men's Basketball</td>\n",
       "      <td>NaN</td>\n",
       "      <td>China</td>\n",
       "      <td>NaN</td>\n",
       "    </tr>\n",
       "    <tr>\n",
       "      <th>1</th>\n",
       "      <td>2</td>\n",
       "      <td>A Lamusi</td>\n",
       "      <td>M</td>\n",
       "      <td>23.0</td>\n",
       "      <td>170.0</td>\n",
       "      <td>60.0</td>\n",
       "      <td>China</td>\n",
       "      <td>CHN</td>\n",
       "      <td>2012 Summer</td>\n",
       "      <td>2012</td>\n",
       "      <td>Summer</td>\n",
       "      <td>London</td>\n",
       "      <td>Judo</td>\n",
       "      <td>Judo Men's Extra-Lightweight</td>\n",
       "      <td>NaN</td>\n",
       "      <td>China</td>\n",
       "      <td>NaN</td>\n",
       "    </tr>\n",
       "    <tr>\n",
       "      <th>2</th>\n",
       "      <td>602</td>\n",
       "      <td>Abudoureheman</td>\n",
       "      <td>M</td>\n",
       "      <td>22.0</td>\n",
       "      <td>182.0</td>\n",
       "      <td>75.0</td>\n",
       "      <td>China</td>\n",
       "      <td>CHN</td>\n",
       "      <td>2000 Summer</td>\n",
       "      <td>2000</td>\n",
       "      <td>Summer</td>\n",
       "      <td>Sydney</td>\n",
       "      <td>Boxing</td>\n",
       "      <td>Boxing Men's Middleweight</td>\n",
       "      <td>NaN</td>\n",
       "      <td>China</td>\n",
       "      <td>NaN</td>\n",
       "    </tr>\n",
       "    <tr>\n",
       "      <th>3</th>\n",
       "      <td>1463</td>\n",
       "      <td>Ai Linuer</td>\n",
       "      <td>M</td>\n",
       "      <td>25.0</td>\n",
       "      <td>160.0</td>\n",
       "      <td>62.0</td>\n",
       "      <td>China</td>\n",
       "      <td>CHN</td>\n",
       "      <td>2004 Summer</td>\n",
       "      <td>2004</td>\n",
       "      <td>Summer</td>\n",
       "      <td>Athina</td>\n",
       "      <td>Wrestling</td>\n",
       "      <td>Wrestling Men's Lightweight, Greco-Roman</td>\n",
       "      <td>NaN</td>\n",
       "      <td>China</td>\n",
       "      <td>NaN</td>\n",
       "    </tr>\n",
       "    <tr>\n",
       "      <th>4</th>\n",
       "      <td>1464</td>\n",
       "      <td>Ai Yanhan</td>\n",
       "      <td>F</td>\n",
       "      <td>14.0</td>\n",
       "      <td>168.0</td>\n",
       "      <td>54.0</td>\n",
       "      <td>China</td>\n",
       "      <td>CHN</td>\n",
       "      <td>2016 Summer</td>\n",
       "      <td>2016</td>\n",
       "      <td>Summer</td>\n",
       "      <td>Rio de Janeiro</td>\n",
       "      <td>Swimming</td>\n",
       "      <td>Swimming Women's 200 metres Freestyle</td>\n",
       "      <td>NaN</td>\n",
       "      <td>China</td>\n",
       "      <td>NaN</td>\n",
       "    </tr>\n",
       "    <tr>\n",
       "      <th>...</th>\n",
       "      <td>...</td>\n",
       "      <td>...</td>\n",
       "      <td>...</td>\n",
       "      <td>...</td>\n",
       "      <td>...</td>\n",
       "      <td>...</td>\n",
       "      <td>...</td>\n",
       "      <td>...</td>\n",
       "      <td>...</td>\n",
       "      <td>...</td>\n",
       "      <td>...</td>\n",
       "      <td>...</td>\n",
       "      <td>...</td>\n",
       "      <td>...</td>\n",
       "      <td>...</td>\n",
       "      <td>...</td>\n",
       "      <td>...</td>\n",
       "    </tr>\n",
       "    <tr>\n",
       "      <th>270762</th>\n",
       "      <td>120575</td>\n",
       "      <td>Mamorallo Tjoka</td>\n",
       "      <td>F</td>\n",
       "      <td>23.0</td>\n",
       "      <td>150.0</td>\n",
       "      <td>56.0</td>\n",
       "      <td>Lesotho</td>\n",
       "      <td>LES</td>\n",
       "      <td>2008 Summer</td>\n",
       "      <td>2008</td>\n",
       "      <td>Summer</td>\n",
       "      <td>Beijing</td>\n",
       "      <td>Athletics</td>\n",
       "      <td>Athletics Women's Marathon</td>\n",
       "      <td>NaN</td>\n",
       "      <td>Lesotho</td>\n",
       "      <td>NaN</td>\n",
       "    </tr>\n",
       "    <tr>\n",
       "      <th>270763</th>\n",
       "      <td>120575</td>\n",
       "      <td>Mamorallo Tjoka</td>\n",
       "      <td>F</td>\n",
       "      <td>27.0</td>\n",
       "      <td>150.0</td>\n",
       "      <td>56.0</td>\n",
       "      <td>Lesotho</td>\n",
       "      <td>LES</td>\n",
       "      <td>2012 Summer</td>\n",
       "      <td>2012</td>\n",
       "      <td>Summer</td>\n",
       "      <td>London</td>\n",
       "      <td>Athletics</td>\n",
       "      <td>Athletics Women's Marathon</td>\n",
       "      <td>NaN</td>\n",
       "      <td>Lesotho</td>\n",
       "      <td>NaN</td>\n",
       "    </tr>\n",
       "    <tr>\n",
       "      <th>270764</th>\n",
       "      <td>122166</td>\n",
       "      <td>M'apotlaki Ts'elho</td>\n",
       "      <td>F</td>\n",
       "      <td>15.0</td>\n",
       "      <td>NaN</td>\n",
       "      <td>NaN</td>\n",
       "      <td>Lesotho</td>\n",
       "      <td>LES</td>\n",
       "      <td>1996 Summer</td>\n",
       "      <td>1996</td>\n",
       "      <td>Summer</td>\n",
       "      <td>Atlanta</td>\n",
       "      <td>Athletics</td>\n",
       "      <td>Athletics Women's 4 x 100 metres Relay</td>\n",
       "      <td>NaN</td>\n",
       "      <td>Lesotho</td>\n",
       "      <td>NaN</td>\n",
       "    </tr>\n",
       "    <tr>\n",
       "      <th>270765</th>\n",
       "      <td>122215</td>\n",
       "      <td>Lefa Tsapi</td>\n",
       "      <td>M</td>\n",
       "      <td>23.0</td>\n",
       "      <td>170.0</td>\n",
       "      <td>63.0</td>\n",
       "      <td>Lesotho</td>\n",
       "      <td>LES</td>\n",
       "      <td>1984 Summer</td>\n",
       "      <td>1984</td>\n",
       "      <td>Summer</td>\n",
       "      <td>Los Angeles</td>\n",
       "      <td>Boxing</td>\n",
       "      <td>Boxing Men's Welterweight</td>\n",
       "      <td>NaN</td>\n",
       "      <td>Lesotho</td>\n",
       "      <td>NaN</td>\n",
       "    </tr>\n",
       "    <tr>\n",
       "      <th>270766</th>\n",
       "      <td>122299</td>\n",
       "      <td>Mosolesa Tsie</td>\n",
       "      <td>M</td>\n",
       "      <td>20.0</td>\n",
       "      <td>175.0</td>\n",
       "      <td>75.0</td>\n",
       "      <td>Lesotho</td>\n",
       "      <td>LES</td>\n",
       "      <td>2000 Summer</td>\n",
       "      <td>2000</td>\n",
       "      <td>Summer</td>\n",
       "      <td>Sydney</td>\n",
       "      <td>Boxing</td>\n",
       "      <td>Boxing Men's Welterweight</td>\n",
       "      <td>NaN</td>\n",
       "      <td>Lesotho</td>\n",
       "      <td>NaN</td>\n",
       "    </tr>\n",
       "  </tbody>\n",
       "</table>\n",
       "<p>270767 rows × 17 columns</p>\n",
       "</div>"
      ],
      "text/plain": [
       "            ID                Name Sex   Age  Height  Weight     Team  NOC  \\\n",
       "0            1           A Dijiang   M  24.0   180.0    80.0    China  CHN   \n",
       "1            2            A Lamusi   M  23.0   170.0    60.0    China  CHN   \n",
       "2          602       Abudoureheman   M  22.0   182.0    75.0    China  CHN   \n",
       "3         1463           Ai Linuer   M  25.0   160.0    62.0    China  CHN   \n",
       "4         1464           Ai Yanhan   F  14.0   168.0    54.0    China  CHN   \n",
       "...        ...                 ...  ..   ...     ...     ...      ...  ...   \n",
       "270762  120575     Mamorallo Tjoka   F  23.0   150.0    56.0  Lesotho  LES   \n",
       "270763  120575     Mamorallo Tjoka   F  27.0   150.0    56.0  Lesotho  LES   \n",
       "270764  122166  M'apotlaki Ts'elho   F  15.0     NaN     NaN  Lesotho  LES   \n",
       "270765  122215          Lefa Tsapi   M  23.0   170.0    63.0  Lesotho  LES   \n",
       "270766  122299       Mosolesa Tsie   M  20.0   175.0    75.0  Lesotho  LES   \n",
       "\n",
       "              Games  Year  Season            City       Sport  \\\n",
       "0       1992 Summer  1992  Summer       Barcelona  Basketball   \n",
       "1       2012 Summer  2012  Summer          London        Judo   \n",
       "2       2000 Summer  2000  Summer          Sydney      Boxing   \n",
       "3       2004 Summer  2004  Summer          Athina   Wrestling   \n",
       "4       2016 Summer  2016  Summer  Rio de Janeiro    Swimming   \n",
       "...             ...   ...     ...             ...         ...   \n",
       "270762  2008 Summer  2008  Summer         Beijing   Athletics   \n",
       "270763  2012 Summer  2012  Summer          London   Athletics   \n",
       "270764  1996 Summer  1996  Summer         Atlanta   Athletics   \n",
       "270765  1984 Summer  1984  Summer     Los Angeles      Boxing   \n",
       "270766  2000 Summer  2000  Summer          Sydney      Boxing   \n",
       "\n",
       "                                           Event Medal   region notes  \n",
       "0                    Basketball Men's Basketball   NaN    China   NaN  \n",
       "1                   Judo Men's Extra-Lightweight   NaN    China   NaN  \n",
       "2                      Boxing Men's Middleweight   NaN    China   NaN  \n",
       "3       Wrestling Men's Lightweight, Greco-Roman   NaN    China   NaN  \n",
       "4          Swimming Women's 200 metres Freestyle   NaN    China   NaN  \n",
       "...                                          ...   ...      ...   ...  \n",
       "270762                Athletics Women's Marathon   NaN  Lesotho   NaN  \n",
       "270763                Athletics Women's Marathon   NaN  Lesotho   NaN  \n",
       "270764    Athletics Women's 4 x 100 metres Relay   NaN  Lesotho   NaN  \n",
       "270765                 Boxing Men's Welterweight   NaN  Lesotho   NaN  \n",
       "270766                 Boxing Men's Welterweight   NaN  Lesotho   NaN  \n",
       "\n",
       "[270767 rows x 17 columns]"
      ]
     },
     "execution_count": 7,
     "metadata": {},
     "output_type": "execute_result"
    }
   ],
   "source": [
    "ath_df"
   ]
  },
  {
   "cell_type": "markdown",
   "id": "c9e00286",
   "metadata": {},
   "source": [
    "# Data Cleaning"
   ]
  },
  {
   "cell_type": "markdown",
   "id": "7c1a73d6",
   "metadata": {},
   "source": [
    "## Column Names"
   ]
  },
  {
   "cell_type": "code",
   "execution_count": 8,
   "id": "c115295c",
   "metadata": {},
   "outputs": [
    {
     "data": {
      "text/plain": [
       "Index(['ID', 'Name', 'Sex', 'Age', 'Height', 'Weight', 'Team', 'NOC', 'Games',\n",
       "       'Year', 'Season', 'City', 'Sport', 'Event', 'Medal', 'region', 'notes'],\n",
       "      dtype='object')"
      ]
     },
     "execution_count": 8,
     "metadata": {},
     "output_type": "execute_result"
    }
   ],
   "source": [
    "ath_df.columns "
   ]
  },
  {
   "cell_type": "markdown",
   "id": "6940a8cb",
   "metadata": {},
   "source": [
    "## Checking unique values"
   ]
  },
  {
   "cell_type": "code",
   "execution_count": 9,
   "id": "02608ac1",
   "metadata": {},
   "outputs": [
    {
     "data": {
      "text/plain": [
       "ID        135404\n",
       "Name      134566\n",
       "Sex            2\n",
       "Age           74\n",
       "Height        95\n",
       "Weight       220\n",
       "Team        1179\n",
       "NOC          229\n",
       "Games         51\n",
       "Year          35\n",
       "Season         2\n",
       "City          42\n",
       "Sport         66\n",
       "Event        765\n",
       "Medal          3\n",
       "region       205\n",
       "notes         21\n",
       "dtype: int64"
      ]
     },
     "execution_count": 9,
     "metadata": {},
     "output_type": "execute_result"
    }
   ],
   "source": [
    "ath_df.nunique()"
   ]
  },
  {
   "cell_type": "markdown",
   "id": "56ecebc3",
   "metadata": {},
   "source": [
    "## Top 5 Rows"
   ]
  },
  {
   "cell_type": "code",
   "execution_count": 10,
   "id": "68187e95",
   "metadata": {},
   "outputs": [
    {
     "data": {
      "text/html": [
       "<div>\n",
       "<style scoped>\n",
       "    .dataframe tbody tr th:only-of-type {\n",
       "        vertical-align: middle;\n",
       "    }\n",
       "\n",
       "    .dataframe tbody tr th {\n",
       "        vertical-align: top;\n",
       "    }\n",
       "\n",
       "    .dataframe thead th {\n",
       "        text-align: right;\n",
       "    }\n",
       "</style>\n",
       "<table border=\"1\" class=\"dataframe\">\n",
       "  <thead>\n",
       "    <tr style=\"text-align: right;\">\n",
       "      <th></th>\n",
       "      <th>ID</th>\n",
       "      <th>Name</th>\n",
       "      <th>Sex</th>\n",
       "      <th>Age</th>\n",
       "      <th>Height</th>\n",
       "      <th>Weight</th>\n",
       "      <th>Team</th>\n",
       "      <th>NOC</th>\n",
       "      <th>Games</th>\n",
       "      <th>Year</th>\n",
       "      <th>Season</th>\n",
       "      <th>City</th>\n",
       "      <th>Sport</th>\n",
       "      <th>Event</th>\n",
       "      <th>Medal</th>\n",
       "      <th>region</th>\n",
       "      <th>notes</th>\n",
       "    </tr>\n",
       "  </thead>\n",
       "  <tbody>\n",
       "    <tr>\n",
       "      <th>0</th>\n",
       "      <td>1</td>\n",
       "      <td>A Dijiang</td>\n",
       "      <td>M</td>\n",
       "      <td>24.0</td>\n",
       "      <td>180.0</td>\n",
       "      <td>80.0</td>\n",
       "      <td>China</td>\n",
       "      <td>CHN</td>\n",
       "      <td>1992 Summer</td>\n",
       "      <td>1992</td>\n",
       "      <td>Summer</td>\n",
       "      <td>Barcelona</td>\n",
       "      <td>Basketball</td>\n",
       "      <td>Basketball Men's Basketball</td>\n",
       "      <td>NaN</td>\n",
       "      <td>China</td>\n",
       "      <td>NaN</td>\n",
       "    </tr>\n",
       "    <tr>\n",
       "      <th>1</th>\n",
       "      <td>2</td>\n",
       "      <td>A Lamusi</td>\n",
       "      <td>M</td>\n",
       "      <td>23.0</td>\n",
       "      <td>170.0</td>\n",
       "      <td>60.0</td>\n",
       "      <td>China</td>\n",
       "      <td>CHN</td>\n",
       "      <td>2012 Summer</td>\n",
       "      <td>2012</td>\n",
       "      <td>Summer</td>\n",
       "      <td>London</td>\n",
       "      <td>Judo</td>\n",
       "      <td>Judo Men's Extra-Lightweight</td>\n",
       "      <td>NaN</td>\n",
       "      <td>China</td>\n",
       "      <td>NaN</td>\n",
       "    </tr>\n",
       "    <tr>\n",
       "      <th>2</th>\n",
       "      <td>602</td>\n",
       "      <td>Abudoureheman</td>\n",
       "      <td>M</td>\n",
       "      <td>22.0</td>\n",
       "      <td>182.0</td>\n",
       "      <td>75.0</td>\n",
       "      <td>China</td>\n",
       "      <td>CHN</td>\n",
       "      <td>2000 Summer</td>\n",
       "      <td>2000</td>\n",
       "      <td>Summer</td>\n",
       "      <td>Sydney</td>\n",
       "      <td>Boxing</td>\n",
       "      <td>Boxing Men's Middleweight</td>\n",
       "      <td>NaN</td>\n",
       "      <td>China</td>\n",
       "      <td>NaN</td>\n",
       "    </tr>\n",
       "    <tr>\n",
       "      <th>3</th>\n",
       "      <td>1463</td>\n",
       "      <td>Ai Linuer</td>\n",
       "      <td>M</td>\n",
       "      <td>25.0</td>\n",
       "      <td>160.0</td>\n",
       "      <td>62.0</td>\n",
       "      <td>China</td>\n",
       "      <td>CHN</td>\n",
       "      <td>2004 Summer</td>\n",
       "      <td>2004</td>\n",
       "      <td>Summer</td>\n",
       "      <td>Athina</td>\n",
       "      <td>Wrestling</td>\n",
       "      <td>Wrestling Men's Lightweight, Greco-Roman</td>\n",
       "      <td>NaN</td>\n",
       "      <td>China</td>\n",
       "      <td>NaN</td>\n",
       "    </tr>\n",
       "    <tr>\n",
       "      <th>4</th>\n",
       "      <td>1464</td>\n",
       "      <td>Ai Yanhan</td>\n",
       "      <td>F</td>\n",
       "      <td>14.0</td>\n",
       "      <td>168.0</td>\n",
       "      <td>54.0</td>\n",
       "      <td>China</td>\n",
       "      <td>CHN</td>\n",
       "      <td>2016 Summer</td>\n",
       "      <td>2016</td>\n",
       "      <td>Summer</td>\n",
       "      <td>Rio de Janeiro</td>\n",
       "      <td>Swimming</td>\n",
       "      <td>Swimming Women's 200 metres Freestyle</td>\n",
       "      <td>NaN</td>\n",
       "      <td>China</td>\n",
       "      <td>NaN</td>\n",
       "    </tr>\n",
       "  </tbody>\n",
       "</table>\n",
       "</div>"
      ],
      "text/plain": [
       "     ID           Name Sex   Age  Height  Weight   Team  NOC        Games  \\\n",
       "0     1      A Dijiang   M  24.0   180.0    80.0  China  CHN  1992 Summer   \n",
       "1     2       A Lamusi   M  23.0   170.0    60.0  China  CHN  2012 Summer   \n",
       "2   602  Abudoureheman   M  22.0   182.0    75.0  China  CHN  2000 Summer   \n",
       "3  1463      Ai Linuer   M  25.0   160.0    62.0  China  CHN  2004 Summer   \n",
       "4  1464      Ai Yanhan   F  14.0   168.0    54.0  China  CHN  2016 Summer   \n",
       "\n",
       "   Year  Season            City       Sport  \\\n",
       "0  1992  Summer       Barcelona  Basketball   \n",
       "1  2012  Summer          London        Judo   \n",
       "2  2000  Summer          Sydney      Boxing   \n",
       "3  2004  Summer          Athina   Wrestling   \n",
       "4  2016  Summer  Rio de Janeiro    Swimming   \n",
       "\n",
       "                                      Event Medal region notes  \n",
       "0               Basketball Men's Basketball   NaN  China   NaN  \n",
       "1              Judo Men's Extra-Lightweight   NaN  China   NaN  \n",
       "2                 Boxing Men's Middleweight   NaN  China   NaN  \n",
       "3  Wrestling Men's Lightweight, Greco-Roman   NaN  China   NaN  \n",
       "4     Swimming Women's 200 metres Freestyle   NaN  China   NaN  "
      ]
     },
     "execution_count": 10,
     "metadata": {},
     "output_type": "execute_result"
    }
   ],
   "source": [
    "ath_df.head(5)"
   ]
  },
  {
   "cell_type": "markdown",
   "id": "f73bf754",
   "metadata": {},
   "source": [
    "## Bottom 5 Rows"
   ]
  },
  {
   "cell_type": "code",
   "execution_count": 11,
   "id": "b96960a5",
   "metadata": {},
   "outputs": [
    {
     "data": {
      "text/html": [
       "<div>\n",
       "<style scoped>\n",
       "    .dataframe tbody tr th:only-of-type {\n",
       "        vertical-align: middle;\n",
       "    }\n",
       "\n",
       "    .dataframe tbody tr th {\n",
       "        vertical-align: top;\n",
       "    }\n",
       "\n",
       "    .dataframe thead th {\n",
       "        text-align: right;\n",
       "    }\n",
       "</style>\n",
       "<table border=\"1\" class=\"dataframe\">\n",
       "  <thead>\n",
       "    <tr style=\"text-align: right;\">\n",
       "      <th></th>\n",
       "      <th>ID</th>\n",
       "      <th>Name</th>\n",
       "      <th>Sex</th>\n",
       "      <th>Age</th>\n",
       "      <th>Height</th>\n",
       "      <th>Weight</th>\n",
       "      <th>Team</th>\n",
       "      <th>NOC</th>\n",
       "      <th>Games</th>\n",
       "      <th>Year</th>\n",
       "      <th>Season</th>\n",
       "      <th>City</th>\n",
       "      <th>Sport</th>\n",
       "      <th>Event</th>\n",
       "      <th>Medal</th>\n",
       "      <th>region</th>\n",
       "      <th>notes</th>\n",
       "    </tr>\n",
       "  </thead>\n",
       "  <tbody>\n",
       "    <tr>\n",
       "      <th>270762</th>\n",
       "      <td>120575</td>\n",
       "      <td>Mamorallo Tjoka</td>\n",
       "      <td>F</td>\n",
       "      <td>23.0</td>\n",
       "      <td>150.0</td>\n",
       "      <td>56.0</td>\n",
       "      <td>Lesotho</td>\n",
       "      <td>LES</td>\n",
       "      <td>2008 Summer</td>\n",
       "      <td>2008</td>\n",
       "      <td>Summer</td>\n",
       "      <td>Beijing</td>\n",
       "      <td>Athletics</td>\n",
       "      <td>Athletics Women's Marathon</td>\n",
       "      <td>NaN</td>\n",
       "      <td>Lesotho</td>\n",
       "      <td>NaN</td>\n",
       "    </tr>\n",
       "    <tr>\n",
       "      <th>270763</th>\n",
       "      <td>120575</td>\n",
       "      <td>Mamorallo Tjoka</td>\n",
       "      <td>F</td>\n",
       "      <td>27.0</td>\n",
       "      <td>150.0</td>\n",
       "      <td>56.0</td>\n",
       "      <td>Lesotho</td>\n",
       "      <td>LES</td>\n",
       "      <td>2012 Summer</td>\n",
       "      <td>2012</td>\n",
       "      <td>Summer</td>\n",
       "      <td>London</td>\n",
       "      <td>Athletics</td>\n",
       "      <td>Athletics Women's Marathon</td>\n",
       "      <td>NaN</td>\n",
       "      <td>Lesotho</td>\n",
       "      <td>NaN</td>\n",
       "    </tr>\n",
       "    <tr>\n",
       "      <th>270764</th>\n",
       "      <td>122166</td>\n",
       "      <td>M'apotlaki Ts'elho</td>\n",
       "      <td>F</td>\n",
       "      <td>15.0</td>\n",
       "      <td>NaN</td>\n",
       "      <td>NaN</td>\n",
       "      <td>Lesotho</td>\n",
       "      <td>LES</td>\n",
       "      <td>1996 Summer</td>\n",
       "      <td>1996</td>\n",
       "      <td>Summer</td>\n",
       "      <td>Atlanta</td>\n",
       "      <td>Athletics</td>\n",
       "      <td>Athletics Women's 4 x 100 metres Relay</td>\n",
       "      <td>NaN</td>\n",
       "      <td>Lesotho</td>\n",
       "      <td>NaN</td>\n",
       "    </tr>\n",
       "    <tr>\n",
       "      <th>270765</th>\n",
       "      <td>122215</td>\n",
       "      <td>Lefa Tsapi</td>\n",
       "      <td>M</td>\n",
       "      <td>23.0</td>\n",
       "      <td>170.0</td>\n",
       "      <td>63.0</td>\n",
       "      <td>Lesotho</td>\n",
       "      <td>LES</td>\n",
       "      <td>1984 Summer</td>\n",
       "      <td>1984</td>\n",
       "      <td>Summer</td>\n",
       "      <td>Los Angeles</td>\n",
       "      <td>Boxing</td>\n",
       "      <td>Boxing Men's Welterweight</td>\n",
       "      <td>NaN</td>\n",
       "      <td>Lesotho</td>\n",
       "      <td>NaN</td>\n",
       "    </tr>\n",
       "    <tr>\n",
       "      <th>270766</th>\n",
       "      <td>122299</td>\n",
       "      <td>Mosolesa Tsie</td>\n",
       "      <td>M</td>\n",
       "      <td>20.0</td>\n",
       "      <td>175.0</td>\n",
       "      <td>75.0</td>\n",
       "      <td>Lesotho</td>\n",
       "      <td>LES</td>\n",
       "      <td>2000 Summer</td>\n",
       "      <td>2000</td>\n",
       "      <td>Summer</td>\n",
       "      <td>Sydney</td>\n",
       "      <td>Boxing</td>\n",
       "      <td>Boxing Men's Welterweight</td>\n",
       "      <td>NaN</td>\n",
       "      <td>Lesotho</td>\n",
       "      <td>NaN</td>\n",
       "    </tr>\n",
       "  </tbody>\n",
       "</table>\n",
       "</div>"
      ],
      "text/plain": [
       "            ID                Name Sex   Age  Height  Weight     Team  NOC  \\\n",
       "270762  120575     Mamorallo Tjoka   F  23.0   150.0    56.0  Lesotho  LES   \n",
       "270763  120575     Mamorallo Tjoka   F  27.0   150.0    56.0  Lesotho  LES   \n",
       "270764  122166  M'apotlaki Ts'elho   F  15.0     NaN     NaN  Lesotho  LES   \n",
       "270765  122215          Lefa Tsapi   M  23.0   170.0    63.0  Lesotho  LES   \n",
       "270766  122299       Mosolesa Tsie   M  20.0   175.0    75.0  Lesotho  LES   \n",
       "\n",
       "              Games  Year  Season         City      Sport  \\\n",
       "270762  2008 Summer  2008  Summer      Beijing  Athletics   \n",
       "270763  2012 Summer  2012  Summer       London  Athletics   \n",
       "270764  1996 Summer  1996  Summer      Atlanta  Athletics   \n",
       "270765  1984 Summer  1984  Summer  Los Angeles     Boxing   \n",
       "270766  2000 Summer  2000  Summer       Sydney     Boxing   \n",
       "\n",
       "                                         Event Medal   region notes  \n",
       "270762              Athletics Women's Marathon   NaN  Lesotho   NaN  \n",
       "270763              Athletics Women's Marathon   NaN  Lesotho   NaN  \n",
       "270764  Athletics Women's 4 x 100 metres Relay   NaN  Lesotho   NaN  \n",
       "270765               Boxing Men's Welterweight   NaN  Lesotho   NaN  \n",
       "270766               Boxing Men's Welterweight   NaN  Lesotho   NaN  "
      ]
     },
     "execution_count": 11,
     "metadata": {},
     "output_type": "execute_result"
    }
   ],
   "source": [
    "ath_df.tail(5)"
   ]
  },
  {
   "cell_type": "markdown",
   "id": "e1334ced",
   "metadata": {},
   "source": [
    "## shape of dataset"
   ]
  },
  {
   "cell_type": "code",
   "execution_count": 12,
   "id": "c12e80ba",
   "metadata": {},
   "outputs": [
    {
     "data": {
      "text/plain": [
       "(270767, 17)"
      ]
     },
     "execution_count": 12,
     "metadata": {},
     "output_type": "execute_result"
    }
   ],
   "source": [
    "ath_df.shape"
   ]
  },
  {
   "cell_type": "markdown",
   "id": "67e52ed4",
   "metadata": {},
   "source": [
    "## Rename columns"
   ]
  },
  {
   "cell_type": "code",
   "execution_count": 13,
   "id": "68eb6909",
   "metadata": {},
   "outputs": [],
   "source": [
    "ath_df.rename(columns={'region':'Region','notes':'Notes'},inplace=True)"
   ]
  },
  {
   "cell_type": "markdown",
   "id": "d3713670",
   "metadata": {},
   "source": [
    "## information about data"
   ]
  },
  {
   "cell_type": "code",
   "execution_count": 14,
   "id": "a99f536c",
   "metadata": {},
   "outputs": [
    {
     "name": "stdout",
     "output_type": "stream",
     "text": [
      "<class 'pandas.core.frame.DataFrame'>\n",
      "Int64Index: 270767 entries, 0 to 270766\n",
      "Data columns (total 17 columns):\n",
      " #   Column  Non-Null Count   Dtype  \n",
      "---  ------  --------------   -----  \n",
      " 0   ID      270767 non-null  int64  \n",
      " 1   Name    270767 non-null  object \n",
      " 2   Sex     270767 non-null  object \n",
      " 3   Age     261305 non-null  float64\n",
      " 4   Height  210684 non-null  float64\n",
      " 5   Weight  207982 non-null  float64\n",
      " 6   Team    270767 non-null  object \n",
      " 7   NOC     270767 non-null  object \n",
      " 8   Games   270767 non-null  object \n",
      " 9   Year    270767 non-null  int64  \n",
      " 10  Season  270767 non-null  object \n",
      " 11  City    270767 non-null  object \n",
      " 12  Sport   270767 non-null  object \n",
      " 13  Event   270767 non-null  object \n",
      " 14  Medal   39774 non-null   object \n",
      " 15  Region  270746 non-null  object \n",
      " 16  Notes   5039 non-null    object \n",
      "dtypes: float64(3), int64(2), object(12)\n",
      "memory usage: 37.2+ MB\n"
     ]
    }
   ],
   "source": [
    "ath_df.info()"
   ]
  },
  {
   "cell_type": "markdown",
   "id": "16ad9d53",
   "metadata": {},
   "source": [
    "## stastical information"
   ]
  },
  {
   "cell_type": "code",
   "execution_count": 15,
   "id": "bdd84698",
   "metadata": {},
   "outputs": [
    {
     "data": {
      "text/html": [
       "<div>\n",
       "<style scoped>\n",
       "    .dataframe tbody tr th:only-of-type {\n",
       "        vertical-align: middle;\n",
       "    }\n",
       "\n",
       "    .dataframe tbody tr th {\n",
       "        vertical-align: top;\n",
       "    }\n",
       "\n",
       "    .dataframe thead th {\n",
       "        text-align: right;\n",
       "    }\n",
       "</style>\n",
       "<table border=\"1\" class=\"dataframe\">\n",
       "  <thead>\n",
       "    <tr style=\"text-align: right;\">\n",
       "      <th></th>\n",
       "      <th>ID</th>\n",
       "      <th>Age</th>\n",
       "      <th>Height</th>\n",
       "      <th>Weight</th>\n",
       "      <th>Year</th>\n",
       "    </tr>\n",
       "  </thead>\n",
       "  <tbody>\n",
       "    <tr>\n",
       "      <th>count</th>\n",
       "      <td>270767.000000</td>\n",
       "      <td>261305.000000</td>\n",
       "      <td>210684.000000</td>\n",
       "      <td>207982.000000</td>\n",
       "      <td>270767.000000</td>\n",
       "    </tr>\n",
       "    <tr>\n",
       "      <th>mean</th>\n",
       "      <td>68229.276832</td>\n",
       "      <td>25.559783</td>\n",
       "      <td>175.344250</td>\n",
       "      <td>70.709523</td>\n",
       "      <td>1978.362297</td>\n",
       "    </tr>\n",
       "    <tr>\n",
       "      <th>std</th>\n",
       "      <td>39017.998824</td>\n",
       "      <td>6.392501</td>\n",
       "      <td>10.519556</td>\n",
       "      <td>14.350094</td>\n",
       "      <td>29.884637</td>\n",
       "    </tr>\n",
       "    <tr>\n",
       "      <th>min</th>\n",
       "      <td>1.000000</td>\n",
       "      <td>10.000000</td>\n",
       "      <td>127.000000</td>\n",
       "      <td>25.000000</td>\n",
       "      <td>1896.000000</td>\n",
       "    </tr>\n",
       "    <tr>\n",
       "      <th>25%</th>\n",
       "      <td>34630.500000</td>\n",
       "      <td>21.000000</td>\n",
       "      <td>168.000000</td>\n",
       "      <td>60.000000</td>\n",
       "      <td>1960.000000</td>\n",
       "    </tr>\n",
       "    <tr>\n",
       "      <th>50%</th>\n",
       "      <td>68187.000000</td>\n",
       "      <td>24.000000</td>\n",
       "      <td>175.000000</td>\n",
       "      <td>70.000000</td>\n",
       "      <td>1988.000000</td>\n",
       "    </tr>\n",
       "    <tr>\n",
       "      <th>75%</th>\n",
       "      <td>102065.500000</td>\n",
       "      <td>28.000000</td>\n",
       "      <td>183.000000</td>\n",
       "      <td>79.000000</td>\n",
       "      <td>2002.000000</td>\n",
       "    </tr>\n",
       "    <tr>\n",
       "      <th>max</th>\n",
       "      <td>135571.000000</td>\n",
       "      <td>97.000000</td>\n",
       "      <td>226.000000</td>\n",
       "      <td>214.000000</td>\n",
       "      <td>2016.000000</td>\n",
       "    </tr>\n",
       "  </tbody>\n",
       "</table>\n",
       "</div>"
      ],
      "text/plain": [
       "                  ID            Age         Height         Weight  \\\n",
       "count  270767.000000  261305.000000  210684.000000  207982.000000   \n",
       "mean    68229.276832      25.559783     175.344250      70.709523   \n",
       "std     39017.998824       6.392501      10.519556      14.350094   \n",
       "min         1.000000      10.000000     127.000000      25.000000   \n",
       "25%     34630.500000      21.000000     168.000000      60.000000   \n",
       "50%     68187.000000      24.000000     175.000000      70.000000   \n",
       "75%    102065.500000      28.000000     183.000000      79.000000   \n",
       "max    135571.000000      97.000000     226.000000     214.000000   \n",
       "\n",
       "                Year  \n",
       "count  270767.000000  \n",
       "mean     1978.362297  \n",
       "std        29.884637  \n",
       "min      1896.000000  \n",
       "25%      1960.000000  \n",
       "50%      1988.000000  \n",
       "75%      2002.000000  \n",
       "max      2016.000000  "
      ]
     },
     "execution_count": 15,
     "metadata": {},
     "output_type": "execute_result"
    }
   ],
   "source": [
    "ath_df.describe()"
   ]
  },
  {
   "cell_type": "markdown",
   "id": "60e840c2",
   "metadata": {},
   "source": [
    "## Datatypes"
   ]
  },
  {
   "cell_type": "code",
   "execution_count": 16,
   "id": "526a37f5",
   "metadata": {},
   "outputs": [
    {
     "data": {
      "text/plain": [
       "ID          int64\n",
       "Name       object\n",
       "Sex        object\n",
       "Age       float64\n",
       "Height    float64\n",
       "Weight    float64\n",
       "Team       object\n",
       "NOC        object\n",
       "Games      object\n",
       "Year        int64\n",
       "Season     object\n",
       "City       object\n",
       "Sport      object\n",
       "Event      object\n",
       "Medal      object\n",
       "Region     object\n",
       "Notes      object\n",
       "dtype: object"
      ]
     },
     "execution_count": 16,
     "metadata": {},
     "output_type": "execute_result"
    }
   ],
   "source": [
    "ath_df.dtypes"
   ]
  },
  {
   "cell_type": "markdown",
   "id": "e546a825",
   "metadata": {},
   "source": [
    "## Droping Column"
   ]
  },
  {
   "cell_type": "code",
   "execution_count": 17,
   "id": "72bcc4a2",
   "metadata": {},
   "outputs": [],
   "source": [
    "ath_df.drop(['Notes'],axis=1,inplace=True)"
   ]
  },
  {
   "cell_type": "markdown",
   "id": "b5c0b046",
   "metadata": {},
   "source": [
    "## Checking null values"
   ]
  },
  {
   "cell_type": "code",
   "execution_count": 18,
   "id": "97b07f62",
   "metadata": {},
   "outputs": [
    {
     "data": {
      "text/plain": [
       "ID             0\n",
       "Name           0\n",
       "Sex            0\n",
       "Age         9462\n",
       "Height     60083\n",
       "Weight     62785\n",
       "Team           0\n",
       "NOC            0\n",
       "Games          0\n",
       "Year           0\n",
       "Season         0\n",
       "City           0\n",
       "Sport          0\n",
       "Event          0\n",
       "Medal     230993\n",
       "Region        21\n",
       "dtype: int64"
      ]
     },
     "execution_count": 18,
     "metadata": {},
     "output_type": "execute_result"
    }
   ],
   "source": [
    "ath_df.isna().sum() "
   ]
  },
  {
   "cell_type": "markdown",
   "id": "cb5f0257",
   "metadata": {},
   "source": [
    "## Filling null value"
   ]
  },
  {
   "cell_type": "code",
   "execution_count": 19,
   "id": "eea8a936",
   "metadata": {},
   "outputs": [],
   "source": [
    "\n",
    "ath_df['Age'].fillna('0',inplace=True)\n",
    "ath_df['Height'].fillna('0',inplace=True)\n",
    "ath_df['Weight'].fillna('0',inplace=True)\n",
    "ath_df['Medal'].fillna('No Medal',inplace=True)\n",
    "ath_df['Region'].fillna('No region',inplace=True)"
   ]
  },
  {
   "cell_type": "code",
   "execution_count": 20,
   "id": "fbd8304d",
   "metadata": {},
   "outputs": [
    {
     "data": {
      "text/plain": [
       "ID        0\n",
       "Name      0\n",
       "Sex       0\n",
       "Age       0\n",
       "Height    0\n",
       "Weight    0\n",
       "Team      0\n",
       "NOC       0\n",
       "Games     0\n",
       "Year      0\n",
       "Season    0\n",
       "City      0\n",
       "Sport     0\n",
       "Event     0\n",
       "Medal     0\n",
       "Region    0\n",
       "dtype: int64"
      ]
     },
     "execution_count": 20,
     "metadata": {},
     "output_type": "execute_result"
    }
   ],
   "source": [
    "ath_df.isna().sum()"
   ]
  },
  {
   "cell_type": "markdown",
   "id": "887eccbc",
   "metadata": {},
   "source": [
    "# Exploratory Data Analysis"
   ]
  },
  {
   "cell_type": "markdown",
   "id": "923297a9",
   "metadata": {},
   "source": [
    "## athlets participated from india in oympics"
   ]
  },
  {
   "cell_type": "code",
   "execution_count": 21,
   "id": "7042b6d5",
   "metadata": {},
   "outputs": [
    {
     "data": {
      "text/html": [
       "<div>\n",
       "<style scoped>\n",
       "    .dataframe tbody tr th:only-of-type {\n",
       "        vertical-align: middle;\n",
       "    }\n",
       "\n",
       "    .dataframe tbody tr th {\n",
       "        vertical-align: top;\n",
       "    }\n",
       "\n",
       "    .dataframe thead th {\n",
       "        text-align: right;\n",
       "    }\n",
       "</style>\n",
       "<table border=\"1\" class=\"dataframe\">\n",
       "  <thead>\n",
       "    <tr style=\"text-align: right;\">\n",
       "      <th></th>\n",
       "      <th>ID</th>\n",
       "      <th>Name</th>\n",
       "      <th>Sex</th>\n",
       "      <th>Age</th>\n",
       "      <th>Height</th>\n",
       "      <th>Weight</th>\n",
       "      <th>Team</th>\n",
       "      <th>NOC</th>\n",
       "      <th>Games</th>\n",
       "      <th>Year</th>\n",
       "      <th>Season</th>\n",
       "      <th>City</th>\n",
       "      <th>Sport</th>\n",
       "      <th>Event</th>\n",
       "      <th>Medal</th>\n",
       "      <th>Region</th>\n",
       "    </tr>\n",
       "  </thead>\n",
       "  <tbody>\n",
       "    <tr>\n",
       "      <th>159083</th>\n",
       "      <td>281</td>\n",
       "      <td>S. Abdul Hamid</td>\n",
       "      <td>M</td>\n",
       "      <td>0</td>\n",
       "      <td>0</td>\n",
       "      <td>0</td>\n",
       "      <td>India</td>\n",
       "      <td>IND</td>\n",
       "      <td>1928 Summer</td>\n",
       "      <td>1928</td>\n",
       "      <td>Summer</td>\n",
       "      <td>Amsterdam</td>\n",
       "      <td>Athletics</td>\n",
       "      <td>Athletics Men's 110 metres Hurdles</td>\n",
       "      <td>No Medal</td>\n",
       "      <td>India</td>\n",
       "    </tr>\n",
       "    <tr>\n",
       "      <th>159084</th>\n",
       "      <td>281</td>\n",
       "      <td>S. Abdul Hamid</td>\n",
       "      <td>M</td>\n",
       "      <td>0</td>\n",
       "      <td>0</td>\n",
       "      <td>0</td>\n",
       "      <td>India</td>\n",
       "      <td>IND</td>\n",
       "      <td>1928 Summer</td>\n",
       "      <td>1928</td>\n",
       "      <td>Summer</td>\n",
       "      <td>Amsterdam</td>\n",
       "      <td>Athletics</td>\n",
       "      <td>Athletics Men's 400 metres Hurdles</td>\n",
       "      <td>No Medal</td>\n",
       "      <td>India</td>\n",
       "    </tr>\n",
       "    <tr>\n",
       "      <th>159085</th>\n",
       "      <td>512</td>\n",
       "      <td>Shiny Kurisingal Abraham-Wilson</td>\n",
       "      <td>F</td>\n",
       "      <td>19.0</td>\n",
       "      <td>167.0</td>\n",
       "      <td>53.0</td>\n",
       "      <td>India</td>\n",
       "      <td>IND</td>\n",
       "      <td>1984 Summer</td>\n",
       "      <td>1984</td>\n",
       "      <td>Summer</td>\n",
       "      <td>Los Angeles</td>\n",
       "      <td>Athletics</td>\n",
       "      <td>Athletics Women's 800 metres</td>\n",
       "      <td>No Medal</td>\n",
       "      <td>India</td>\n",
       "    </tr>\n",
       "    <tr>\n",
       "      <th>159086</th>\n",
       "      <td>512</td>\n",
       "      <td>Shiny Kurisingal Abraham-Wilson</td>\n",
       "      <td>F</td>\n",
       "      <td>19.0</td>\n",
       "      <td>167.0</td>\n",
       "      <td>53.0</td>\n",
       "      <td>India</td>\n",
       "      <td>IND</td>\n",
       "      <td>1984 Summer</td>\n",
       "      <td>1984</td>\n",
       "      <td>Summer</td>\n",
       "      <td>Los Angeles</td>\n",
       "      <td>Athletics</td>\n",
       "      <td>Athletics Women's 4 x 400 metres Relay</td>\n",
       "      <td>No Medal</td>\n",
       "      <td>India</td>\n",
       "    </tr>\n",
       "    <tr>\n",
       "      <th>159087</th>\n",
       "      <td>512</td>\n",
       "      <td>Shiny Kurisingal Abraham-Wilson</td>\n",
       "      <td>F</td>\n",
       "      <td>23.0</td>\n",
       "      <td>167.0</td>\n",
       "      <td>53.0</td>\n",
       "      <td>India</td>\n",
       "      <td>IND</td>\n",
       "      <td>1988 Summer</td>\n",
       "      <td>1988</td>\n",
       "      <td>Summer</td>\n",
       "      <td>Seoul</td>\n",
       "      <td>Athletics</td>\n",
       "      <td>Athletics Women's 800 metres</td>\n",
       "      <td>No Medal</td>\n",
       "      <td>India</td>\n",
       "    </tr>\n",
       "    <tr>\n",
       "      <th>...</th>\n",
       "      <td>...</td>\n",
       "      <td>...</td>\n",
       "      <td>...</td>\n",
       "      <td>...</td>\n",
       "      <td>...</td>\n",
       "      <td>...</td>\n",
       "      <td>...</td>\n",
       "      <td>...</td>\n",
       "      <td>...</td>\n",
       "      <td>...</td>\n",
       "      <td>...</td>\n",
       "      <td>...</td>\n",
       "      <td>...</td>\n",
       "      <td>...</td>\n",
       "      <td>...</td>\n",
       "      <td>...</td>\n",
       "    </tr>\n",
       "    <tr>\n",
       "      <th>160486</th>\n",
       "      <td>132177</td>\n",
       "      <td>Mohammad Anas Yahiya</td>\n",
       "      <td>M</td>\n",
       "      <td>21.0</td>\n",
       "      <td>177.0</td>\n",
       "      <td>69.0</td>\n",
       "      <td>India</td>\n",
       "      <td>IND</td>\n",
       "      <td>2016 Summer</td>\n",
       "      <td>2016</td>\n",
       "      <td>Summer</td>\n",
       "      <td>Rio de Janeiro</td>\n",
       "      <td>Athletics</td>\n",
       "      <td>Athletics Men's 4 x 400 metres Relay</td>\n",
       "      <td>No Medal</td>\n",
       "      <td>India</td>\n",
       "    </tr>\n",
       "    <tr>\n",
       "      <th>160487</th>\n",
       "      <td>133029</td>\n",
       "      <td>Thyadathuvilla Chandrapillai \"T. C.\" Yohannan</td>\n",
       "      <td>M</td>\n",
       "      <td>29.0</td>\n",
       "      <td>174.0</td>\n",
       "      <td>62.0</td>\n",
       "      <td>India</td>\n",
       "      <td>IND</td>\n",
       "      <td>1976 Summer</td>\n",
       "      <td>1976</td>\n",
       "      <td>Summer</td>\n",
       "      <td>Montreal</td>\n",
       "      <td>Athletics</td>\n",
       "      <td>Athletics Men's Long Jump</td>\n",
       "      <td>No Medal</td>\n",
       "      <td>India</td>\n",
       "    </tr>\n",
       "    <tr>\n",
       "      <th>160488</th>\n",
       "      <td>133554</td>\n",
       "      <td>Sayed Muhammad Yusuf</td>\n",
       "      <td>M</td>\n",
       "      <td>0</td>\n",
       "      <td>0</td>\n",
       "      <td>0</td>\n",
       "      <td>India</td>\n",
       "      <td>IND</td>\n",
       "      <td>1928 Summer</td>\n",
       "      <td>1928</td>\n",
       "      <td>Summer</td>\n",
       "      <td>Amsterdam</td>\n",
       "      <td>Hockey</td>\n",
       "      <td>Hockey Men's Hockey</td>\n",
       "      <td>Gold</td>\n",
       "      <td>India</td>\n",
       "    </tr>\n",
       "    <tr>\n",
       "      <th>160489</th>\n",
       "      <td>135480</td>\n",
       "      <td>Geeta Zutshi</td>\n",
       "      <td>F</td>\n",
       "      <td>23.0</td>\n",
       "      <td>167.0</td>\n",
       "      <td>51.0</td>\n",
       "      <td>India</td>\n",
       "      <td>IND</td>\n",
       "      <td>1980 Summer</td>\n",
       "      <td>1980</td>\n",
       "      <td>Summer</td>\n",
       "      <td>Moskva</td>\n",
       "      <td>Athletics</td>\n",
       "      <td>Athletics Women's 800 metres</td>\n",
       "      <td>No Medal</td>\n",
       "      <td>India</td>\n",
       "    </tr>\n",
       "    <tr>\n",
       "      <th>160490</th>\n",
       "      <td>135480</td>\n",
       "      <td>Geeta Zutshi</td>\n",
       "      <td>F</td>\n",
       "      <td>27.0</td>\n",
       "      <td>167.0</td>\n",
       "      <td>51.0</td>\n",
       "      <td>India</td>\n",
       "      <td>IND</td>\n",
       "      <td>1984 Summer</td>\n",
       "      <td>1984</td>\n",
       "      <td>Summer</td>\n",
       "      <td>Los Angeles</td>\n",
       "      <td>Athletics</td>\n",
       "      <td>Athletics Women's 3,000 metres</td>\n",
       "      <td>No Medal</td>\n",
       "      <td>India</td>\n",
       "    </tr>\n",
       "  </tbody>\n",
       "</table>\n",
       "<p>1400 rows × 16 columns</p>\n",
       "</div>"
      ],
      "text/plain": [
       "            ID                                           Name Sex   Age  \\\n",
       "159083     281                                 S. Abdul Hamid   M     0   \n",
       "159084     281                                 S. Abdul Hamid   M     0   \n",
       "159085     512                Shiny Kurisingal Abraham-Wilson   F  19.0   \n",
       "159086     512                Shiny Kurisingal Abraham-Wilson   F  19.0   \n",
       "159087     512                Shiny Kurisingal Abraham-Wilson   F  23.0   \n",
       "...        ...                                            ...  ..   ...   \n",
       "160486  132177                           Mohammad Anas Yahiya   M  21.0   \n",
       "160487  133029  Thyadathuvilla Chandrapillai \"T. C.\" Yohannan   M  29.0   \n",
       "160488  133554                           Sayed Muhammad Yusuf   M     0   \n",
       "160489  135480                                   Geeta Zutshi   F  23.0   \n",
       "160490  135480                                   Geeta Zutshi   F  27.0   \n",
       "\n",
       "       Height Weight   Team  NOC        Games  Year  Season            City  \\\n",
       "159083      0      0  India  IND  1928 Summer  1928  Summer       Amsterdam   \n",
       "159084      0      0  India  IND  1928 Summer  1928  Summer       Amsterdam   \n",
       "159085  167.0   53.0  India  IND  1984 Summer  1984  Summer     Los Angeles   \n",
       "159086  167.0   53.0  India  IND  1984 Summer  1984  Summer     Los Angeles   \n",
       "159087  167.0   53.0  India  IND  1988 Summer  1988  Summer           Seoul   \n",
       "...       ...    ...    ...  ...          ...   ...     ...             ...   \n",
       "160486  177.0   69.0  India  IND  2016 Summer  2016  Summer  Rio de Janeiro   \n",
       "160487  174.0   62.0  India  IND  1976 Summer  1976  Summer        Montreal   \n",
       "160488      0      0  India  IND  1928 Summer  1928  Summer       Amsterdam   \n",
       "160489  167.0   51.0  India  IND  1980 Summer  1980  Summer          Moskva   \n",
       "160490  167.0   51.0  India  IND  1984 Summer  1984  Summer     Los Angeles   \n",
       "\n",
       "            Sport                                   Event     Medal Region  \n",
       "159083  Athletics      Athletics Men's 110 metres Hurdles  No Medal  India  \n",
       "159084  Athletics      Athletics Men's 400 metres Hurdles  No Medal  India  \n",
       "159085  Athletics            Athletics Women's 800 metres  No Medal  India  \n",
       "159086  Athletics  Athletics Women's 4 x 400 metres Relay  No Medal  India  \n",
       "159087  Athletics            Athletics Women's 800 metres  No Medal  India  \n",
       "...           ...                                     ...       ...    ...  \n",
       "160486  Athletics    Athletics Men's 4 x 400 metres Relay  No Medal  India  \n",
       "160487  Athletics               Athletics Men's Long Jump  No Medal  India  \n",
       "160488     Hockey                     Hockey Men's Hockey      Gold  India  \n",
       "160489  Athletics            Athletics Women's 800 metres  No Medal  India  \n",
       "160490  Athletics          Athletics Women's 3,000 metres  No Medal  India  \n",
       "\n",
       "[1400 rows x 16 columns]"
      ]
     },
     "execution_count": 21,
     "metadata": {},
     "output_type": "execute_result"
    }
   ],
   "source": [
    "ath_df.query('Team == \"India\"')"
   ]
  },
  {
   "cell_type": "markdown",
   "id": "e76adb60",
   "metadata": {},
   "source": [
    "## athlets participated from Japan in oympics"
   ]
  },
  {
   "cell_type": "code",
   "execution_count": 22,
   "id": "f07e0a65",
   "metadata": {},
   "outputs": [
    {
     "data": {
      "text/html": [
       "<div>\n",
       "<style scoped>\n",
       "    .dataframe tbody tr th:only-of-type {\n",
       "        vertical-align: middle;\n",
       "    }\n",
       "\n",
       "    .dataframe tbody tr th {\n",
       "        vertical-align: top;\n",
       "    }\n",
       "\n",
       "    .dataframe thead th {\n",
       "        text-align: right;\n",
       "    }\n",
       "</style>\n",
       "<table border=\"1\" class=\"dataframe\">\n",
       "  <thead>\n",
       "    <tr style=\"text-align: right;\">\n",
       "      <th></th>\n",
       "      <th>ID</th>\n",
       "      <th>Name</th>\n",
       "      <th>Sex</th>\n",
       "      <th>Age</th>\n",
       "      <th>Height</th>\n",
       "      <th>Weight</th>\n",
       "      <th>Team</th>\n",
       "      <th>NOC</th>\n",
       "      <th>Games</th>\n",
       "      <th>Year</th>\n",
       "      <th>Season</th>\n",
       "      <th>City</th>\n",
       "      <th>Sport</th>\n",
       "      <th>Event</th>\n",
       "      <th>Medal</th>\n",
       "      <th>Region</th>\n",
       "    </tr>\n",
       "  </thead>\n",
       "  <tbody>\n",
       "    <tr>\n",
       "      <th>164221</th>\n",
       "      <td>362</td>\n",
       "      <td>Isao Ko Abe</td>\n",
       "      <td>M</td>\n",
       "      <td>24.0</td>\n",
       "      <td>177.0</td>\n",
       "      <td>75.0</td>\n",
       "      <td>Japan</td>\n",
       "      <td>JPN</td>\n",
       "      <td>1936 Summer</td>\n",
       "      <td>1936</td>\n",
       "      <td>Summer</td>\n",
       "      <td>Berlin</td>\n",
       "      <td>Athletics</td>\n",
       "      <td>Athletics Men's Hammer Throw</td>\n",
       "      <td>No Medal</td>\n",
       "      <td>Japan</td>\n",
       "    </tr>\n",
       "    <tr>\n",
       "      <th>164225</th>\n",
       "      <td>363</td>\n",
       "      <td>Kazumi Abe</td>\n",
       "      <td>M</td>\n",
       "      <td>28.0</td>\n",
       "      <td>178.0</td>\n",
       "      <td>67.0</td>\n",
       "      <td>Japan</td>\n",
       "      <td>JPN</td>\n",
       "      <td>1976 Winter</td>\n",
       "      <td>1976</td>\n",
       "      <td>Winter</td>\n",
       "      <td>Innsbruck</td>\n",
       "      <td>Bobsleigh</td>\n",
       "      <td>Bobsleigh Men's Four</td>\n",
       "      <td>No Medal</td>\n",
       "      <td>Japan</td>\n",
       "    </tr>\n",
       "    <tr>\n",
       "      <th>164226</th>\n",
       "      <td>364</td>\n",
       "      <td>Kazuo Abe</td>\n",
       "      <td>M</td>\n",
       "      <td>25.0</td>\n",
       "      <td>166.0</td>\n",
       "      <td>69.0</td>\n",
       "      <td>Japan</td>\n",
       "      <td>JPN</td>\n",
       "      <td>1960 Summer</td>\n",
       "      <td>1960</td>\n",
       "      <td>Summer</td>\n",
       "      <td>Roma</td>\n",
       "      <td>Wrestling</td>\n",
       "      <td>Wrestling Men's Lightweight, Freestyle</td>\n",
       "      <td>No Medal</td>\n",
       "      <td>Japan</td>\n",
       "    </tr>\n",
       "    <tr>\n",
       "      <th>164227</th>\n",
       "      <td>365</td>\n",
       "      <td>Kinya Abe</td>\n",
       "      <td>M</td>\n",
       "      <td>23.0</td>\n",
       "      <td>168.0</td>\n",
       "      <td>68.0</td>\n",
       "      <td>Japan</td>\n",
       "      <td>JPN</td>\n",
       "      <td>1992 Summer</td>\n",
       "      <td>1992</td>\n",
       "      <td>Summer</td>\n",
       "      <td>Barcelona</td>\n",
       "      <td>Fencing</td>\n",
       "      <td>Fencing Men's Foil, Individual</td>\n",
       "      <td>No Medal</td>\n",
       "      <td>Japan</td>\n",
       "    </tr>\n",
       "    <tr>\n",
       "      <th>164228</th>\n",
       "      <td>366</td>\n",
       "      <td>Kiyoshi Abe</td>\n",
       "      <td>M</td>\n",
       "      <td>25.0</td>\n",
       "      <td>167.0</td>\n",
       "      <td>62.0</td>\n",
       "      <td>Japan</td>\n",
       "      <td>JPN</td>\n",
       "      <td>1972 Summer</td>\n",
       "      <td>1972</td>\n",
       "      <td>Summer</td>\n",
       "      <td>Munich</td>\n",
       "      <td>Wrestling</td>\n",
       "      <td>Wrestling Men's Featherweight, Freestyle</td>\n",
       "      <td>No Medal</td>\n",
       "      <td>Japan</td>\n",
       "    </tr>\n",
       "    <tr>\n",
       "      <th>...</th>\n",
       "      <td>...</td>\n",
       "      <td>...</td>\n",
       "      <td>...</td>\n",
       "      <td>...</td>\n",
       "      <td>...</td>\n",
       "      <td>...</td>\n",
       "      <td>...</td>\n",
       "      <td>...</td>\n",
       "      <td>...</td>\n",
       "      <td>...</td>\n",
       "      <td>...</td>\n",
       "      <td>...</td>\n",
       "      <td>...</td>\n",
       "      <td>...</td>\n",
       "      <td>...</td>\n",
       "      <td>...</td>\n",
       "    </tr>\n",
       "    <tr>\n",
       "      <th>172658</th>\n",
       "      <td>133565</td>\n",
       "      <td>Tsuneya Yuzaki</td>\n",
       "      <td>M</td>\n",
       "      <td>19.0</td>\n",
       "      <td>174.0</td>\n",
       "      <td>67.0</td>\n",
       "      <td>Japan</td>\n",
       "      <td>JPN</td>\n",
       "      <td>1960 Summer</td>\n",
       "      <td>1960</td>\n",
       "      <td>Summer</td>\n",
       "      <td>Roma</td>\n",
       "      <td>Hockey</td>\n",
       "      <td>Hockey Men's Hockey</td>\n",
       "      <td>No Medal</td>\n",
       "      <td>Japan</td>\n",
       "    </tr>\n",
       "    <tr>\n",
       "      <th>172659</th>\n",
       "      <td>133565</td>\n",
       "      <td>Tsuneya Yuzaki</td>\n",
       "      <td>M</td>\n",
       "      <td>23.0</td>\n",
       "      <td>174.0</td>\n",
       "      <td>67.0</td>\n",
       "      <td>Japan</td>\n",
       "      <td>JPN</td>\n",
       "      <td>1964 Summer</td>\n",
       "      <td>1964</td>\n",
       "      <td>Summer</td>\n",
       "      <td>Tokyo</td>\n",
       "      <td>Hockey</td>\n",
       "      <td>Hockey Men's Hockey</td>\n",
       "      <td>No Medal</td>\n",
       "      <td>Japan</td>\n",
       "    </tr>\n",
       "    <tr>\n",
       "      <th>172660</th>\n",
       "      <td>133565</td>\n",
       "      <td>Tsuneya Yuzaki</td>\n",
       "      <td>M</td>\n",
       "      <td>27.0</td>\n",
       "      <td>174.0</td>\n",
       "      <td>67.0</td>\n",
       "      <td>Japan</td>\n",
       "      <td>JPN</td>\n",
       "      <td>1968 Summer</td>\n",
       "      <td>1968</td>\n",
       "      <td>Summer</td>\n",
       "      <td>Mexico City</td>\n",
       "      <td>Hockey</td>\n",
       "      <td>Hockey Men's Hockey</td>\n",
       "      <td>No Medal</td>\n",
       "      <td>Japan</td>\n",
       "    </tr>\n",
       "    <tr>\n",
       "      <th>172662</th>\n",
       "      <td>133566</td>\n",
       "      <td>Ryo Yuzawa</td>\n",
       "      <td>M</td>\n",
       "      <td>27.0</td>\n",
       "      <td>175.0</td>\n",
       "      <td>76.0</td>\n",
       "      <td>Japan</td>\n",
       "      <td>JPN</td>\n",
       "      <td>2004 Summer</td>\n",
       "      <td>2004</td>\n",
       "      <td>Summer</td>\n",
       "      <td>Athina</td>\n",
       "      <td>Table Tennis</td>\n",
       "      <td>Table Tennis Men's Singles</td>\n",
       "      <td>No Medal</td>\n",
       "      <td>Japan</td>\n",
       "    </tr>\n",
       "    <tr>\n",
       "      <th>172664</th>\n",
       "      <td>134133</td>\n",
       "      <td>Kotoki Zayasu</td>\n",
       "      <td>F</td>\n",
       "      <td>26.0</td>\n",
       "      <td>159.0</td>\n",
       "      <td>57.0</td>\n",
       "      <td>Japan</td>\n",
       "      <td>JPN</td>\n",
       "      <td>2016 Summer</td>\n",
       "      <td>2016</td>\n",
       "      <td>Summer</td>\n",
       "      <td>Rio de Janeiro</td>\n",
       "      <td>Volleyball</td>\n",
       "      <td>Volleyball Women's Volleyball</td>\n",
       "      <td>No Medal</td>\n",
       "      <td>Japan</td>\n",
       "    </tr>\n",
       "  </tbody>\n",
       "</table>\n",
       "<p>8289 rows × 16 columns</p>\n",
       "</div>"
      ],
      "text/plain": [
       "            ID            Name Sex   Age Height Weight   Team  NOC  \\\n",
       "164221     362     Isao Ko Abe   M  24.0  177.0   75.0  Japan  JPN   \n",
       "164225     363      Kazumi Abe   M  28.0  178.0   67.0  Japan  JPN   \n",
       "164226     364       Kazuo Abe   M  25.0  166.0   69.0  Japan  JPN   \n",
       "164227     365       Kinya Abe   M  23.0  168.0   68.0  Japan  JPN   \n",
       "164228     366     Kiyoshi Abe   M  25.0  167.0   62.0  Japan  JPN   \n",
       "...        ...             ...  ..   ...    ...    ...    ...  ...   \n",
       "172658  133565  Tsuneya Yuzaki   M  19.0  174.0   67.0  Japan  JPN   \n",
       "172659  133565  Tsuneya Yuzaki   M  23.0  174.0   67.0  Japan  JPN   \n",
       "172660  133565  Tsuneya Yuzaki   M  27.0  174.0   67.0  Japan  JPN   \n",
       "172662  133566      Ryo Yuzawa   M  27.0  175.0   76.0  Japan  JPN   \n",
       "172664  134133   Kotoki Zayasu   F  26.0  159.0   57.0  Japan  JPN   \n",
       "\n",
       "              Games  Year  Season            City         Sport  \\\n",
       "164221  1936 Summer  1936  Summer          Berlin     Athletics   \n",
       "164225  1976 Winter  1976  Winter       Innsbruck     Bobsleigh   \n",
       "164226  1960 Summer  1960  Summer            Roma     Wrestling   \n",
       "164227  1992 Summer  1992  Summer       Barcelona       Fencing   \n",
       "164228  1972 Summer  1972  Summer          Munich     Wrestling   \n",
       "...             ...   ...     ...             ...           ...   \n",
       "172658  1960 Summer  1960  Summer            Roma        Hockey   \n",
       "172659  1964 Summer  1964  Summer           Tokyo        Hockey   \n",
       "172660  1968 Summer  1968  Summer     Mexico City        Hockey   \n",
       "172662  2004 Summer  2004  Summer          Athina  Table Tennis   \n",
       "172664  2016 Summer  2016  Summer  Rio de Janeiro    Volleyball   \n",
       "\n",
       "                                           Event     Medal Region  \n",
       "164221              Athletics Men's Hammer Throw  No Medal  Japan  \n",
       "164225                      Bobsleigh Men's Four  No Medal  Japan  \n",
       "164226    Wrestling Men's Lightweight, Freestyle  No Medal  Japan  \n",
       "164227            Fencing Men's Foil, Individual  No Medal  Japan  \n",
       "164228  Wrestling Men's Featherweight, Freestyle  No Medal  Japan  \n",
       "...                                          ...       ...    ...  \n",
       "172658                       Hockey Men's Hockey  No Medal  Japan  \n",
       "172659                       Hockey Men's Hockey  No Medal  Japan  \n",
       "172660                       Hockey Men's Hockey  No Medal  Japan  \n",
       "172662                Table Tennis Men's Singles  No Medal  Japan  \n",
       "172664             Volleyball Women's Volleyball  No Medal  Japan  \n",
       "\n",
       "[8289 rows x 16 columns]"
      ]
     },
     "execution_count": 22,
     "metadata": {},
     "output_type": "execute_result"
    }
   ],
   "source": [
    "ath_df.query('Team == \"Japan\"')"
   ]
  },
  {
   "cell_type": "markdown",
   "id": "761c235d",
   "metadata": {},
   "source": [
    "## Top countries participating"
   ]
  },
  {
   "cell_type": "code",
   "execution_count": 23,
   "id": "e21017b6",
   "metadata": {},
   "outputs": [],
   "source": [
    "top_10_countries = ath_df.Team.value_counts().sort_values(ascending=False).head(10)"
   ]
  },
  {
   "cell_type": "code",
   "execution_count": 24,
   "id": "ba2bae9c",
   "metadata": {},
   "outputs": [
    {
     "data": {
      "text/plain": [
       "United States    17847\n",
       "France           11988\n",
       "Great Britain    11404\n",
       "Italy            10260\n",
       "Germany           9326\n",
       "Canada            9279\n",
       "Japan             8289\n",
       "Sweden            8052\n",
       "Australia         7513\n",
       "Hungary           6547\n",
       "Name: Team, dtype: int64"
      ]
     },
     "execution_count": 24,
     "metadata": {},
     "output_type": "execute_result"
    }
   ],
   "source": [
    "top_10_countries"
   ]
  },
  {
   "cell_type": "markdown",
   "id": "d1121db6",
   "metadata": {},
   "source": [
    "### plot graph for top 10 countries with index"
   ]
  },
  {
   "cell_type": "code",
   "execution_count": 25,
   "id": "6d96b041",
   "metadata": {},
   "outputs": [
    {
     "data": {
      "image/png": "[encoded data removed]",
      "text/plain": [
       "<Figure size 864x432 with 1 Axes>"
      ]
     },
     "metadata": {
      "needs_background": "light"
     },
     "output_type": "display_data"
    }
   ],
   "source": [
    "plt.figure(figsize=(12,6))\n",
    "plt.xticks(rotation=20)\n",
    "plt.title('Overall participation by top 10 country')\n",
    "sns.barplot(x=top_10_countries.index,y=top_10_countries)\n",
    "plt.show()"
   ]
  },
  {
   "cell_type": "markdown",
   "id": "d25646ad",
   "metadata": {},
   "source": [
    "From USA most of the participant participated in olymoics"
   ]
  },
  {
   "cell_type": "markdown",
   "id": "9669aff6",
   "metadata": {},
   "source": [
    "### plot graph for top 10 countries without index,with exact number"
   ]
  },
  {
   "cell_type": "code",
   "execution_count": 26,
   "id": "639c8fbe",
   "metadata": {},
   "outputs": [
    {
     "data": {
      "image/png": "[encoded data removed]",
      "text/plain": [
       "<Figure size 864x432 with 1 Axes>"
      ]
     },
     "metadata": {
      "needs_background": "light"
     },
     "output_type": "display_data"
    }
   ],
   "source": [
    "plt.figure(figsize=(12,6))\n",
    "plt.xticks(rotation=20)\n",
    "plt.title('Overall participation by top 10 country')\n",
    "sns.barplot(x=top_10_countries,y=top_10_countries)\n",
    "plt.show()"
   ]
  },
  {
   "cell_type": "markdown",
   "id": "2d0e0647",
   "metadata": {},
   "source": [
    "## Last of bottom 20 countries"
   ]
  },
  {
   "cell_type": "code",
   "execution_count": 27,
   "id": "75128e5e",
   "metadata": {},
   "outputs": [],
   "source": [
    "bottom_20_countries = ath_df.Team.value_counts().sort_values(ascending=True).head(20)"
   ]
  },
  {
   "cell_type": "code",
   "execution_count": 28,
   "id": "da630188",
   "metadata": {},
   "outputs": [
    {
     "data": {
      "text/plain": [
       "Pop Art               1\n",
       "Brentina              1\n",
       "Bonaparte             1\n",
       "Clearwater            1\n",
       "Jeannette-18          1\n",
       "Notavel               1\n",
       "Galopin De La Font    1\n",
       "Jeanette-25           1\n",
       "Mistral Hojris        1\n",
       "Knigsberg             1\n",
       "Souvenance            1\n",
       "Leipzig               1\n",
       "Crabe I-11            1\n",
       "Souriceau-38          1\n",
       "Crabe I-2             1\n",
       "Marsouin-26           1\n",
       "Marsouin-8            1\n",
       "Diabolo St Maurice    1\n",
       "Formosa               1\n",
       "Solos Carex           1\n",
       "Name: Team, dtype: int64"
      ]
     },
     "execution_count": 28,
     "metadata": {},
     "output_type": "execute_result"
    }
   ],
   "source": [
    "bottom_20_countries"
   ]
  },
  {
   "cell_type": "markdown",
   "id": "b0d6a128",
   "metadata": {},
   "source": [
    "### plot graph for bottom 20 countries"
   ]
  },
  {
   "cell_type": "code",
   "execution_count": 29,
   "id": "8c8d4ec7",
   "metadata": {},
   "outputs": [
    {
     "data": {
      "image/png": "[encoded data removed]",
      "text/plain": [
       "<Figure size 864x432 with 1 Axes>"
      ]
     },
     "metadata": {
      "needs_background": "light"
     },
     "output_type": "display_data"
    }
   ],
   "source": [
    "plt.figure(figsize=(12,6))\n",
    "plt.xticks(rotation=20)\n",
    "plt.title('Overall participation by bottom 10 country')\n",
    "sns.barplot(x=bottom_20_countries.index,y=bottom_20_countries)\n",
    "plt.show()"
   ]
  },
  {
   "cell_type": "markdown",
   "id": "f0b78942",
   "metadata": {},
   "source": [
    "## Year wise Distribution of the Participants"
   ]
  },
  {
   "cell_type": "code",
   "execution_count": 30,
   "id": "2ffad9e6",
   "metadata": {},
   "outputs": [
    {
     "data": {
      "image/png": "[encoded data removed]",
      "text/plain": [
       "<Figure size 864x432 with 1 Axes>"
      ]
     },
     "metadata": {
      "needs_background": "light"
     },
     "output_type": "display_data"
    }
   ],
   "source": [
    "plt.figure(figsize=(12,6))\n",
    "plt.title('Year Disribution of athletes')\n",
    "plt.xlabel('Year')\n",
    "plt.ylabel('number of Participants')\n",
    "plt.hist(ath_df.Year,color='orange',bins=np.arange(1896,2020,5),edgecolor='white')\n",
    "plt.show()"
   ]
  },
  {
   "cell_type": "markdown",
   "id": "c54b1bbe",
   "metadata": {},
   "source": [
    "In year 2015 and in year 2000 most participant participate in olympics"
   ]
  },
  {
   "cell_type": "markdown",
   "id": "ab7b1dfd",
   "metadata": {},
   "source": [
    "## Height wise distribution"
   ]
  },
  {
   "cell_type": "code",
   "execution_count": 31,
   "id": "9b2b2982",
   "metadata": {},
   "outputs": [],
   "source": [
    "#converting Height column from float to integer\n",
    "ath_df['Height']=ath_df['Height'].astype(int)"
   ]
  },
  {
   "cell_type": "code",
   "execution_count": 32,
   "id": "858108cd",
   "metadata": {},
   "outputs": [
    {
     "data": {
      "image/png": "[encoded data removed]",
      "text/plain": [
       "<Figure size 864x432 with 1 Axes>"
      ]
     },
     "metadata": {
      "needs_background": "light"
     },
     "output_type": "display_data"
    }
   ],
   "source": [
    "plt.figure(figsize=(12,6))\n",
    "plt.title('Height Disribution of athletes')\n",
    "plt.xlabel('Height')\n",
    "plt.ylabel('number of Participants')\n",
    "plt.hist(ath_df.Height,color='orange',bins=np.arange(100,200,5),edgecolor='white')\n",
    "plt.show()"
   ]
  },
  {
   "cell_type": "markdown",
   "id": "756b7e5a",
   "metadata": {},
   "source": [
    "Participants whose height from 170cm to 190cm has participated most in olympics"
   ]
  },
  {
   "cell_type": "markdown",
   "id": "a6267299",
   "metadata": {},
   "source": [
    "## Weight wise Distribution"
   ]
  },
  {
   "cell_type": "code",
   "execution_count": 33,
   "id": "4b2101e3",
   "metadata": {},
   "outputs": [],
   "source": [
    "#converting weight column from float to integer\n",
    "ath_df['Weight']=ath_df['Weight'].astype(int)"
   ]
  },
  {
   "cell_type": "code",
   "execution_count": 34,
   "id": "c1182bd9",
   "metadata": {},
   "outputs": [
    {
     "data": {
      "image/png": "[encoded data removed]",
      "text/plain": [
       "<Figure size 864x432 with 1 Axes>"
      ]
     },
     "metadata": {
      "needs_background": "light"
     },
     "output_type": "display_data"
    }
   ],
   "source": [
    "plt.figure(figsize=(12,6))\n",
    "plt.title('Weight Disribution of athletes')\n",
    "plt.xlabel('Weight')\n",
    "plt.ylabel('number of Participants')\n",
    "plt.hist(ath_df.Weight,color='orange',bins=np.arange(20,150,5),edgecolor='white')\n",
    "plt.show()"
   ]
  },
  {
   "cell_type": "markdown",
   "id": "0a51ffa7",
   "metadata": {},
   "source": [
    "athletes whose weight is between 60kg to 80kg participated most in olympic"
   ]
  },
  {
   "cell_type": "markdown",
   "id": "d223c9d3",
   "metadata": {},
   "source": [
    "## age wise distribution"
   ]
  },
  {
   "cell_type": "code",
   "execution_count": 35,
   "id": "3860449c",
   "metadata": {},
   "outputs": [],
   "source": [
    "#converting Age column from float to integer\n",
    "ath_df['Age']=ath_df['Age'].astype(int)"
   ]
  },
  {
   "cell_type": "code",
   "execution_count": 36,
   "id": "7ffe3d91",
   "metadata": {},
   "outputs": [
    {
     "data": {
      "image/png": "[encoded data removed]",
      "text/plain": [
       "<Figure size 864x432 with 1 Axes>"
      ]
     },
     "metadata": {
      "needs_background": "light"
     },
     "output_type": "display_data"
    }
   ],
   "source": [
    "plt.figure(figsize=(12,6))\n",
    "plt.title('Age Disribution of athletes')\n",
    "plt.xlabel('Age')\n",
    "plt.ylabel('number of Participants')\n",
    "plt.hist(ath_df.Age,color='orange',edgecolor='white')\n",
    "plt.show()"
   ]
  },
  {
   "cell_type": "markdown",
   "id": "5b2b9b08",
   "metadata": {},
   "source": [
    "athletes whose weight is between 20 to 30 participated most in olympic"
   ]
  },
  {
   "cell_type": "markdown",
   "id": "3985bcec",
   "metadata": {},
   "source": [
    "## City wise Participants"
   ]
  },
  {
   "cell_type": "code",
   "execution_count": 37,
   "id": "7d5dff8a",
   "metadata": {},
   "outputs": [
    {
     "data": {
      "image/png": "[encoded data removed]",
      "text/plain": [
       "<Figure size 720x720 with 1 Axes>"
      ]
     },
     "metadata": {
      "needs_background": "light"
     },
     "output_type": "display_data"
    }
   ],
   "source": [
    "#with 45 degree rotation\n",
    "\n",
    "plt.figure(figsize=(10,10))\n",
    "sns.countplot(y=ath_df['City'])\n",
    "plt.xticks(rotation=45)\n",
    "plt.show()"
   ]
  },
  {
   "cell_type": "code",
   "execution_count": 38,
   "id": "02c1dc82",
   "metadata": {},
   "outputs": [
    {
     "data": {
      "image/png": "[encoded data removed]",
      "text/plain": [
       "<Figure size 720x360 with 1 Axes>"
      ]
     },
     "metadata": {
      "needs_background": "light"
     },
     "output_type": "display_data"
    }
   ],
   "source": [
    "#with 90 degree rotation\n",
    "\n",
    "plt.figure(figsize=(10,5))\n",
    "sns.countplot(x=ath_df['City'])\n",
    "plt.xticks(rotation=90)\n",
    "plt.show()"
   ]
  },
  {
   "cell_type": "markdown",
   "id": "056cfcbc",
   "metadata": {},
   "source": [
    "athletes from London Participated most in olympic "
   ]
  },
  {
   "cell_type": "markdown",
   "id": "f530920f",
   "metadata": {},
   "source": [
    "## Checking unique values in Medal"
   ]
  },
  {
   "cell_type": "code",
   "execution_count": 39,
   "id": "71c21fa7",
   "metadata": {},
   "outputs": [
    {
     "data": {
      "text/plain": [
       "array(['No Medal', 'Silver', 'Bronze', 'Gold'], dtype=object)"
      ]
     },
     "execution_count": 39,
     "metadata": {},
     "output_type": "execute_result"
    }
   ],
   "source": [
    "ath_df['Medal'].unique()"
   ]
  },
  {
   "cell_type": "code",
   "execution_count": 40,
   "id": "0b8b02eb",
   "metadata": {},
   "outputs": [
    {
     "data": {
      "text/plain": [
       "No Medal    230993\n",
       "Gold         13371\n",
       "Bronze       13291\n",
       "Silver       13112\n",
       "Name: Medal, dtype: int64"
      ]
     },
     "execution_count": 40,
     "metadata": {},
     "output_type": "execute_result"
    }
   ],
   "source": [
    "medal = ath_df.Medal.value_counts()\n",
    "medal"
   ]
  },
  {
   "cell_type": "markdown",
   "id": "decca6c6",
   "metadata": {},
   "source": [
    "## Ploting Graph for Medal"
   ]
  },
  {
   "cell_type": "code",
   "execution_count": 41,
   "id": "0888710c",
   "metadata": {},
   "outputs": [
    {
     "data": {
      "image/png": "[encoded data removed]",
      "text/plain": [
       "<Figure size 864x432 with 1 Axes>"
      ]
     },
     "metadata": {
      "needs_background": "light"
     },
     "output_type": "display_data"
    }
   ],
   "source": [
    "plt.figure(figsize=(12,6))\n",
    "plt.xticks(rotation=20)\n",
    "plt.title('Overall Medals')\n",
    "sns.barplot(x=medal.index,y=medal)\n",
    "plt.show()"
   ]
  },
  {
   "cell_type": "markdown",
   "id": "ba01928d",
   "metadata": {},
   "source": [
    "From Graph it is clearly seen that count of no medal is too high than Gold,Silver,Bronze"
   ]
  },
  {
   "cell_type": "markdown",
   "id": "8be3dfa0",
   "metadata": {},
   "source": [
    "## Name of sports played in winter"
   ]
  },
  {
   "cell_type": "code",
   "execution_count": 42,
   "id": "0391d0e5",
   "metadata": {},
   "outputs": [
    {
     "data": {
      "text/plain": [
       "array(['Speed Skating', 'Short Track Speed Skating', 'Curling',\n",
       "       'Figure Skating', 'Snowboarding', 'Cross Country Skiing',\n",
       "       'Ice Hockey', 'Freestyle Skiing', 'Alpine Skiing', 'Biathlon',\n",
       "       'Ski Jumping', 'Bobsleigh', 'Nordic Combined', 'Skeleton', 'Luge',\n",
       "       'Military Ski Patrol', 'Alpinism'], dtype=object)"
      ]
     },
     "execution_count": 42,
     "metadata": {},
     "output_type": "execute_result"
    }
   ],
   "source": [
    "winter_sports = ath_df[ath_df.Season == 'Winter'].Sport.unique()\n",
    "winter_sports "
   ]
  },
  {
   "cell_type": "markdown",
   "id": "4290190c",
   "metadata": {},
   "source": [
    "## Name of sports played in summer"
   ]
  },
  {
   "cell_type": "code",
   "execution_count": 43,
   "id": "69b16b5d",
   "metadata": {},
   "outputs": [
    {
     "data": {
      "text/plain": [
       "array(['Basketball', 'Judo', 'Boxing', 'Wrestling', 'Swimming',\n",
       "       'Softball', 'Hockey', 'Archery', 'Triathlon', 'Football',\n",
       "       'Rhythmic Gymnastics', 'Athletics', 'Badminton', 'Fencing',\n",
       "       'Gymnastics', 'Volleyball', 'Baseball', 'Water Polo', 'Shooting',\n",
       "       'Weightlifting', 'Cycling', 'Rowing', 'Sailing', 'Diving',\n",
       "       'Modern Pentathlon', 'Art Competitions', 'Synchronized Swimming',\n",
       "       'Handball', 'Canoeing', 'Table Tennis', 'Tennis', 'Taekwondo',\n",
       "       'Beach Volleyball', 'Trampolining', 'Golf', 'Equestrianism',\n",
       "       'Tug-Of-War', 'Polo', 'Rugby Sevens', 'Ice Hockey',\n",
       "       'Figure Skating', 'Roque', 'Rugby', 'Lacrosse', 'Jeu De Paume',\n",
       "       'Cricket', 'Croquet', 'Motorboating', 'Basque Pelota', 'Alpinism',\n",
       "       'Aeronautics', 'Racquets'], dtype=object)"
      ]
     },
     "execution_count": 43,
     "metadata": {},
     "output_type": "execute_result"
    }
   ],
   "source": [
    "summer_sports = ath_df[ath_df.Season == 'Summer'].Sport.unique()\n",
    "summer_sports "
   ]
  },
  {
   "cell_type": "markdown",
   "id": "4ef094fc",
   "metadata": {},
   "source": [
    "## Count of Male and Female Participants"
   ]
  },
  {
   "cell_type": "code",
   "execution_count": 44,
   "id": "892ea485",
   "metadata": {},
   "outputs": [
    {
     "data": {
      "text/plain": [
       "M    196374\n",
       "F     74393\n",
       "Name: Sex, dtype: int64"
      ]
     },
     "execution_count": 44,
     "metadata": {},
     "output_type": "execute_result"
    }
   ],
   "source": [
    "gender_counts=ath_df['Sex'].value_counts()\n",
    "gender_counts"
   ]
  },
  {
   "cell_type": "code",
   "execution_count": 45,
   "id": "b17c908f",
   "metadata": {},
   "outputs": [
    {
     "data": {
      "image/png": "[encoded data removed]",
      "text/plain": [
       "<Figure size 720x360 with 1 Axes>"
      ]
     },
     "metadata": {},
     "output_type": "display_data"
    }
   ],
   "source": [
    "plt.figure(figsize=(10,5))\n",
    "plt.title('Gender Distribution')\n",
    "plt.pie(gender_counts,labels=gender_counts,shadow=True)\n",
    "plt.show()"
   ]
  },
  {
   "cell_type": "code",
   "execution_count": 46,
   "id": "abaee84d",
   "metadata": {},
   "outputs": [
    {
     "data": {
      "image/png": "[encoded data removed]",
      "text/plain": [
       "<Figure size 720x360 with 1 Axes>"
      ]
     },
     "metadata": {},
     "output_type": "display_data"
    }
   ],
   "source": [
    "plt.figure(figsize=(10,5))\n",
    "plt.title('Gender Distribution')\n",
    "plt.pie(gender_counts,labels=gender_counts.index,shadow=True,autopct='%1.1f%%')\n",
    "plt.show()"
   ]
  },
  {
   "cell_type": "markdown",
   "id": "e352cf27",
   "metadata": {},
   "source": [
    "from pie chart it is clearly seen that Male participant are more than female i.e- 72.5%"
   ]
  },
  {
   "cell_type": "markdown",
   "id": "4621aecc",
   "metadata": {},
   "source": [
    "## total medal won by athelets"
   ]
  },
  {
   "cell_type": "code",
   "execution_count": 47,
   "id": "b7e8c766",
   "metadata": {},
   "outputs": [
    {
     "data": {
      "text/plain": [
       "No Medal    230993\n",
       "Gold         13371\n",
       "Bronze       13291\n",
       "Silver       13112\n",
       "Name: Medal, dtype: int64"
      ]
     },
     "execution_count": 47,
     "metadata": {},
     "output_type": "execute_result"
    }
   ],
   "source": [
    "medal_counts=ath_df.Medal.value_counts()\n",
    "medal_counts"
   ]
  },
  {
   "cell_type": "code",
   "execution_count": 48,
   "id": "cd7ec2e6",
   "metadata": {},
   "outputs": [
    {
     "data": {
      "image/png": "[encoded data removed]",
      "text/plain": [
       "<Figure size 720x360 with 1 Axes>"
      ]
     },
     "metadata": {},
     "output_type": "display_data"
    }
   ],
   "source": [
    "plt.figure(figsize=(10,5))\n",
    "plt.title('Medal Distribution')\n",
    "plt.pie(medal_counts,labels=medal_counts.index,shadow=True,autopct='%.2f%%')\n",
    "plt.show()"
   ]
  },
  {
   "cell_type": "markdown",
   "id": "61fc6047",
   "metadata": {},
   "source": [
    "4.84% won silver,4.90 won bronze and 4.93 won gold medal"
   ]
  },
  {
   "cell_type": "markdown",
   "id": "436ef5d1",
   "metadata": {},
   "source": [
    "## Total number of female athletes in each olympics"
   ]
  },
  {
   "cell_type": "code",
   "execution_count": 49,
   "id": "efa560a7",
   "metadata": {},
   "outputs": [],
   "source": [
    "female_participants = ath_df[(ath_df.Sex=='F')][['Sex','Year']]\n",
    "female_participants1 = female_participants.groupby('Year').count().reset_index()"
   ]
  },
  {
   "cell_type": "code",
   "execution_count": 50,
   "id": "42be63de",
   "metadata": {},
   "outputs": [
    {
     "data": {
      "text/html": [
       "<div>\n",
       "<style scoped>\n",
       "    .dataframe tbody tr th:only-of-type {\n",
       "        vertical-align: middle;\n",
       "    }\n",
       "\n",
       "    .dataframe tbody tr th {\n",
       "        vertical-align: top;\n",
       "    }\n",
       "\n",
       "    .dataframe thead th {\n",
       "        text-align: right;\n",
       "    }\n",
       "</style>\n",
       "<table border=\"1\" class=\"dataframe\">\n",
       "  <thead>\n",
       "    <tr style=\"text-align: right;\">\n",
       "      <th></th>\n",
       "      <th>Year</th>\n",
       "      <th>Sex</th>\n",
       "    </tr>\n",
       "  </thead>\n",
       "  <tbody>\n",
       "    <tr>\n",
       "      <th>24</th>\n",
       "      <td>1998</td>\n",
       "      <td>1384</td>\n",
       "    </tr>\n",
       "    <tr>\n",
       "      <th>25</th>\n",
       "      <td>2000</td>\n",
       "      <td>5418</td>\n",
       "    </tr>\n",
       "    <tr>\n",
       "      <th>26</th>\n",
       "      <td>2002</td>\n",
       "      <td>1582</td>\n",
       "    </tr>\n",
       "    <tr>\n",
       "      <th>27</th>\n",
       "      <td>2004</td>\n",
       "      <td>5531</td>\n",
       "    </tr>\n",
       "    <tr>\n",
       "      <th>28</th>\n",
       "      <td>2006</td>\n",
       "      <td>1757</td>\n",
       "    </tr>\n",
       "    <tr>\n",
       "      <th>29</th>\n",
       "      <td>2008</td>\n",
       "      <td>5793</td>\n",
       "    </tr>\n",
       "    <tr>\n",
       "      <th>30</th>\n",
       "      <td>2010</td>\n",
       "      <td>1847</td>\n",
       "    </tr>\n",
       "    <tr>\n",
       "      <th>31</th>\n",
       "      <td>2012</td>\n",
       "      <td>5791</td>\n",
       "    </tr>\n",
       "    <tr>\n",
       "      <th>32</th>\n",
       "      <td>2014</td>\n",
       "      <td>2023</td>\n",
       "    </tr>\n",
       "    <tr>\n",
       "      <th>33</th>\n",
       "      <td>2016</td>\n",
       "      <td>6203</td>\n",
       "    </tr>\n",
       "  </tbody>\n",
       "</table>\n",
       "</div>"
      ],
      "text/plain": [
       "    Year   Sex\n",
       "24  1998  1384\n",
       "25  2000  5418\n",
       "26  2002  1582\n",
       "27  2004  5531\n",
       "28  2006  1757\n",
       "29  2008  5793\n",
       "30  2010  1847\n",
       "31  2012  5791\n",
       "32  2014  2023\n",
       "33  2016  6203"
      ]
     },
     "execution_count": 50,
     "metadata": {},
     "output_type": "execute_result"
    }
   ],
   "source": [
    "female_participants1.tail(10)    #result for bottom 10 years"
   ]
  },
  {
   "cell_type": "code",
   "execution_count": 51,
   "id": "dc01cee3",
   "metadata": {},
   "outputs": [
    {
     "data": {
      "image/png": "[encoded data removed]",
      "text/plain": [
       "<Figure size 1440x720 with 1 Axes>"
      ]
     },
     "metadata": {},
     "output_type": "display_data"
    }
   ],
   "source": [
    "sns.set(style='darkgrid')\n",
    "plt.figure(figsize=(20,10))\n",
    "sns.countplot(x='Year',data=female_participants,palette='Spectral')\n",
    "plt.title('female participants1')\n",
    "plt.show()"
   ]
  },
  {
   "cell_type": "markdown",
   "id": "1e35f19f",
   "metadata": {},
   "source": [
    "In year 2016 most females participated in olympic then in year 2012 and 2008 count is nearly same."
   ]
  },
  {
   "cell_type": "markdown",
   "id": "13ce2952",
   "metadata": {},
   "source": [
    "## Total number of male athletes in each olympics"
   ]
  },
  {
   "cell_type": "code",
   "execution_count": 52,
   "id": "01adb809",
   "metadata": {},
   "outputs": [
    {
     "data": {
      "text/html": [
       "<div>\n",
       "<style scoped>\n",
       "    .dataframe tbody tr th:only-of-type {\n",
       "        vertical-align: middle;\n",
       "    }\n",
       "\n",
       "    .dataframe tbody tr th {\n",
       "        vertical-align: top;\n",
       "    }\n",
       "\n",
       "    .dataframe thead th {\n",
       "        text-align: right;\n",
       "    }\n",
       "</style>\n",
       "<table border=\"1\" class=\"dataframe\">\n",
       "  <thead>\n",
       "    <tr style=\"text-align: right;\">\n",
       "      <th></th>\n",
       "      <th>Year</th>\n",
       "      <th>Sex</th>\n",
       "    </tr>\n",
       "  </thead>\n",
       "  <tbody>\n",
       "    <tr>\n",
       "      <th>25</th>\n",
       "      <td>1998</td>\n",
       "      <td>2221</td>\n",
       "    </tr>\n",
       "    <tr>\n",
       "      <th>26</th>\n",
       "      <td>2000</td>\n",
       "      <td>8380</td>\n",
       "    </tr>\n",
       "    <tr>\n",
       "      <th>27</th>\n",
       "      <td>2002</td>\n",
       "      <td>2527</td>\n",
       "    </tr>\n",
       "    <tr>\n",
       "      <th>28</th>\n",
       "      <td>2004</td>\n",
       "      <td>7890</td>\n",
       "    </tr>\n",
       "    <tr>\n",
       "      <th>29</th>\n",
       "      <td>2006</td>\n",
       "      <td>2625</td>\n",
       "    </tr>\n",
       "    <tr>\n",
       "      <th>30</th>\n",
       "      <td>2008</td>\n",
       "      <td>7773</td>\n",
       "    </tr>\n",
       "    <tr>\n",
       "      <th>31</th>\n",
       "      <td>2010</td>\n",
       "      <td>2555</td>\n",
       "    </tr>\n",
       "    <tr>\n",
       "      <th>32</th>\n",
       "      <td>2012</td>\n",
       "      <td>7093</td>\n",
       "    </tr>\n",
       "    <tr>\n",
       "      <th>33</th>\n",
       "      <td>2014</td>\n",
       "      <td>2868</td>\n",
       "    </tr>\n",
       "    <tr>\n",
       "      <th>34</th>\n",
       "      <td>2016</td>\n",
       "      <td>7453</td>\n",
       "    </tr>\n",
       "  </tbody>\n",
       "</table>\n",
       "</div>"
      ],
      "text/plain": [
       "    Year   Sex\n",
       "25  1998  2221\n",
       "26  2000  8380\n",
       "27  2002  2527\n",
       "28  2004  7890\n",
       "29  2006  2625\n",
       "30  2008  7773\n",
       "31  2010  2555\n",
       "32  2012  7093\n",
       "33  2014  2868\n",
       "34  2016  7453"
      ]
     },
     "execution_count": 52,
     "metadata": {},
     "output_type": "execute_result"
    }
   ],
   "source": [
    "male_participants = ath_df[(ath_df.Sex=='M')][['Sex','Year']]\n",
    "male_participants1 = male_participants.groupby('Year').count().reset_index()\n",
    "male_participants1.tail(10)"
   ]
  },
  {
   "cell_type": "code",
   "execution_count": 53,
   "id": "8e2300f9",
   "metadata": {},
   "outputs": [
    {
     "data": {
      "image/png": "[encoded data removed]",
      "text/plain": [
       "<Figure size 1440x720 with 1 Axes>"
      ]
     },
     "metadata": {},
     "output_type": "display_data"
    }
   ],
   "source": [
    "sns.set(style='darkgrid')\n",
    "plt.figure(figsize=(20,10))\n",
    "sns.countplot(x='Year',data=male_participants,palette='Spectral')\n",
    "plt.title('male participants1')\n",
    "plt.show()"
   ]
  },
  {
   "cell_type": "markdown",
   "id": "7acfd5ea",
   "metadata": {},
   "source": [
    "In year 1992 most male athelets participated in olympic"
   ]
  },
  {
   "cell_type": "markdown",
   "id": "0b75292c",
   "metadata": {},
   "source": [
    "## Gold medal athletes"
   ]
  },
  {
   "cell_type": "code",
   "execution_count": 54,
   "id": "f31760e9",
   "metadata": {},
   "outputs": [
    {
     "data": {
      "text/html": [
       "<div>\n",
       "<style scoped>\n",
       "    .dataframe tbody tr th:only-of-type {\n",
       "        vertical-align: middle;\n",
       "    }\n",
       "\n",
       "    .dataframe tbody tr th {\n",
       "        vertical-align: top;\n",
       "    }\n",
       "\n",
       "    .dataframe thead th {\n",
       "        text-align: right;\n",
       "    }\n",
       "</style>\n",
       "<table border=\"1\" class=\"dataframe\">\n",
       "  <thead>\n",
       "    <tr style=\"text-align: right;\">\n",
       "      <th></th>\n",
       "      <th>ID</th>\n",
       "      <th>Name</th>\n",
       "      <th>Sex</th>\n",
       "      <th>Age</th>\n",
       "      <th>Height</th>\n",
       "      <th>Weight</th>\n",
       "      <th>Team</th>\n",
       "      <th>NOC</th>\n",
       "      <th>Games</th>\n",
       "      <th>Year</th>\n",
       "      <th>Season</th>\n",
       "      <th>City</th>\n",
       "      <th>Sport</th>\n",
       "      <th>Event</th>\n",
       "      <th>Medal</th>\n",
       "      <th>Region</th>\n",
       "    </tr>\n",
       "  </thead>\n",
       "  <tbody>\n",
       "    <tr>\n",
       "      <th>68</th>\n",
       "      <td>17294</td>\n",
       "      <td>Cai Yalin</td>\n",
       "      <td>M</td>\n",
       "      <td>23</td>\n",
       "      <td>174</td>\n",
       "      <td>60</td>\n",
       "      <td>China</td>\n",
       "      <td>CHN</td>\n",
       "      <td>2000 Summer</td>\n",
       "      <td>2000</td>\n",
       "      <td>Summer</td>\n",
       "      <td>Sydney</td>\n",
       "      <td>Shooting</td>\n",
       "      <td>Shooting Men's Air Rifle, 10 metres</td>\n",
       "      <td>Gold</td>\n",
       "      <td>China</td>\n",
       "    </tr>\n",
       "    <tr>\n",
       "      <th>77</th>\n",
       "      <td>17299</td>\n",
       "      <td>Cai Yun</td>\n",
       "      <td>M</td>\n",
       "      <td>32</td>\n",
       "      <td>181</td>\n",
       "      <td>68</td>\n",
       "      <td>China-1</td>\n",
       "      <td>CHN</td>\n",
       "      <td>2012 Summer</td>\n",
       "      <td>2012</td>\n",
       "      <td>Summer</td>\n",
       "      <td>London</td>\n",
       "      <td>Badminton</td>\n",
       "      <td>Badminton Men's Doubles</td>\n",
       "      <td>Gold</td>\n",
       "      <td>China</td>\n",
       "    </tr>\n",
       "    <tr>\n",
       "      <th>87</th>\n",
       "      <td>17995</td>\n",
       "      <td>Cao Lei</td>\n",
       "      <td>F</td>\n",
       "      <td>24</td>\n",
       "      <td>168</td>\n",
       "      <td>75</td>\n",
       "      <td>China</td>\n",
       "      <td>CHN</td>\n",
       "      <td>2008 Summer</td>\n",
       "      <td>2008</td>\n",
       "      <td>Summer</td>\n",
       "      <td>Beijing</td>\n",
       "      <td>Weightlifting</td>\n",
       "      <td>Weightlifting Women's Heavyweight</td>\n",
       "      <td>Gold</td>\n",
       "      <td>China</td>\n",
       "    </tr>\n",
       "    <tr>\n",
       "      <th>104</th>\n",
       "      <td>18005</td>\n",
       "      <td>Cao Yuan</td>\n",
       "      <td>M</td>\n",
       "      <td>17</td>\n",
       "      <td>160</td>\n",
       "      <td>42</td>\n",
       "      <td>China</td>\n",
       "      <td>CHN</td>\n",
       "      <td>2012 Summer</td>\n",
       "      <td>2012</td>\n",
       "      <td>Summer</td>\n",
       "      <td>London</td>\n",
       "      <td>Diving</td>\n",
       "      <td>Diving Men's Synchronized Platform</td>\n",
       "      <td>Gold</td>\n",
       "      <td>China</td>\n",
       "    </tr>\n",
       "    <tr>\n",
       "      <th>105</th>\n",
       "      <td>18005</td>\n",
       "      <td>Cao Yuan</td>\n",
       "      <td>M</td>\n",
       "      <td>21</td>\n",
       "      <td>160</td>\n",
       "      <td>42</td>\n",
       "      <td>China</td>\n",
       "      <td>CHN</td>\n",
       "      <td>2016 Summer</td>\n",
       "      <td>2016</td>\n",
       "      <td>Summer</td>\n",
       "      <td>Rio de Janeiro</td>\n",
       "      <td>Diving</td>\n",
       "      <td>Diving Men's Springboard</td>\n",
       "      <td>Gold</td>\n",
       "      <td>China</td>\n",
       "    </tr>\n",
       "    <tr>\n",
       "      <th>125</th>\n",
       "      <td>20150</td>\n",
       "      <td>Chen Aisen</td>\n",
       "      <td>M</td>\n",
       "      <td>20</td>\n",
       "      <td>168</td>\n",
       "      <td>60</td>\n",
       "      <td>China</td>\n",
       "      <td>CHN</td>\n",
       "      <td>2016 Summer</td>\n",
       "      <td>2016</td>\n",
       "      <td>Summer</td>\n",
       "      <td>Rio de Janeiro</td>\n",
       "      <td>Diving</td>\n",
       "      <td>Diving Men's Platform</td>\n",
       "      <td>Gold</td>\n",
       "      <td>China</td>\n",
       "    </tr>\n",
       "    <tr>\n",
       "      <th>126</th>\n",
       "      <td>20150</td>\n",
       "      <td>Chen Aisen</td>\n",
       "      <td>M</td>\n",
       "      <td>20</td>\n",
       "      <td>168</td>\n",
       "      <td>60</td>\n",
       "      <td>China</td>\n",
       "      <td>CHN</td>\n",
       "      <td>2016 Summer</td>\n",
       "      <td>2016</td>\n",
       "      <td>Summer</td>\n",
       "      <td>Rio de Janeiro</td>\n",
       "      <td>Diving</td>\n",
       "      <td>Diving Men's Synchronized Platform</td>\n",
       "      <td>Gold</td>\n",
       "      <td>China</td>\n",
       "    </tr>\n",
       "    <tr>\n",
       "      <th>141</th>\n",
       "      <td>20182</td>\n",
       "      <td>Chen Ding</td>\n",
       "      <td>M</td>\n",
       "      <td>19</td>\n",
       "      <td>175</td>\n",
       "      <td>62</td>\n",
       "      <td>China</td>\n",
       "      <td>CHN</td>\n",
       "      <td>2012 Summer</td>\n",
       "      <td>2012</td>\n",
       "      <td>Summer</td>\n",
       "      <td>London</td>\n",
       "      <td>Athletics</td>\n",
       "      <td>Athletics Men's 20 kilometres Walk</td>\n",
       "      <td>Gold</td>\n",
       "      <td>China</td>\n",
       "    </tr>\n",
       "    <tr>\n",
       "      <th>180</th>\n",
       "      <td>20217</td>\n",
       "      <td>Chen Jing</td>\n",
       "      <td>F</td>\n",
       "      <td>19</td>\n",
       "      <td>170</td>\n",
       "      <td>60</td>\n",
       "      <td>China</td>\n",
       "      <td>CHN</td>\n",
       "      <td>1988 Summer</td>\n",
       "      <td>1988</td>\n",
       "      <td>Summer</td>\n",
       "      <td>Seoul</td>\n",
       "      <td>Table Tennis</td>\n",
       "      <td>Table Tennis Women's Singles</td>\n",
       "      <td>Gold</td>\n",
       "      <td>China</td>\n",
       "    </tr>\n",
       "    <tr>\n",
       "      <th>186</th>\n",
       "      <td>20220</td>\n",
       "      <td>Chen Jing</td>\n",
       "      <td>F</td>\n",
       "      <td>28</td>\n",
       "      <td>182</td>\n",
       "      <td>75</td>\n",
       "      <td>China</td>\n",
       "      <td>CHN</td>\n",
       "      <td>2004 Summer</td>\n",
       "      <td>2004</td>\n",
       "      <td>Summer</td>\n",
       "      <td>Athina</td>\n",
       "      <td>Volleyball</td>\n",
       "      <td>Volleyball Women's Volleyball</td>\n",
       "      <td>Gold</td>\n",
       "      <td>China</td>\n",
       "    </tr>\n",
       "  </tbody>\n",
       "</table>\n",
       "</div>"
      ],
      "text/plain": [
       "        ID        Name Sex  Age  Height  Weight     Team  NOC        Games  \\\n",
       "68   17294   Cai Yalin   M   23     174      60    China  CHN  2000 Summer   \n",
       "77   17299     Cai Yun   M   32     181      68  China-1  CHN  2012 Summer   \n",
       "87   17995     Cao Lei   F   24     168      75    China  CHN  2008 Summer   \n",
       "104  18005    Cao Yuan   M   17     160      42    China  CHN  2012 Summer   \n",
       "105  18005    Cao Yuan   M   21     160      42    China  CHN  2016 Summer   \n",
       "125  20150  Chen Aisen   M   20     168      60    China  CHN  2016 Summer   \n",
       "126  20150  Chen Aisen   M   20     168      60    China  CHN  2016 Summer   \n",
       "141  20182   Chen Ding   M   19     175      62    China  CHN  2012 Summer   \n",
       "180  20217   Chen Jing   F   19     170      60    China  CHN  1988 Summer   \n",
       "186  20220   Chen Jing   F   28     182      75    China  CHN  2004 Summer   \n",
       "\n",
       "     Year  Season            City          Sport  \\\n",
       "68   2000  Summer          Sydney       Shooting   \n",
       "77   2012  Summer          London      Badminton   \n",
       "87   2008  Summer         Beijing  Weightlifting   \n",
       "104  2012  Summer          London         Diving   \n",
       "105  2016  Summer  Rio de Janeiro         Diving   \n",
       "125  2016  Summer  Rio de Janeiro         Diving   \n",
       "126  2016  Summer  Rio de Janeiro         Diving   \n",
       "141  2012  Summer          London      Athletics   \n",
       "180  1988  Summer           Seoul   Table Tennis   \n",
       "186  2004  Summer          Athina     Volleyball   \n",
       "\n",
       "                                   Event Medal Region  \n",
       "68   Shooting Men's Air Rifle, 10 metres  Gold  China  \n",
       "77               Badminton Men's Doubles  Gold  China  \n",
       "87     Weightlifting Women's Heavyweight  Gold  China  \n",
       "104   Diving Men's Synchronized Platform  Gold  China  \n",
       "105             Diving Men's Springboard  Gold  China  \n",
       "125                Diving Men's Platform  Gold  China  \n",
       "126   Diving Men's Synchronized Platform  Gold  China  \n",
       "141   Athletics Men's 20 kilometres Walk  Gold  China  \n",
       "180         Table Tennis Women's Singles  Gold  China  \n",
       "186        Volleyball Women's Volleyball  Gold  China  "
      ]
     },
     "execution_count": 54,
     "metadata": {},
     "output_type": "execute_result"
    }
   ],
   "source": [
    "gold_medals = ath_df[(ath_df.Medal == 'Gold')]\n",
    "gold_medals.head(10)"
   ]
  },
  {
   "cell_type": "code",
   "execution_count": 55,
   "id": "386bb6b9",
   "metadata": {},
   "outputs": [
    {
     "data": {
      "image/png": "[encoded data removed]",
      "text/plain": [
       "<Figure size 1440x720 with 1 Axes>"
      ]
     },
     "metadata": {},
     "output_type": "display_data"
    }
   ],
   "source": [
    "sns.set(style='darkgrid')\n",
    "plt.figure(figsize=(20,10))\n",
    "sns.countplot(gold_medals['Age'])\n",
    "plt.title('Distribution of Gold Medals')\n",
    "plt.show()\n"
   ]
  },
  {
   "cell_type": "markdown",
   "id": "42dac65f",
   "metadata": {},
   "source": [
    "athelets whose age are 23 and 24 won most gold medals"
   ]
  },
  {
   "cell_type": "markdown",
   "id": "8c53cc48",
   "metadata": {},
   "source": [
    "## Silver medal athletes"
   ]
  },
  {
   "cell_type": "code",
   "execution_count": 56,
   "id": "53fcab15",
   "metadata": {},
   "outputs": [
    {
     "data": {
      "text/html": [
       "<div>\n",
       "<style scoped>\n",
       "    .dataframe tbody tr th:only-of-type {\n",
       "        vertical-align: middle;\n",
       "    }\n",
       "\n",
       "    .dataframe tbody tr th {\n",
       "        vertical-align: top;\n",
       "    }\n",
       "\n",
       "    .dataframe thead th {\n",
       "        text-align: right;\n",
       "    }\n",
       "</style>\n",
       "<table border=\"1\" class=\"dataframe\">\n",
       "  <thead>\n",
       "    <tr style=\"text-align: right;\">\n",
       "      <th></th>\n",
       "      <th>ID</th>\n",
       "      <th>Name</th>\n",
       "      <th>Sex</th>\n",
       "      <th>Age</th>\n",
       "      <th>Height</th>\n",
       "      <th>Weight</th>\n",
       "      <th>Team</th>\n",
       "      <th>NOC</th>\n",
       "      <th>Games</th>\n",
       "      <th>Year</th>\n",
       "      <th>Season</th>\n",
       "      <th>City</th>\n",
       "      <th>Sport</th>\n",
       "      <th>Event</th>\n",
       "      <th>Medal</th>\n",
       "      <th>Region</th>\n",
       "    </tr>\n",
       "  </thead>\n",
       "  <tbody>\n",
       "    <tr>\n",
       "      <th>8</th>\n",
       "      <td>3610</td>\n",
       "      <td>An Yulong</td>\n",
       "      <td>M</td>\n",
       "      <td>19</td>\n",
       "      <td>173</td>\n",
       "      <td>70</td>\n",
       "      <td>China</td>\n",
       "      <td>CHN</td>\n",
       "      <td>1998 Winter</td>\n",
       "      <td>1998</td>\n",
       "      <td>Winter</td>\n",
       "      <td>Nagano</td>\n",
       "      <td>Short Track Speed Skating</td>\n",
       "      <td>Short Track Speed Skating Men's 500 metres</td>\n",
       "      <td>Silver</td>\n",
       "      <td>China</td>\n",
       "    </tr>\n",
       "    <tr>\n",
       "      <th>12</th>\n",
       "      <td>3611</td>\n",
       "      <td>An Zhongxin</td>\n",
       "      <td>F</td>\n",
       "      <td>23</td>\n",
       "      <td>170</td>\n",
       "      <td>65</td>\n",
       "      <td>China</td>\n",
       "      <td>CHN</td>\n",
       "      <td>1996 Summer</td>\n",
       "      <td>1996</td>\n",
       "      <td>Summer</td>\n",
       "      <td>Atlanta</td>\n",
       "      <td>Softball</td>\n",
       "      <td>Softball Women's Softball</td>\n",
       "      <td>Silver</td>\n",
       "      <td>China</td>\n",
       "    </tr>\n",
       "    <tr>\n",
       "      <th>33</th>\n",
       "      <td>7597</td>\n",
       "      <td>Bao Yingying</td>\n",
       "      <td>F</td>\n",
       "      <td>24</td>\n",
       "      <td>172</td>\n",
       "      <td>67</td>\n",
       "      <td>China</td>\n",
       "      <td>CHN</td>\n",
       "      <td>2008 Summer</td>\n",
       "      <td>2008</td>\n",
       "      <td>Summer</td>\n",
       "      <td>Beijing</td>\n",
       "      <td>Fencing</td>\n",
       "      <td>Fencing Women's Sabre, Team</td>\n",
       "      <td>Silver</td>\n",
       "      <td>China</td>\n",
       "    </tr>\n",
       "    <tr>\n",
       "      <th>41</th>\n",
       "      <td>11223</td>\n",
       "      <td>Bi Wenjing</td>\n",
       "      <td>F</td>\n",
       "      <td>14</td>\n",
       "      <td>142</td>\n",
       "      <td>35</td>\n",
       "      <td>China</td>\n",
       "      <td>CHN</td>\n",
       "      <td>1996 Summer</td>\n",
       "      <td>1996</td>\n",
       "      <td>Summer</td>\n",
       "      <td>Atlanta</td>\n",
       "      <td>Gymnastics</td>\n",
       "      <td>Gymnastics Women's Uneven Bars</td>\n",
       "      <td>Silver</td>\n",
       "      <td>China</td>\n",
       "    </tr>\n",
       "    <tr>\n",
       "      <th>63</th>\n",
       "      <td>17289</td>\n",
       "      <td>Cai Tongtong</td>\n",
       "      <td>F</td>\n",
       "      <td>18</td>\n",
       "      <td>168</td>\n",
       "      <td>48</td>\n",
       "      <td>China</td>\n",
       "      <td>CHN</td>\n",
       "      <td>2008 Summer</td>\n",
       "      <td>2008</td>\n",
       "      <td>Summer</td>\n",
       "      <td>Beijing</td>\n",
       "      <td>Rhythmic Gymnastics</td>\n",
       "      <td>Rhythmic Gymnastics Women's Group</td>\n",
       "      <td>Silver</td>\n",
       "      <td>China</td>\n",
       "    </tr>\n",
       "    <tr>\n",
       "      <th>76</th>\n",
       "      <td>17299</td>\n",
       "      <td>Cai Yun</td>\n",
       "      <td>M</td>\n",
       "      <td>28</td>\n",
       "      <td>181</td>\n",
       "      <td>68</td>\n",
       "      <td>China-1</td>\n",
       "      <td>CHN</td>\n",
       "      <td>2008 Summer</td>\n",
       "      <td>2008</td>\n",
       "      <td>Summer</td>\n",
       "      <td>Beijing</td>\n",
       "      <td>Badminton</td>\n",
       "      <td>Badminton Men's Doubles</td>\n",
       "      <td>Silver</td>\n",
       "      <td>China</td>\n",
       "    </tr>\n",
       "    <tr>\n",
       "      <th>79</th>\n",
       "      <td>17300</td>\n",
       "      <td>Cai Zelin</td>\n",
       "      <td>M</td>\n",
       "      <td>25</td>\n",
       "      <td>175</td>\n",
       "      <td>55</td>\n",
       "      <td>China</td>\n",
       "      <td>CHN</td>\n",
       "      <td>2016 Summer</td>\n",
       "      <td>2016</td>\n",
       "      <td>Summer</td>\n",
       "      <td>Rio de Janeiro</td>\n",
       "      <td>Athletics</td>\n",
       "      <td>Athletics Men's 20 kilometres Walk</td>\n",
       "      <td>Silver</td>\n",
       "      <td>China</td>\n",
       "    </tr>\n",
       "    <tr>\n",
       "      <th>91</th>\n",
       "      <td>17996</td>\n",
       "      <td>Cao Mianying</td>\n",
       "      <td>F</td>\n",
       "      <td>29</td>\n",
       "      <td>176</td>\n",
       "      <td>71</td>\n",
       "      <td>China</td>\n",
       "      <td>CHN</td>\n",
       "      <td>1996 Summer</td>\n",
       "      <td>1996</td>\n",
       "      <td>Summer</td>\n",
       "      <td>Atlanta</td>\n",
       "      <td>Rowing</td>\n",
       "      <td>Rowing Women's Double Sculls</td>\n",
       "      <td>Silver</td>\n",
       "      <td>China</td>\n",
       "    </tr>\n",
       "    <tr>\n",
       "      <th>109</th>\n",
       "      <td>18007</td>\n",
       "      <td>Cao Zhongrong</td>\n",
       "      <td>M</td>\n",
       "      <td>30</td>\n",
       "      <td>180</td>\n",
       "      <td>73</td>\n",
       "      <td>China</td>\n",
       "      <td>CHN</td>\n",
       "      <td>2012 Summer</td>\n",
       "      <td>2012</td>\n",
       "      <td>Summer</td>\n",
       "      <td>London</td>\n",
       "      <td>Modern Pentathlon</td>\n",
       "      <td>Modern Pentathlon Men's Individual</td>\n",
       "      <td>Silver</td>\n",
       "      <td>China</td>\n",
       "    </tr>\n",
       "    <tr>\n",
       "      <th>118</th>\n",
       "      <td>19779</td>\n",
       "      <td>Chang Si</td>\n",
       "      <td>F</td>\n",
       "      <td>25</td>\n",
       "      <td>170</td>\n",
       "      <td>56</td>\n",
       "      <td>China</td>\n",
       "      <td>CHN</td>\n",
       "      <td>2012 Summer</td>\n",
       "      <td>2012</td>\n",
       "      <td>Summer</td>\n",
       "      <td>London</td>\n",
       "      <td>Synchronized Swimming</td>\n",
       "      <td>Synchronized Swimming Women's Team</td>\n",
       "      <td>Silver</td>\n",
       "      <td>China</td>\n",
       "    </tr>\n",
       "  </tbody>\n",
       "</table>\n",
       "</div>"
      ],
      "text/plain": [
       "        ID           Name Sex  Age  Height  Weight     Team  NOC        Games  \\\n",
       "8     3610      An Yulong   M   19     173      70    China  CHN  1998 Winter   \n",
       "12    3611    An Zhongxin   F   23     170      65    China  CHN  1996 Summer   \n",
       "33    7597   Bao Yingying   F   24     172      67    China  CHN  2008 Summer   \n",
       "41   11223     Bi Wenjing   F   14     142      35    China  CHN  1996 Summer   \n",
       "63   17289   Cai Tongtong   F   18     168      48    China  CHN  2008 Summer   \n",
       "76   17299        Cai Yun   M   28     181      68  China-1  CHN  2008 Summer   \n",
       "79   17300      Cai Zelin   M   25     175      55    China  CHN  2016 Summer   \n",
       "91   17996   Cao Mianying   F   29     176      71    China  CHN  1996 Summer   \n",
       "109  18007  Cao Zhongrong   M   30     180      73    China  CHN  2012 Summer   \n",
       "118  19779       Chang Si   F   25     170      56    China  CHN  2012 Summer   \n",
       "\n",
       "     Year  Season            City                      Sport  \\\n",
       "8    1998  Winter          Nagano  Short Track Speed Skating   \n",
       "12   1996  Summer         Atlanta                   Softball   \n",
       "33   2008  Summer         Beijing                    Fencing   \n",
       "41   1996  Summer         Atlanta                 Gymnastics   \n",
       "63   2008  Summer         Beijing        Rhythmic Gymnastics   \n",
       "76   2008  Summer         Beijing                  Badminton   \n",
       "79   2016  Summer  Rio de Janeiro                  Athletics   \n",
       "91   1996  Summer         Atlanta                     Rowing   \n",
       "109  2012  Summer          London          Modern Pentathlon   \n",
       "118  2012  Summer          London      Synchronized Swimming   \n",
       "\n",
       "                                          Event   Medal Region  \n",
       "8    Short Track Speed Skating Men's 500 metres  Silver  China  \n",
       "12                    Softball Women's Softball  Silver  China  \n",
       "33                  Fencing Women's Sabre, Team  Silver  China  \n",
       "41               Gymnastics Women's Uneven Bars  Silver  China  \n",
       "63            Rhythmic Gymnastics Women's Group  Silver  China  \n",
       "76                      Badminton Men's Doubles  Silver  China  \n",
       "79           Athletics Men's 20 kilometres Walk  Silver  China  \n",
       "91                 Rowing Women's Double Sculls  Silver  China  \n",
       "109          Modern Pentathlon Men's Individual  Silver  China  \n",
       "118          Synchronized Swimming Women's Team  Silver  China  "
      ]
     },
     "execution_count": 56,
     "metadata": {},
     "output_type": "execute_result"
    }
   ],
   "source": [
    "Silver_medals = ath_df[(ath_df.Medal == 'Silver')]\n",
    "Silver_medals.head(10)"
   ]
  },
  {
   "cell_type": "code",
   "execution_count": 57,
   "id": "3de998a0",
   "metadata": {},
   "outputs": [
    {
     "data": {
      "image/png": "[encoded data removed]",
      "text/plain": [
       "<Figure size 1440x720 with 1 Axes>"
      ]
     },
     "metadata": {},
     "output_type": "display_data"
    }
   ],
   "source": [
    "sns.set(style='darkgrid')\n",
    "plt.figure(figsize=(20,10))\n",
    "sns.countplot(Silver_medals['Age'])\n",
    "plt.title('Distribution of Silver Medals')\n",
    "plt.show()"
   ]
  },
  {
   "cell_type": "markdown",
   "id": "58c7a5b3",
   "metadata": {},
   "source": [
    "athelets whose age are 23 most silver medals and after that whose age are 24 and 25 won silver medals"
   ]
  },
  {
   "cell_type": "markdown",
   "id": "d48dbc1d",
   "metadata": {},
   "source": [
    "## Bronze Medal athletes"
   ]
  },
  {
   "cell_type": "code",
   "execution_count": 58,
   "id": "5d953aad",
   "metadata": {},
   "outputs": [
    {
     "data": {
      "text/html": [
       "<div>\n",
       "<style scoped>\n",
       "    .dataframe tbody tr th:only-of-type {\n",
       "        vertical-align: middle;\n",
       "    }\n",
       "\n",
       "    .dataframe tbody tr th {\n",
       "        vertical-align: top;\n",
       "    }\n",
       "\n",
       "    .dataframe thead th {\n",
       "        text-align: right;\n",
       "    }\n",
       "</style>\n",
       "<table border=\"1\" class=\"dataframe\">\n",
       "  <thead>\n",
       "    <tr style=\"text-align: right;\">\n",
       "      <th></th>\n",
       "      <th>ID</th>\n",
       "      <th>Name</th>\n",
       "      <th>Sex</th>\n",
       "      <th>Age</th>\n",
       "      <th>Height</th>\n",
       "      <th>Weight</th>\n",
       "      <th>Team</th>\n",
       "      <th>NOC</th>\n",
       "      <th>Games</th>\n",
       "      <th>Year</th>\n",
       "      <th>Season</th>\n",
       "      <th>City</th>\n",
       "      <th>Sport</th>\n",
       "      <th>Event</th>\n",
       "      <th>Medal</th>\n",
       "      <th>Region</th>\n",
       "    </tr>\n",
       "  </thead>\n",
       "  <tbody>\n",
       "    <tr>\n",
       "      <th>10</th>\n",
       "      <td>3610</td>\n",
       "      <td>An Yulong</td>\n",
       "      <td>M</td>\n",
       "      <td>19</td>\n",
       "      <td>173</td>\n",
       "      <td>70</td>\n",
       "      <td>China</td>\n",
       "      <td>CHN</td>\n",
       "      <td>1998 Winter</td>\n",
       "      <td>1998</td>\n",
       "      <td>Winter</td>\n",
       "      <td>Nagano</td>\n",
       "      <td>Short Track Speed Skating</td>\n",
       "      <td>Short Track Speed Skating Men's 5,000 metres R...</td>\n",
       "      <td>Bronze</td>\n",
       "      <td>China</td>\n",
       "    </tr>\n",
       "    <tr>\n",
       "      <th>11</th>\n",
       "      <td>3610</td>\n",
       "      <td>An Yulong</td>\n",
       "      <td>M</td>\n",
       "      <td>23</td>\n",
       "      <td>173</td>\n",
       "      <td>70</td>\n",
       "      <td>China</td>\n",
       "      <td>CHN</td>\n",
       "      <td>2002 Winter</td>\n",
       "      <td>2002</td>\n",
       "      <td>Winter</td>\n",
       "      <td>Salt Lake City</td>\n",
       "      <td>Short Track Speed Skating</td>\n",
       "      <td>Short Track Speed Skating Men's 5,000 metres R...</td>\n",
       "      <td>Bronze</td>\n",
       "      <td>China</td>\n",
       "    </tr>\n",
       "    <tr>\n",
       "      <th>17</th>\n",
       "      <td>6381</td>\n",
       "      <td>Ba Yan</td>\n",
       "      <td>F</td>\n",
       "      <td>21</td>\n",
       "      <td>183</td>\n",
       "      <td>78</td>\n",
       "      <td>China</td>\n",
       "      <td>CHN</td>\n",
       "      <td>1984 Summer</td>\n",
       "      <td>1984</td>\n",
       "      <td>Summer</td>\n",
       "      <td>Los Angeles</td>\n",
       "      <td>Basketball</td>\n",
       "      <td>Basketball Women's Basketball</td>\n",
       "      <td>Bronze</td>\n",
       "      <td>China</td>\n",
       "    </tr>\n",
       "    <tr>\n",
       "      <th>53</th>\n",
       "      <td>17282</td>\n",
       "      <td>Cai Huijue</td>\n",
       "      <td>F</td>\n",
       "      <td>16</td>\n",
       "      <td>174</td>\n",
       "      <td>63</td>\n",
       "      <td>China</td>\n",
       "      <td>CHN</td>\n",
       "      <td>1996 Summer</td>\n",
       "      <td>1996</td>\n",
       "      <td>Summer</td>\n",
       "      <td>Atlanta</td>\n",
       "      <td>Swimming</td>\n",
       "      <td>Swimming Women's 4 x 100 metres Medley Relay</td>\n",
       "      <td>Bronze</td>\n",
       "      <td>China</td>\n",
       "    </tr>\n",
       "    <tr>\n",
       "      <th>106</th>\n",
       "      <td>18005</td>\n",
       "      <td>Cao Yuan</td>\n",
       "      <td>M</td>\n",
       "      <td>21</td>\n",
       "      <td>160</td>\n",
       "      <td>42</td>\n",
       "      <td>China</td>\n",
       "      <td>CHN</td>\n",
       "      <td>2016 Summer</td>\n",
       "      <td>2016</td>\n",
       "      <td>Summer</td>\n",
       "      <td>Rio de Janeiro</td>\n",
       "      <td>Diving</td>\n",
       "      <td>Diving Men's Synchronized Springboard</td>\n",
       "      <td>Bronze</td>\n",
       "      <td>China</td>\n",
       "    </tr>\n",
       "    <tr>\n",
       "      <th>140</th>\n",
       "      <td>20181</td>\n",
       "      <td>Chen Dequan</td>\n",
       "      <td>M</td>\n",
       "      <td>18</td>\n",
       "      <td>176</td>\n",
       "      <td>66</td>\n",
       "      <td>China</td>\n",
       "      <td>CHN</td>\n",
       "      <td>2014 Winter</td>\n",
       "      <td>2014</td>\n",
       "      <td>Winter</td>\n",
       "      <td>Sochi</td>\n",
       "      <td>Short Track Speed Skating</td>\n",
       "      <td>Short Track Speed Skating Men's 5,000 metres R...</td>\n",
       "      <td>Bronze</td>\n",
       "      <td>China</td>\n",
       "    </tr>\n",
       "    <tr>\n",
       "      <th>176</th>\n",
       "      <td>20215</td>\n",
       "      <td>Chen Jin</td>\n",
       "      <td>M</td>\n",
       "      <td>22</td>\n",
       "      <td>181</td>\n",
       "      <td>73</td>\n",
       "      <td>China</td>\n",
       "      <td>CHN</td>\n",
       "      <td>2008 Summer</td>\n",
       "      <td>2008</td>\n",
       "      <td>Summer</td>\n",
       "      <td>Beijing</td>\n",
       "      <td>Badminton</td>\n",
       "      <td>Badminton Men's Singles</td>\n",
       "      <td>Bronze</td>\n",
       "      <td>China</td>\n",
       "    </tr>\n",
       "    <tr>\n",
       "      <th>203</th>\n",
       "      <td>20238</td>\n",
       "      <td>Chen Long</td>\n",
       "      <td>M</td>\n",
       "      <td>23</td>\n",
       "      <td>188</td>\n",
       "      <td>81</td>\n",
       "      <td>China</td>\n",
       "      <td>CHN</td>\n",
       "      <td>2012 Summer</td>\n",
       "      <td>2012</td>\n",
       "      <td>Summer</td>\n",
       "      <td>London</td>\n",
       "      <td>Badminton</td>\n",
       "      <td>Badminton Men's Singles</td>\n",
       "      <td>Bronze</td>\n",
       "      <td>China</td>\n",
       "    </tr>\n",
       "    <tr>\n",
       "      <th>208</th>\n",
       "      <td>20240</td>\n",
       "      <td>Chen Lu</td>\n",
       "      <td>F</td>\n",
       "      <td>17</td>\n",
       "      <td>162</td>\n",
       "      <td>52</td>\n",
       "      <td>China</td>\n",
       "      <td>CHN</td>\n",
       "      <td>1994 Winter</td>\n",
       "      <td>1994</td>\n",
       "      <td>Winter</td>\n",
       "      <td>Lillehammer</td>\n",
       "      <td>Figure Skating</td>\n",
       "      <td>Figure Skating Women's Singles</td>\n",
       "      <td>Bronze</td>\n",
       "      <td>China</td>\n",
       "    </tr>\n",
       "    <tr>\n",
       "      <th>209</th>\n",
       "      <td>20240</td>\n",
       "      <td>Chen Lu</td>\n",
       "      <td>F</td>\n",
       "      <td>21</td>\n",
       "      <td>162</td>\n",
       "      <td>52</td>\n",
       "      <td>China</td>\n",
       "      <td>CHN</td>\n",
       "      <td>1998 Winter</td>\n",
       "      <td>1998</td>\n",
       "      <td>Winter</td>\n",
       "      <td>Nagano</td>\n",
       "      <td>Figure Skating</td>\n",
       "      <td>Figure Skating Women's Singles</td>\n",
       "      <td>Bronze</td>\n",
       "      <td>China</td>\n",
       "    </tr>\n",
       "  </tbody>\n",
       "</table>\n",
       "</div>"
      ],
      "text/plain": [
       "        ID         Name Sex  Age  Height  Weight   Team  NOC        Games  \\\n",
       "10    3610    An Yulong   M   19     173      70  China  CHN  1998 Winter   \n",
       "11    3610    An Yulong   M   23     173      70  China  CHN  2002 Winter   \n",
       "17    6381       Ba Yan   F   21     183      78  China  CHN  1984 Summer   \n",
       "53   17282   Cai Huijue   F   16     174      63  China  CHN  1996 Summer   \n",
       "106  18005     Cao Yuan   M   21     160      42  China  CHN  2016 Summer   \n",
       "140  20181  Chen Dequan   M   18     176      66  China  CHN  2014 Winter   \n",
       "176  20215     Chen Jin   M   22     181      73  China  CHN  2008 Summer   \n",
       "203  20238    Chen Long   M   23     188      81  China  CHN  2012 Summer   \n",
       "208  20240      Chen Lu   F   17     162      52  China  CHN  1994 Winter   \n",
       "209  20240      Chen Lu   F   21     162      52  China  CHN  1998 Winter   \n",
       "\n",
       "     Year  Season            City                      Sport  \\\n",
       "10   1998  Winter          Nagano  Short Track Speed Skating   \n",
       "11   2002  Winter  Salt Lake City  Short Track Speed Skating   \n",
       "17   1984  Summer     Los Angeles                 Basketball   \n",
       "53   1996  Summer         Atlanta                   Swimming   \n",
       "106  2016  Summer  Rio de Janeiro                     Diving   \n",
       "140  2014  Winter           Sochi  Short Track Speed Skating   \n",
       "176  2008  Summer         Beijing                  Badminton   \n",
       "203  2012  Summer          London                  Badminton   \n",
       "208  1994  Winter     Lillehammer             Figure Skating   \n",
       "209  1998  Winter          Nagano             Figure Skating   \n",
       "\n",
       "                                                 Event   Medal Region  \n",
       "10   Short Track Speed Skating Men's 5,000 metres R...  Bronze  China  \n",
       "11   Short Track Speed Skating Men's 5,000 metres R...  Bronze  China  \n",
       "17                       Basketball Women's Basketball  Bronze  China  \n",
       "53        Swimming Women's 4 x 100 metres Medley Relay  Bronze  China  \n",
       "106              Diving Men's Synchronized Springboard  Bronze  China  \n",
       "140  Short Track Speed Skating Men's 5,000 metres R...  Bronze  China  \n",
       "176                            Badminton Men's Singles  Bronze  China  \n",
       "203                            Badminton Men's Singles  Bronze  China  \n",
       "208                     Figure Skating Women's Singles  Bronze  China  \n",
       "209                     Figure Skating Women's Singles  Bronze  China  "
      ]
     },
     "execution_count": 58,
     "metadata": {},
     "output_type": "execute_result"
    }
   ],
   "source": [
    "bronze_medals = ath_df[(ath_df.Medal == 'Bronze')]\n",
    "bronze_medals.head(10)"
   ]
  },
  {
   "cell_type": "code",
   "execution_count": 59,
   "id": "4eb4276a",
   "metadata": {},
   "outputs": [
    {
     "data": {
      "image/png": "[encoded data removed]",
      "text/plain": [
       "<Figure size 1440x720 with 1 Axes>"
      ]
     },
     "metadata": {},
     "output_type": "display_data"
    }
   ],
   "source": [
    "sns.set(style='darkgrid')\n",
    "plt.figure(figsize=(20,10))\n",
    "sns.countplot(bronze_medals['Age'])\n",
    "plt.title('Distribution of Bronze Medals')\n",
    "plt.show()"
   ]
  },
  {
   "cell_type": "markdown",
   "id": "c17fe975",
   "metadata": {},
   "source": [
    "athelets whose age between 22 to 25 won most bronze medals"
   ]
  },
  {
   "cell_type": "markdown",
   "id": "2c76323b",
   "metadata": {},
   "source": [
    "## Top 10 country who won gold medal"
   ]
  },
  {
   "cell_type": "code",
   "execution_count": 60,
   "id": "9d944f07",
   "metadata": {},
   "outputs": [
    {
     "data": {
      "text/html": [
       "<div>\n",
       "<style scoped>\n",
       "    .dataframe tbody tr th:only-of-type {\n",
       "        vertical-align: middle;\n",
       "    }\n",
       "\n",
       "    .dataframe tbody tr th {\n",
       "        vertical-align: top;\n",
       "    }\n",
       "\n",
       "    .dataframe thead th {\n",
       "        text-align: right;\n",
       "    }\n",
       "</style>\n",
       "<table border=\"1\" class=\"dataframe\">\n",
       "  <thead>\n",
       "    <tr style=\"text-align: right;\">\n",
       "      <th></th>\n",
       "      <th>Region</th>\n",
       "      <th>Medal</th>\n",
       "    </tr>\n",
       "  </thead>\n",
       "  <tbody>\n",
       "    <tr>\n",
       "      <th>0</th>\n",
       "      <td>USA</td>\n",
       "      <td>2638</td>\n",
       "    </tr>\n",
       "    <tr>\n",
       "      <th>1</th>\n",
       "      <td>Russia</td>\n",
       "      <td>1599</td>\n",
       "    </tr>\n",
       "    <tr>\n",
       "      <th>2</th>\n",
       "      <td>Germany</td>\n",
       "      <td>1301</td>\n",
       "    </tr>\n",
       "    <tr>\n",
       "      <th>3</th>\n",
       "      <td>UK</td>\n",
       "      <td>678</td>\n",
       "    </tr>\n",
       "    <tr>\n",
       "      <th>4</th>\n",
       "      <td>Italy</td>\n",
       "      <td>575</td>\n",
       "    </tr>\n",
       "    <tr>\n",
       "      <th>5</th>\n",
       "      <td>France</td>\n",
       "      <td>501</td>\n",
       "    </tr>\n",
       "    <tr>\n",
       "      <th>6</th>\n",
       "      <td>Sweden</td>\n",
       "      <td>479</td>\n",
       "    </tr>\n",
       "    <tr>\n",
       "      <th>7</th>\n",
       "      <td>Canada</td>\n",
       "      <td>463</td>\n",
       "    </tr>\n",
       "    <tr>\n",
       "      <th>8</th>\n",
       "      <td>Hungary</td>\n",
       "      <td>432</td>\n",
       "    </tr>\n",
       "    <tr>\n",
       "      <th>9</th>\n",
       "      <td>Norway</td>\n",
       "      <td>378</td>\n",
       "    </tr>\n",
       "  </tbody>\n",
       "</table>\n",
       "</div>"
      ],
      "text/plain": [
       "    Region  Medal\n",
       "0      USA   2638\n",
       "1   Russia   1599\n",
       "2  Germany   1301\n",
       "3       UK    678\n",
       "4    Italy    575\n",
       "5   France    501\n",
       "6   Sweden    479\n",
       "7   Canada    463\n",
       "8  Hungary    432\n",
       "9   Norway    378"
      ]
     },
     "execution_count": 60,
     "metadata": {},
     "output_type": "execute_result"
    }
   ],
   "source": [
    "gold_country = ath_df[ath_df.Medal == 'Gold'].groupby(['Region']).Medal.size()\n",
    "gold_top_10 = gold_country.sort_values(ascending = False)[:10]\n",
    "gold_top_10=gold_top_10.reset_index()\n",
    "gold_top_10"
   ]
  },
  {
   "cell_type": "code",
   "execution_count": 61,
   "id": "450ecf3e",
   "metadata": {},
   "outputs": [
    {
     "data": {
      "image/png": "[encoded data removed]",
      "text/plain": [
       "<Figure size 720x720 with 1 Axes>"
      ]
     },
     "metadata": {},
     "output_type": "display_data"
    }
   ],
   "source": [
    "#barplot\n",
    "plt.figure(figsize=(10,10))\n",
    "sns.barplot(x=gold_top_10['Region'],y=gold_top_10['Medal'])\n",
    "plt.title('Region wise Medal Count',size=16)\n",
    "plt.xlabel('Region',size=14)\n",
    "plt.ylabel('Medal',size=14)\n",
    "plt.xticks(rotation=90)\n",
    "\n",
    "plt.show()"
   ]
  },
  {
   "cell_type": "markdown",
   "id": "3bc5bb05",
   "metadata": {},
   "source": [
    "USA won most gold medal in all olympic season i.e-2638"
   ]
  },
  {
   "cell_type": "markdown",
   "id": "6e558346",
   "metadata": {},
   "source": [
    "## Top 10 country who won silver medal"
   ]
  },
  {
   "cell_type": "code",
   "execution_count": 62,
   "id": "624b2184",
   "metadata": {},
   "outputs": [
    {
     "data": {
      "text/html": [
       "<div>\n",
       "<style scoped>\n",
       "    .dataframe tbody tr th:only-of-type {\n",
       "        vertical-align: middle;\n",
       "    }\n",
       "\n",
       "    .dataframe tbody tr th {\n",
       "        vertical-align: top;\n",
       "    }\n",
       "\n",
       "    .dataframe thead th {\n",
       "        text-align: right;\n",
       "    }\n",
       "</style>\n",
       "<table border=\"1\" class=\"dataframe\">\n",
       "  <thead>\n",
       "    <tr style=\"text-align: right;\">\n",
       "      <th></th>\n",
       "      <th>Region</th>\n",
       "      <th>Medal</th>\n",
       "    </tr>\n",
       "  </thead>\n",
       "  <tbody>\n",
       "    <tr>\n",
       "      <th>0</th>\n",
       "      <td>USA</td>\n",
       "      <td>1641</td>\n",
       "    </tr>\n",
       "    <tr>\n",
       "      <th>1</th>\n",
       "      <td>Germany</td>\n",
       "      <td>1195</td>\n",
       "    </tr>\n",
       "    <tr>\n",
       "      <th>2</th>\n",
       "      <td>Russia</td>\n",
       "      <td>1170</td>\n",
       "    </tr>\n",
       "    <tr>\n",
       "      <th>3</th>\n",
       "      <td>UK</td>\n",
       "      <td>739</td>\n",
       "    </tr>\n",
       "    <tr>\n",
       "      <th>4</th>\n",
       "      <td>France</td>\n",
       "      <td>610</td>\n",
       "    </tr>\n",
       "    <tr>\n",
       "      <th>5</th>\n",
       "      <td>Italy</td>\n",
       "      <td>531</td>\n",
       "    </tr>\n",
       "    <tr>\n",
       "      <th>6</th>\n",
       "      <td>Sweden</td>\n",
       "      <td>522</td>\n",
       "    </tr>\n",
       "    <tr>\n",
       "      <th>7</th>\n",
       "      <td>Australia</td>\n",
       "      <td>459</td>\n",
       "    </tr>\n",
       "    <tr>\n",
       "      <th>8</th>\n",
       "      <td>Canada</td>\n",
       "      <td>438</td>\n",
       "    </tr>\n",
       "    <tr>\n",
       "      <th>9</th>\n",
       "      <td>Norway</td>\n",
       "      <td>361</td>\n",
       "    </tr>\n",
       "  </tbody>\n",
       "</table>\n",
       "</div>"
      ],
      "text/plain": [
       "      Region  Medal\n",
       "0        USA   1641\n",
       "1    Germany   1195\n",
       "2     Russia   1170\n",
       "3         UK    739\n",
       "4     France    610\n",
       "5      Italy    531\n",
       "6     Sweden    522\n",
       "7  Australia    459\n",
       "8     Canada    438\n",
       "9     Norway    361"
      ]
     },
     "execution_count": 62,
     "metadata": {},
     "output_type": "execute_result"
    }
   ],
   "source": [
    "silver_country = ath_df[ath_df.Medal == 'Silver'].groupby(['Region']).Medal.size()\n",
    "silver_top_10 = silver_country.sort_values(ascending = False)[:10]\n",
    "silver_top_10=silver_top_10.reset_index()\n",
    "silver_top_10"
   ]
  },
  {
   "cell_type": "code",
   "execution_count": 63,
   "id": "e3b18579",
   "metadata": {},
   "outputs": [
    {
     "data": {
      "image/png": "[encoded data removed]",
      "text/plain": [
       "<Figure size 720x720 with 1 Axes>"
      ]
     },
     "metadata": {},
     "output_type": "display_data"
    }
   ],
   "source": [
    "plt.figure(figsize=(10,10))\n",
    "sns.barplot(x=silver_top_10['Region'],y=silver_top_10['Medal'])\n",
    "plt.title('Region wise Medal Count',size=16)\n",
    "plt.xlabel('Region',size=14)\n",
    "plt.ylabel('Medal',size=14)\n",
    "plt.xticks(rotation=90)\n",
    "\n",
    "plt.show()"
   ]
  },
  {
   "cell_type": "markdown",
   "id": "07876b7d",
   "metadata": {},
   "source": [
    "USA won most silver medal in all season of olympics i.e-1641"
   ]
  },
  {
   "cell_type": "markdown",
   "id": "2e08e606",
   "metadata": {},
   "source": [
    "## Top 10 country who won Bronze medal"
   ]
  },
  {
   "cell_type": "code",
   "execution_count": 64,
   "id": "c58b54c3",
   "metadata": {},
   "outputs": [
    {
     "data": {
      "text/html": [
       "<div>\n",
       "<style scoped>\n",
       "    .dataframe tbody tr th:only-of-type {\n",
       "        vertical-align: middle;\n",
       "    }\n",
       "\n",
       "    .dataframe tbody tr th {\n",
       "        vertical-align: top;\n",
       "    }\n",
       "\n",
       "    .dataframe thead th {\n",
       "        text-align: right;\n",
       "    }\n",
       "</style>\n",
       "<table border=\"1\" class=\"dataframe\">\n",
       "  <thead>\n",
       "    <tr style=\"text-align: right;\">\n",
       "      <th></th>\n",
       "      <th>Region</th>\n",
       "      <th>Medal</th>\n",
       "    </tr>\n",
       "  </thead>\n",
       "  <tbody>\n",
       "    <tr>\n",
       "      <th>0</th>\n",
       "      <td>USA</td>\n",
       "      <td>1358</td>\n",
       "    </tr>\n",
       "    <tr>\n",
       "      <th>1</th>\n",
       "      <td>Germany</td>\n",
       "      <td>1260</td>\n",
       "    </tr>\n",
       "    <tr>\n",
       "      <th>2</th>\n",
       "      <td>Russia</td>\n",
       "      <td>1178</td>\n",
       "    </tr>\n",
       "    <tr>\n",
       "      <th>3</th>\n",
       "      <td>France</td>\n",
       "      <td>666</td>\n",
       "    </tr>\n",
       "    <tr>\n",
       "      <th>4</th>\n",
       "      <td>UK</td>\n",
       "      <td>651</td>\n",
       "    </tr>\n",
       "    <tr>\n",
       "      <th>5</th>\n",
       "      <td>Sweden</td>\n",
       "      <td>535</td>\n",
       "    </tr>\n",
       "    <tr>\n",
       "      <th>6</th>\n",
       "      <td>Italy</td>\n",
       "      <td>531</td>\n",
       "    </tr>\n",
       "    <tr>\n",
       "      <th>7</th>\n",
       "      <td>Australia</td>\n",
       "      <td>522</td>\n",
       "    </tr>\n",
       "    <tr>\n",
       "      <th>8</th>\n",
       "      <td>Canada</td>\n",
       "      <td>451</td>\n",
       "    </tr>\n",
       "    <tr>\n",
       "      <th>9</th>\n",
       "      <td>Finland</td>\n",
       "      <td>432</td>\n",
       "    </tr>\n",
       "  </tbody>\n",
       "</table>\n",
       "</div>"
      ],
      "text/plain": [
       "      Region  Medal\n",
       "0        USA   1358\n",
       "1    Germany   1260\n",
       "2     Russia   1178\n",
       "3     France    666\n",
       "4         UK    651\n",
       "5     Sweden    535\n",
       "6      Italy    531\n",
       "7  Australia    522\n",
       "8     Canada    451\n",
       "9    Finland    432"
      ]
     },
     "execution_count": 64,
     "metadata": {},
     "output_type": "execute_result"
    }
   ],
   "source": [
    "bronze_country = ath_df[ath_df.Medal == 'Bronze'].groupby(['Region']).Medal.size()\n",
    "bronze_top_10 = bronze_country.sort_values(ascending = False)[:10]\n",
    "bronze_top_10=bronze_top_10.reset_index()\n",
    "bronze_top_10"
   ]
  },
  {
   "cell_type": "code",
   "execution_count": 65,
   "id": "17ac2c63",
   "metadata": {},
   "outputs": [
    {
     "data": {
      "image/png": "[encoded data removed]",
      "text/plain": [
       "<Figure size 720x720 with 1 Axes>"
      ]
     },
     "metadata": {},
     "output_type": "display_data"
    }
   ],
   "source": [
    "plt.figure(figsize=(10,10))\n",
    "sns.barplot(x=bronze_top_10['Region'],y=bronze_top_10['Medal'])\n",
    "plt.title('Region wise Medal Count',size=16)\n",
    "plt.xlabel('Region',size=14)\n",
    "plt.ylabel('Medal',size=14)\n",
    "plt.xticks(rotation=90)\n",
    "\n",
    "plt.show()"
   ]
  },
  {
   "cell_type": "markdown",
   "id": "f9d060d6",
   "metadata": {},
   "source": [
    "USA won most bronze medal in all olympic season i.e-1358"
   ]
  },
  {
   "cell_type": "markdown",
   "id": "ac1be4ef",
   "metadata": {},
   "source": [
    "## Indian Gold Medalist list"
   ]
  },
  {
   "cell_type": "code",
   "execution_count": 66,
   "id": "7679a274",
   "metadata": {},
   "outputs": [
    {
     "data": {
      "text/html": [
       "<div>\n",
       "<style scoped>\n",
       "    .dataframe tbody tr th:only-of-type {\n",
       "        vertical-align: middle;\n",
       "    }\n",
       "\n",
       "    .dataframe tbody tr th {\n",
       "        vertical-align: top;\n",
       "    }\n",
       "\n",
       "    .dataframe thead th {\n",
       "        text-align: right;\n",
       "    }\n",
       "</style>\n",
       "<table border=\"1\" class=\"dataframe\">\n",
       "  <thead>\n",
       "    <tr style=\"text-align: right;\">\n",
       "      <th></th>\n",
       "      <th>ID</th>\n",
       "      <th>Name</th>\n",
       "      <th>Sex</th>\n",
       "      <th>Age</th>\n",
       "      <th>Height</th>\n",
       "      <th>Weight</th>\n",
       "      <th>Team</th>\n",
       "      <th>NOC</th>\n",
       "      <th>Games</th>\n",
       "      <th>Year</th>\n",
       "      <th>Season</th>\n",
       "      <th>City</th>\n",
       "      <th>Sport</th>\n",
       "      <th>Event</th>\n",
       "      <th>Medal</th>\n",
       "      <th>Region</th>\n",
       "    </tr>\n",
       "  </thead>\n",
       "  <tbody>\n",
       "    <tr>\n",
       "      <th>159107</th>\n",
       "      <td>2699</td>\n",
       "      <td>Shaukat Ali</td>\n",
       "      <td>M</td>\n",
       "      <td>30</td>\n",
       "      <td>0</td>\n",
       "      <td>0</td>\n",
       "      <td>India</td>\n",
       "      <td>IND</td>\n",
       "      <td>1928 Summer</td>\n",
       "      <td>1928</td>\n",
       "      <td>Summer</td>\n",
       "      <td>Amsterdam</td>\n",
       "      <td>Hockey</td>\n",
       "      <td>Hockey Men's Hockey</td>\n",
       "      <td>Gold</td>\n",
       "      <td>India</td>\n",
       "    </tr>\n",
       "    <tr>\n",
       "      <th>159109</th>\n",
       "      <td>2703</td>\n",
       "      <td>Syed Mushtaq Ali</td>\n",
       "      <td>M</td>\n",
       "      <td>22</td>\n",
       "      <td>165</td>\n",
       "      <td>61</td>\n",
       "      <td>India</td>\n",
       "      <td>IND</td>\n",
       "      <td>1964 Summer</td>\n",
       "      <td>1964</td>\n",
       "      <td>Summer</td>\n",
       "      <td>Tokyo</td>\n",
       "      <td>Hockey</td>\n",
       "      <td>Hockey Men's Hockey</td>\n",
       "      <td>Gold</td>\n",
       "      <td>India</td>\n",
       "    </tr>\n",
       "    <tr>\n",
       "      <th>159111</th>\n",
       "      <td>2864</td>\n",
       "      <td>Richard James Allen</td>\n",
       "      <td>M</td>\n",
       "      <td>25</td>\n",
       "      <td>172</td>\n",
       "      <td>0</td>\n",
       "      <td>India</td>\n",
       "      <td>IND</td>\n",
       "      <td>1928 Summer</td>\n",
       "      <td>1928</td>\n",
       "      <td>Summer</td>\n",
       "      <td>Amsterdam</td>\n",
       "      <td>Hockey</td>\n",
       "      <td>Hockey Men's Hockey</td>\n",
       "      <td>Gold</td>\n",
       "      <td>India</td>\n",
       "    </tr>\n",
       "    <tr>\n",
       "      <th>159112</th>\n",
       "      <td>2864</td>\n",
       "      <td>Richard James Allen</td>\n",
       "      <td>M</td>\n",
       "      <td>30</td>\n",
       "      <td>172</td>\n",
       "      <td>0</td>\n",
       "      <td>India</td>\n",
       "      <td>IND</td>\n",
       "      <td>1932 Summer</td>\n",
       "      <td>1932</td>\n",
       "      <td>Summer</td>\n",
       "      <td>Los Angeles</td>\n",
       "      <td>Hockey</td>\n",
       "      <td>Hockey Men's Hockey</td>\n",
       "      <td>Gold</td>\n",
       "      <td>India</td>\n",
       "    </tr>\n",
       "    <tr>\n",
       "      <th>159113</th>\n",
       "      <td>2864</td>\n",
       "      <td>Richard James Allen</td>\n",
       "      <td>M</td>\n",
       "      <td>34</td>\n",
       "      <td>172</td>\n",
       "      <td>0</td>\n",
       "      <td>India</td>\n",
       "      <td>IND</td>\n",
       "      <td>1936 Summer</td>\n",
       "      <td>1936</td>\n",
       "      <td>Summer</td>\n",
       "      <td>Berlin</td>\n",
       "      <td>Hockey</td>\n",
       "      <td>Hockey Men's Hockey</td>\n",
       "      <td>Gold</td>\n",
       "      <td>India</td>\n",
       "    </tr>\n",
       "    <tr>\n",
       "      <th>...</th>\n",
       "      <td>...</td>\n",
       "      <td>...</td>\n",
       "      <td>...</td>\n",
       "      <td>...</td>\n",
       "      <td>...</td>\n",
       "      <td>...</td>\n",
       "      <td>...</td>\n",
       "      <td>...</td>\n",
       "      <td>...</td>\n",
       "      <td>...</td>\n",
       "      <td>...</td>\n",
       "      <td>...</td>\n",
       "      <td>...</td>\n",
       "      <td>...</td>\n",
       "      <td>...</td>\n",
       "      <td>...</td>\n",
       "    </tr>\n",
       "    <tr>\n",
       "      <th>160395</th>\n",
       "      <td>117232</td>\n",
       "      <td>Dung Dung Sylvanus</td>\n",
       "      <td>M</td>\n",
       "      <td>31</td>\n",
       "      <td>160</td>\n",
       "      <td>62</td>\n",
       "      <td>India</td>\n",
       "      <td>IND</td>\n",
       "      <td>1980 Summer</td>\n",
       "      <td>1980</td>\n",
       "      <td>Summer</td>\n",
       "      <td>Moskva</td>\n",
       "      <td>Hockey</td>\n",
       "      <td>Hockey Men's Hockey</td>\n",
       "      <td>Gold</td>\n",
       "      <td>India</td>\n",
       "    </tr>\n",
       "    <tr>\n",
       "      <th>160401</th>\n",
       "      <td>118553</td>\n",
       "      <td>Carlyle Carrol Tapsell</td>\n",
       "      <td>M</td>\n",
       "      <td>23</td>\n",
       "      <td>182</td>\n",
       "      <td>0</td>\n",
       "      <td>India</td>\n",
       "      <td>IND</td>\n",
       "      <td>1932 Summer</td>\n",
       "      <td>1932</td>\n",
       "      <td>Summer</td>\n",
       "      <td>Los Angeles</td>\n",
       "      <td>Hockey</td>\n",
       "      <td>Hockey Men's Hockey</td>\n",
       "      <td>Gold</td>\n",
       "      <td>India</td>\n",
       "    </tr>\n",
       "    <tr>\n",
       "      <th>160402</th>\n",
       "      <td>118553</td>\n",
       "      <td>Carlyle Carrol Tapsell</td>\n",
       "      <td>M</td>\n",
       "      <td>27</td>\n",
       "      <td>182</td>\n",
       "      <td>0</td>\n",
       "      <td>India</td>\n",
       "      <td>IND</td>\n",
       "      <td>1936 Summer</td>\n",
       "      <td>1936</td>\n",
       "      <td>Summer</td>\n",
       "      <td>Berlin</td>\n",
       "      <td>Hockey</td>\n",
       "      <td>Hockey Men's Hockey</td>\n",
       "      <td>Gold</td>\n",
       "      <td>India</td>\n",
       "    </tr>\n",
       "    <tr>\n",
       "      <th>160454</th>\n",
       "      <td>125560</td>\n",
       "      <td>Max \"Maxie\" Vaz</td>\n",
       "      <td>M</td>\n",
       "      <td>0</td>\n",
       "      <td>0</td>\n",
       "      <td>0</td>\n",
       "      <td>India</td>\n",
       "      <td>IND</td>\n",
       "      <td>1948 Summer</td>\n",
       "      <td>1948</td>\n",
       "      <td>Summer</td>\n",
       "      <td>London</td>\n",
       "      <td>Hockey</td>\n",
       "      <td>Hockey Men's Hockey</td>\n",
       "      <td>Gold</td>\n",
       "      <td>India</td>\n",
       "    </tr>\n",
       "    <tr>\n",
       "      <th>160488</th>\n",
       "      <td>133554</td>\n",
       "      <td>Sayed Muhammad Yusuf</td>\n",
       "      <td>M</td>\n",
       "      <td>0</td>\n",
       "      <td>0</td>\n",
       "      <td>0</td>\n",
       "      <td>India</td>\n",
       "      <td>IND</td>\n",
       "      <td>1928 Summer</td>\n",
       "      <td>1928</td>\n",
       "      <td>Summer</td>\n",
       "      <td>Amsterdam</td>\n",
       "      <td>Hockey</td>\n",
       "      <td>Hockey Men's Hockey</td>\n",
       "      <td>Gold</td>\n",
       "      <td>India</td>\n",
       "    </tr>\n",
       "  </tbody>\n",
       "</table>\n",
       "<p>138 rows × 16 columns</p>\n",
       "</div>"
      ],
      "text/plain": [
       "            ID                    Name Sex  Age  Height  Weight   Team  NOC  \\\n",
       "159107    2699             Shaukat Ali   M   30       0       0  India  IND   \n",
       "159109    2703        Syed Mushtaq Ali   M   22     165      61  India  IND   \n",
       "159111    2864     Richard James Allen   M   25     172       0  India  IND   \n",
       "159112    2864     Richard James Allen   M   30     172       0  India  IND   \n",
       "159113    2864     Richard James Allen   M   34     172       0  India  IND   \n",
       "...        ...                     ...  ..  ...     ...     ...    ...  ...   \n",
       "160395  117232      Dung Dung Sylvanus   M   31     160      62  India  IND   \n",
       "160401  118553  Carlyle Carrol Tapsell   M   23     182       0  India  IND   \n",
       "160402  118553  Carlyle Carrol Tapsell   M   27     182       0  India  IND   \n",
       "160454  125560         Max \"Maxie\" Vaz   M    0       0       0  India  IND   \n",
       "160488  133554    Sayed Muhammad Yusuf   M    0       0       0  India  IND   \n",
       "\n",
       "              Games  Year  Season         City   Sport                Event  \\\n",
       "159107  1928 Summer  1928  Summer    Amsterdam  Hockey  Hockey Men's Hockey   \n",
       "159109  1964 Summer  1964  Summer        Tokyo  Hockey  Hockey Men's Hockey   \n",
       "159111  1928 Summer  1928  Summer    Amsterdam  Hockey  Hockey Men's Hockey   \n",
       "159112  1932 Summer  1932  Summer  Los Angeles  Hockey  Hockey Men's Hockey   \n",
       "159113  1936 Summer  1936  Summer       Berlin  Hockey  Hockey Men's Hockey   \n",
       "...             ...   ...     ...          ...     ...                  ...   \n",
       "160395  1980 Summer  1980  Summer       Moskva  Hockey  Hockey Men's Hockey   \n",
       "160401  1932 Summer  1932  Summer  Los Angeles  Hockey  Hockey Men's Hockey   \n",
       "160402  1936 Summer  1936  Summer       Berlin  Hockey  Hockey Men's Hockey   \n",
       "160454  1948 Summer  1948  Summer       London  Hockey  Hockey Men's Hockey   \n",
       "160488  1928 Summer  1928  Summer    Amsterdam  Hockey  Hockey Men's Hockey   \n",
       "\n",
       "       Medal Region  \n",
       "159107  Gold  India  \n",
       "159109  Gold  India  \n",
       "159111  Gold  India  \n",
       "159112  Gold  India  \n",
       "159113  Gold  India  \n",
       "...      ...    ...  \n",
       "160395  Gold  India  \n",
       "160401  Gold  India  \n",
       "160402  Gold  India  \n",
       "160454  Gold  India  \n",
       "160488  Gold  India  \n",
       "\n",
       "[138 rows x 16 columns]"
      ]
     },
     "execution_count": 66,
     "metadata": {},
     "output_type": "execute_result"
    }
   ],
   "source": [
    "g_medal_India = ath_df[(ath_df.Medal == 'Gold') & (ath_df.Team == 'India')]\n",
    "g_medal_India"
   ]
  },
  {
   "cell_type": "markdown",
   "id": "86108020",
   "metadata": {},
   "source": [
    "### Age wise Distribution of Indian Gold medalist"
   ]
  },
  {
   "cell_type": "code",
   "execution_count": 67,
   "id": "bec8d4c9",
   "metadata": {},
   "outputs": [
    {
     "data": {
      "image/png": "[encoded data removed]",
      "text/plain": [
       "<Figure size 1440x720 with 1 Axes>"
      ]
     },
     "metadata": {},
     "output_type": "display_data"
    }
   ],
   "source": [
    "plt.figure(figsize=(20,10))\n",
    "sns.countplot(g_medal_India['Age'])\n",
    "plt.title('Distribution of Gold Medals of India')\n",
    "plt.show()"
   ]
  },
  {
   "cell_type": "code",
   "execution_count": null,
   "id": "854b08b2",
   "metadata": {},
   "outputs": [],
   "source": []
  },
  {
   "cell_type": "markdown",
   "id": "7e998889",
   "metadata": {},
   "source": [
    "### Name sport in which India won Gold Medal"
   ]
  },
  {
   "cell_type": "code",
   "execution_count": 68,
   "id": "36892611",
   "metadata": {},
   "outputs": [
    {
     "data": {
      "text/plain": [
       "159107    Hockey\n",
       "159109    Hockey\n",
       "159111    Hockey\n",
       "159112    Hockey\n",
       "159113    Hockey\n",
       "           ...  \n",
       "160395    Hockey\n",
       "160401    Hockey\n",
       "160402    Hockey\n",
       "160454    Hockey\n",
       "160488    Hockey\n",
       "Name: Sport, Length: 138, dtype: object"
      ]
     },
     "execution_count": 68,
     "metadata": {},
     "output_type": "execute_result"
    }
   ],
   "source": [
    "sporting_event = g_medal_India['Sport']\n",
    "sporting_event"
   ]
  },
  {
   "cell_type": "markdown",
   "id": "322be53d",
   "metadata": {},
   "source": [
    "## Indian Silver Medalist list"
   ]
  },
  {
   "cell_type": "code",
   "execution_count": 69,
   "id": "a3cea1f6",
   "metadata": {},
   "outputs": [
    {
     "data": {
      "text/html": [
       "<div>\n",
       "<style scoped>\n",
       "    .dataframe tbody tr th:only-of-type {\n",
       "        vertical-align: middle;\n",
       "    }\n",
       "\n",
       "    .dataframe tbody tr th {\n",
       "        vertical-align: top;\n",
       "    }\n",
       "\n",
       "    .dataframe thead th {\n",
       "        text-align: right;\n",
       "    }\n",
       "</style>\n",
       "<table border=\"1\" class=\"dataframe\">\n",
       "  <thead>\n",
       "    <tr style=\"text-align: right;\">\n",
       "      <th></th>\n",
       "      <th>ID</th>\n",
       "      <th>Name</th>\n",
       "      <th>Sex</th>\n",
       "      <th>Age</th>\n",
       "      <th>Height</th>\n",
       "      <th>Weight</th>\n",
       "      <th>Team</th>\n",
       "      <th>NOC</th>\n",
       "      <th>Games</th>\n",
       "      <th>Year</th>\n",
       "      <th>Season</th>\n",
       "      <th>City</th>\n",
       "      <th>Sport</th>\n",
       "      <th>Event</th>\n",
       "      <th>Medal</th>\n",
       "      <th>Region</th>\n",
       "    </tr>\n",
       "  </thead>\n",
       "  <tbody>\n",
       "    <tr>\n",
       "      <th>159125</th>\n",
       "      <td>4518</td>\n",
       "      <td>Joseph Anthony \"Joe\" Antic</td>\n",
       "      <td>M</td>\n",
       "      <td>29</td>\n",
       "      <td>168</td>\n",
       "      <td>59</td>\n",
       "      <td>India</td>\n",
       "      <td>IND</td>\n",
       "      <td>1960 Summer</td>\n",
       "      <td>1960</td>\n",
       "      <td>Summer</td>\n",
       "      <td>Roma</td>\n",
       "      <td>Hockey</td>\n",
       "      <td>Hockey Men's Hockey</td>\n",
       "      <td>Silver</td>\n",
       "      <td>India</td>\n",
       "    </tr>\n",
       "    <tr>\n",
       "      <th>159300</th>\n",
       "      <td>21912</td>\n",
       "      <td>Leslie Walter Claudius</td>\n",
       "      <td>M</td>\n",
       "      <td>33</td>\n",
       "      <td>162</td>\n",
       "      <td>53</td>\n",
       "      <td>India</td>\n",
       "      <td>IND</td>\n",
       "      <td>1960 Summer</td>\n",
       "      <td>1960</td>\n",
       "      <td>Summer</td>\n",
       "      <td>Roma</td>\n",
       "      <td>Hockey</td>\n",
       "      <td>Hockey Men's Hockey</td>\n",
       "      <td>Silver</td>\n",
       "      <td>India</td>\n",
       "    </tr>\n",
       "    <tr>\n",
       "      <th>159586</th>\n",
       "      <td>64909</td>\n",
       "      <td>Sushil Kumar Solanki</td>\n",
       "      <td>M</td>\n",
       "      <td>29</td>\n",
       "      <td>166</td>\n",
       "      <td>66</td>\n",
       "      <td>India</td>\n",
       "      <td>IND</td>\n",
       "      <td>2012 Summer</td>\n",
       "      <td>2012</td>\n",
       "      <td>Summer</td>\n",
       "      <td>London</td>\n",
       "      <td>Wrestling</td>\n",
       "      <td>Wrestling Men's Welterweight, Freestyle</td>\n",
       "      <td>Silver</td>\n",
       "      <td>India</td>\n",
       "    </tr>\n",
       "    <tr>\n",
       "      <th>159588</th>\n",
       "      <td>64910</td>\n",
       "      <td>Vijay Kumar</td>\n",
       "      <td>M</td>\n",
       "      <td>26</td>\n",
       "      <td>170</td>\n",
       "      <td>70</td>\n",
       "      <td>India</td>\n",
       "      <td>IND</td>\n",
       "      <td>2012 Summer</td>\n",
       "      <td>2012</td>\n",
       "      <td>Summer</td>\n",
       "      <td>London</td>\n",
       "      <td>Shooting</td>\n",
       "      <td>Shooting Men's Rapid-Fire Pistol, 25 metres</td>\n",
       "      <td>Silver</td>\n",
       "      <td>India</td>\n",
       "    </tr>\n",
       "    <tr>\n",
       "      <th>159617</th>\n",
       "      <td>66061</td>\n",
       "      <td>Mohinder Lal</td>\n",
       "      <td>M</td>\n",
       "      <td>24</td>\n",
       "      <td>165</td>\n",
       "      <td>58</td>\n",
       "      <td>India</td>\n",
       "      <td>IND</td>\n",
       "      <td>1960 Summer</td>\n",
       "      <td>1960</td>\n",
       "      <td>Summer</td>\n",
       "      <td>Roma</td>\n",
       "      <td>Hockey</td>\n",
       "      <td>Hockey Men's Hockey</td>\n",
       "      <td>Silver</td>\n",
       "      <td>India</td>\n",
       "    </tr>\n",
       "    <tr>\n",
       "      <th>159639</th>\n",
       "      <td>67372</td>\n",
       "      <td>Shankar Pillay Laxman</td>\n",
       "      <td>M</td>\n",
       "      <td>27</td>\n",
       "      <td>167</td>\n",
       "      <td>64</td>\n",
       "      <td>India</td>\n",
       "      <td>IND</td>\n",
       "      <td>1960 Summer</td>\n",
       "      <td>1960</td>\n",
       "      <td>Summer</td>\n",
       "      <td>Roma</td>\n",
       "      <td>Hockey</td>\n",
       "      <td>Hockey Men's Hockey</td>\n",
       "      <td>Silver</td>\n",
       "      <td>India</td>\n",
       "    </tr>\n",
       "    <tr>\n",
       "      <th>159819</th>\n",
       "      <td>93798</td>\n",
       "      <td>Victor John \"V. J.\" Peter</td>\n",
       "      <td>M</td>\n",
       "      <td>23</td>\n",
       "      <td>165</td>\n",
       "      <td>59</td>\n",
       "      <td>India</td>\n",
       "      <td>IND</td>\n",
       "      <td>1960 Summer</td>\n",
       "      <td>1960</td>\n",
       "      <td>Summer</td>\n",
       "      <td>Roma</td>\n",
       "      <td>Hockey</td>\n",
       "      <td>Hockey Men's Hockey</td>\n",
       "      <td>Silver</td>\n",
       "      <td>India</td>\n",
       "    </tr>\n",
       "    <tr>\n",
       "      <th>159876</th>\n",
       "      <td>97066</td>\n",
       "      <td>Norman Gilbert Pritchard (-Trevor)</td>\n",
       "      <td>M</td>\n",
       "      <td>24</td>\n",
       "      <td>0</td>\n",
       "      <td>0</td>\n",
       "      <td>India</td>\n",
       "      <td>IND</td>\n",
       "      <td>1900 Summer</td>\n",
       "      <td>1900</td>\n",
       "      <td>Summer</td>\n",
       "      <td>Paris</td>\n",
       "      <td>Athletics</td>\n",
       "      <td>Athletics Men's 200 metres</td>\n",
       "      <td>Silver</td>\n",
       "      <td>India</td>\n",
       "    </tr>\n",
       "    <tr>\n",
       "      <th>159878</th>\n",
       "      <td>97066</td>\n",
       "      <td>Norman Gilbert Pritchard (-Trevor)</td>\n",
       "      <td>M</td>\n",
       "      <td>24</td>\n",
       "      <td>0</td>\n",
       "      <td>0</td>\n",
       "      <td>India</td>\n",
       "      <td>IND</td>\n",
       "      <td>1900 Summer</td>\n",
       "      <td>1900</td>\n",
       "      <td>Summer</td>\n",
       "      <td>Paris</td>\n",
       "      <td>Athletics</td>\n",
       "      <td>Athletics Men's 200 metres Hurdles</td>\n",
       "      <td>Silver</td>\n",
       "      <td>India</td>\n",
       "    </tr>\n",
       "    <tr>\n",
       "      <th>159955</th>\n",
       "      <td>99103</td>\n",
       "      <td>Rajyavardhan Singh Rathore</td>\n",
       "      <td>M</td>\n",
       "      <td>34</td>\n",
       "      <td>188</td>\n",
       "      <td>85</td>\n",
       "      <td>India</td>\n",
       "      <td>IND</td>\n",
       "      <td>2004 Summer</td>\n",
       "      <td>2004</td>\n",
       "      <td>Summer</td>\n",
       "      <td>Athina</td>\n",
       "      <td>Shooting</td>\n",
       "      <td>Shooting Men's Double Trap</td>\n",
       "      <td>Silver</td>\n",
       "      <td>India</td>\n",
       "    </tr>\n",
       "    <tr>\n",
       "      <th>159992</th>\n",
       "      <td>106335</td>\n",
       "      <td>Govind Rao Sawant</td>\n",
       "      <td>M</td>\n",
       "      <td>24</td>\n",
       "      <td>171</td>\n",
       "      <td>60</td>\n",
       "      <td>India</td>\n",
       "      <td>IND</td>\n",
       "      <td>1960 Summer</td>\n",
       "      <td>1960</td>\n",
       "      <td>Summer</td>\n",
       "      <td>Roma</td>\n",
       "      <td>Hockey</td>\n",
       "      <td>Hockey Men's Hockey</td>\n",
       "      <td>Silver</td>\n",
       "      <td>India</td>\n",
       "    </tr>\n",
       "    <tr>\n",
       "      <th>160016</th>\n",
       "      <td>109296</td>\n",
       "      <td>Jaman Lal Sharma</td>\n",
       "      <td>M</td>\n",
       "      <td>24</td>\n",
       "      <td>169</td>\n",
       "      <td>59</td>\n",
       "      <td>India</td>\n",
       "      <td>IND</td>\n",
       "      <td>1960 Summer</td>\n",
       "      <td>1960</td>\n",
       "      <td>Summer</td>\n",
       "      <td>Roma</td>\n",
       "      <td>Hockey</td>\n",
       "      <td>Hockey Men's Hockey</td>\n",
       "      <td>Silver</td>\n",
       "      <td>India</td>\n",
       "    </tr>\n",
       "    <tr>\n",
       "      <th>160045</th>\n",
       "      <td>110974</td>\n",
       "      <td>Pusarla Venkata \"P. V.\" Sindhu</td>\n",
       "      <td>F</td>\n",
       "      <td>21</td>\n",
       "      <td>179</td>\n",
       "      <td>65</td>\n",
       "      <td>India</td>\n",
       "      <td>IND</td>\n",
       "      <td>2016 Summer</td>\n",
       "      <td>2016</td>\n",
       "      <td>Summer</td>\n",
       "      <td>Rio de Janeiro</td>\n",
       "      <td>Badminton</td>\n",
       "      <td>Badminton Women's Singles</td>\n",
       "      <td>Silver</td>\n",
       "      <td>India</td>\n",
       "    </tr>\n",
       "    <tr>\n",
       "      <th>160084</th>\n",
       "      <td>111028</td>\n",
       "      <td>Charanjit Singh</td>\n",
       "      <td>M</td>\n",
       "      <td>29</td>\n",
       "      <td>175</td>\n",
       "      <td>58</td>\n",
       "      <td>India</td>\n",
       "      <td>IND</td>\n",
       "      <td>1960 Summer</td>\n",
       "      <td>1960</td>\n",
       "      <td>Summer</td>\n",
       "      <td>Roma</td>\n",
       "      <td>Hockey</td>\n",
       "      <td>Hockey Men's Hockey</td>\n",
       "      <td>Silver</td>\n",
       "      <td>India</td>\n",
       "    </tr>\n",
       "    <tr>\n",
       "      <th>160104</th>\n",
       "      <td>111047</td>\n",
       "      <td>Joginder \"Gindi\" Singh</td>\n",
       "      <td>M</td>\n",
       "      <td>20</td>\n",
       "      <td>171</td>\n",
       "      <td>65</td>\n",
       "      <td>India</td>\n",
       "      <td>IND</td>\n",
       "      <td>1960 Summer</td>\n",
       "      <td>1960</td>\n",
       "      <td>Summer</td>\n",
       "      <td>Roma</td>\n",
       "      <td>Hockey</td>\n",
       "      <td>Hockey Men's Hockey</td>\n",
       "      <td>Silver</td>\n",
       "      <td>India</td>\n",
       "    </tr>\n",
       "    <tr>\n",
       "      <th>160151</th>\n",
       "      <td>111083</td>\n",
       "      <td>Jaswant Singh</td>\n",
       "      <td>M</td>\n",
       "      <td>29</td>\n",
       "      <td>185</td>\n",
       "      <td>77</td>\n",
       "      <td>India</td>\n",
       "      <td>IND</td>\n",
       "      <td>1960 Summer</td>\n",
       "      <td>1960</td>\n",
       "      <td>Summer</td>\n",
       "      <td>Roma</td>\n",
       "      <td>Hockey</td>\n",
       "      <td>Hockey Men's Hockey</td>\n",
       "      <td>Silver</td>\n",
       "      <td>India</td>\n",
       "    </tr>\n",
       "    <tr>\n",
       "      <th>160221</th>\n",
       "      <td>111123</td>\n",
       "      <td>Prithipal Singh</td>\n",
       "      <td>M</td>\n",
       "      <td>28</td>\n",
       "      <td>175</td>\n",
       "      <td>71</td>\n",
       "      <td>India</td>\n",
       "      <td>IND</td>\n",
       "      <td>1960 Summer</td>\n",
       "      <td>1960</td>\n",
       "      <td>Summer</td>\n",
       "      <td>Roma</td>\n",
       "      <td>Hockey</td>\n",
       "      <td>Hockey Men's Hockey</td>\n",
       "      <td>Silver</td>\n",
       "      <td>India</td>\n",
       "    </tr>\n",
       "    <tr>\n",
       "      <th>160283</th>\n",
       "      <td>111159</td>\n",
       "      <td>Udham Singh Kular</td>\n",
       "      <td>M</td>\n",
       "      <td>32</td>\n",
       "      <td>168</td>\n",
       "      <td>58</td>\n",
       "      <td>India</td>\n",
       "      <td>IND</td>\n",
       "      <td>1960 Summer</td>\n",
       "      <td>1960</td>\n",
       "      <td>Summer</td>\n",
       "      <td>Roma</td>\n",
       "      <td>Hockey</td>\n",
       "      <td>Hockey Men's Hockey</td>\n",
       "      <td>Silver</td>\n",
       "      <td>India</td>\n",
       "    </tr>\n",
       "    <tr>\n",
       "      <th>160304</th>\n",
       "      <td>111173</td>\n",
       "      <td>Raghbir Singh Bhola</td>\n",
       "      <td>M</td>\n",
       "      <td>33</td>\n",
       "      <td>183</td>\n",
       "      <td>67</td>\n",
       "      <td>India</td>\n",
       "      <td>IND</td>\n",
       "      <td>1960 Summer</td>\n",
       "      <td>1960</td>\n",
       "      <td>Summer</td>\n",
       "      <td>Roma</td>\n",
       "      <td>Hockey</td>\n",
       "      <td>Hockey Men's Hockey</td>\n",
       "      <td>Silver</td>\n",
       "      <td>India</td>\n",
       "    </tr>\n",
       "  </tbody>\n",
       "</table>\n",
       "</div>"
      ],
      "text/plain": [
       "            ID                                Name Sex  Age  Height  Weight  \\\n",
       "159125    4518          Joseph Anthony \"Joe\" Antic   M   29     168      59   \n",
       "159300   21912              Leslie Walter Claudius   M   33     162      53   \n",
       "159586   64909                Sushil Kumar Solanki   M   29     166      66   \n",
       "159588   64910                         Vijay Kumar   M   26     170      70   \n",
       "159617   66061                        Mohinder Lal   M   24     165      58   \n",
       "159639   67372               Shankar Pillay Laxman   M   27     167      64   \n",
       "159819   93798           Victor John \"V. J.\" Peter   M   23     165      59   \n",
       "159876   97066  Norman Gilbert Pritchard (-Trevor)   M   24       0       0   \n",
       "159878   97066  Norman Gilbert Pritchard (-Trevor)   M   24       0       0   \n",
       "159955   99103          Rajyavardhan Singh Rathore   M   34     188      85   \n",
       "159992  106335                   Govind Rao Sawant   M   24     171      60   \n",
       "160016  109296                    Jaman Lal Sharma   M   24     169      59   \n",
       "160045  110974      Pusarla Venkata \"P. V.\" Sindhu   F   21     179      65   \n",
       "160084  111028                     Charanjit Singh   M   29     175      58   \n",
       "160104  111047              Joginder \"Gindi\" Singh   M   20     171      65   \n",
       "160151  111083                       Jaswant Singh   M   29     185      77   \n",
       "160221  111123                     Prithipal Singh   M   28     175      71   \n",
       "160283  111159                   Udham Singh Kular   M   32     168      58   \n",
       "160304  111173                 Raghbir Singh Bhola   M   33     183      67   \n",
       "\n",
       "         Team  NOC        Games  Year  Season            City      Sport  \\\n",
       "159125  India  IND  1960 Summer  1960  Summer            Roma     Hockey   \n",
       "159300  India  IND  1960 Summer  1960  Summer            Roma     Hockey   \n",
       "159586  India  IND  2012 Summer  2012  Summer          London  Wrestling   \n",
       "159588  India  IND  2012 Summer  2012  Summer          London   Shooting   \n",
       "159617  India  IND  1960 Summer  1960  Summer            Roma     Hockey   \n",
       "159639  India  IND  1960 Summer  1960  Summer            Roma     Hockey   \n",
       "159819  India  IND  1960 Summer  1960  Summer            Roma     Hockey   \n",
       "159876  India  IND  1900 Summer  1900  Summer           Paris  Athletics   \n",
       "159878  India  IND  1900 Summer  1900  Summer           Paris  Athletics   \n",
       "159955  India  IND  2004 Summer  2004  Summer          Athina   Shooting   \n",
       "159992  India  IND  1960 Summer  1960  Summer            Roma     Hockey   \n",
       "160016  India  IND  1960 Summer  1960  Summer            Roma     Hockey   \n",
       "160045  India  IND  2016 Summer  2016  Summer  Rio de Janeiro  Badminton   \n",
       "160084  India  IND  1960 Summer  1960  Summer            Roma     Hockey   \n",
       "160104  India  IND  1960 Summer  1960  Summer            Roma     Hockey   \n",
       "160151  India  IND  1960 Summer  1960  Summer            Roma     Hockey   \n",
       "160221  India  IND  1960 Summer  1960  Summer            Roma     Hockey   \n",
       "160283  India  IND  1960 Summer  1960  Summer            Roma     Hockey   \n",
       "160304  India  IND  1960 Summer  1960  Summer            Roma     Hockey   \n",
       "\n",
       "                                              Event   Medal Region  \n",
       "159125                          Hockey Men's Hockey  Silver  India  \n",
       "159300                          Hockey Men's Hockey  Silver  India  \n",
       "159586      Wrestling Men's Welterweight, Freestyle  Silver  India  \n",
       "159588  Shooting Men's Rapid-Fire Pistol, 25 metres  Silver  India  \n",
       "159617                          Hockey Men's Hockey  Silver  India  \n",
       "159639                          Hockey Men's Hockey  Silver  India  \n",
       "159819                          Hockey Men's Hockey  Silver  India  \n",
       "159876                   Athletics Men's 200 metres  Silver  India  \n",
       "159878           Athletics Men's 200 metres Hurdles  Silver  India  \n",
       "159955                   Shooting Men's Double Trap  Silver  India  \n",
       "159992                          Hockey Men's Hockey  Silver  India  \n",
       "160016                          Hockey Men's Hockey  Silver  India  \n",
       "160045                    Badminton Women's Singles  Silver  India  \n",
       "160084                          Hockey Men's Hockey  Silver  India  \n",
       "160104                          Hockey Men's Hockey  Silver  India  \n",
       "160151                          Hockey Men's Hockey  Silver  India  \n",
       "160221                          Hockey Men's Hockey  Silver  India  \n",
       "160283                          Hockey Men's Hockey  Silver  India  \n",
       "160304                          Hockey Men's Hockey  Silver  India  "
      ]
     },
     "execution_count": 69,
     "metadata": {},
     "output_type": "execute_result"
    }
   ],
   "source": [
    "s_medal_India = ath_df[(ath_df.Medal == 'Silver') & (ath_df.Team == 'India')]\n",
    "s_medal_India"
   ]
  },
  {
   "cell_type": "markdown",
   "id": "b4797faa",
   "metadata": {},
   "source": [
    "### Age wise Distribution of Indian Silver medalist"
   ]
  },
  {
   "cell_type": "code",
   "execution_count": 70,
   "id": "384a77e5",
   "metadata": {},
   "outputs": [
    {
     "data": {
      "image/png": "[encoded data removed]",
      "text/plain": [
       "<Figure size 1440x720 with 1 Axes>"
      ]
     },
     "metadata": {},
     "output_type": "display_data"
    }
   ],
   "source": [
    "plt.figure(figsize=(20,10))\n",
    "sns.countplot(s_medal_India['Age'])\n",
    "plt.title('Distribution of silver Medals of India')\n",
    "plt.show()"
   ]
  },
  {
   "cell_type": "markdown",
   "id": "07447407",
   "metadata": {},
   "source": [
    "### Name sport in which India won Silver Medal"
   ]
  },
  {
   "cell_type": "code",
   "execution_count": 71,
   "id": "411bd684",
   "metadata": {},
   "outputs": [
    {
     "data": {
      "text/plain": [
       "159125       Hockey\n",
       "159300       Hockey\n",
       "159586    Wrestling\n",
       "159588     Shooting\n",
       "159617       Hockey\n",
       "159639       Hockey\n",
       "159819       Hockey\n",
       "159876    Athletics\n",
       "159878    Athletics\n",
       "159955     Shooting\n",
       "159992       Hockey\n",
       "160016       Hockey\n",
       "160045    Badminton\n",
       "160084       Hockey\n",
       "160104       Hockey\n",
       "160151       Hockey\n",
       "160221       Hockey\n",
       "160283       Hockey\n",
       "160304       Hockey\n",
       "Name: Sport, dtype: object"
      ]
     },
     "execution_count": 71,
     "metadata": {},
     "output_type": "execute_result"
    }
   ],
   "source": [
    "sporting_event = s_medal_India['Sport']\n",
    "sporting_event "
   ]
  },
  {
   "cell_type": "markdown",
   "id": "0ca3f5c4",
   "metadata": {},
   "source": [
    "## Indian Bronze Medalist"
   ]
  },
  {
   "cell_type": "code",
   "execution_count": 72,
   "id": "ec12022f",
   "metadata": {},
   "outputs": [
    {
     "data": {
      "text/html": [
       "<div>\n",
       "<style scoped>\n",
       "    .dataframe tbody tr th:only-of-type {\n",
       "        vertical-align: middle;\n",
       "    }\n",
       "\n",
       "    .dataframe tbody tr th {\n",
       "        vertical-align: top;\n",
       "    }\n",
       "\n",
       "    .dataframe thead th {\n",
       "        text-align: right;\n",
       "    }\n",
       "</style>\n",
       "<table border=\"1\" class=\"dataframe\">\n",
       "  <thead>\n",
       "    <tr style=\"text-align: right;\">\n",
       "      <th></th>\n",
       "      <th>ID</th>\n",
       "      <th>Name</th>\n",
       "      <th>Sex</th>\n",
       "      <th>Age</th>\n",
       "      <th>Height</th>\n",
       "      <th>Weight</th>\n",
       "      <th>Team</th>\n",
       "      <th>NOC</th>\n",
       "      <th>Games</th>\n",
       "      <th>Year</th>\n",
       "      <th>Season</th>\n",
       "      <th>City</th>\n",
       "      <th>Sport</th>\n",
       "      <th>Event</th>\n",
       "      <th>Medal</th>\n",
       "      <th>Region</th>\n",
       "    </tr>\n",
       "  </thead>\n",
       "  <tbody>\n",
       "    <tr>\n",
       "      <th>159205</th>\n",
       "      <td>11520</td>\n",
       "      <td>Govinda Billimogaputtaswamy</td>\n",
       "      <td>M</td>\n",
       "      <td>20</td>\n",
       "      <td>171</td>\n",
       "      <td>60</td>\n",
       "      <td>India</td>\n",
       "      <td>IND</td>\n",
       "      <td>1972 Summer</td>\n",
       "      <td>1972</td>\n",
       "      <td>Summer</td>\n",
       "      <td>Munich</td>\n",
       "      <td>Hockey</td>\n",
       "      <td>Hockey Men's Hockey</td>\n",
       "      <td>Bronze</td>\n",
       "      <td>India</td>\n",
       "    </tr>\n",
       "    <tr>\n",
       "      <th>159294</th>\n",
       "      <td>21339</td>\n",
       "      <td>Rajendra Absolem Christy</td>\n",
       "      <td>M</td>\n",
       "      <td>30</td>\n",
       "      <td>165</td>\n",
       "      <td>58</td>\n",
       "      <td>India</td>\n",
       "      <td>IND</td>\n",
       "      <td>1968 Summer</td>\n",
       "      <td>1968</td>\n",
       "      <td>Summer</td>\n",
       "      <td>Mexico City</td>\n",
       "      <td>Hockey</td>\n",
       "      <td>Hockey Men's Hockey</td>\n",
       "      <td>Bronze</td>\n",
       "      <td>India</td>\n",
       "    </tr>\n",
       "    <tr>\n",
       "      <th>159301</th>\n",
       "      <td>23098</td>\n",
       "      <td>Charles Cornelius</td>\n",
       "      <td>M</td>\n",
       "      <td>26</td>\n",
       "      <td>170</td>\n",
       "      <td>65</td>\n",
       "      <td>India</td>\n",
       "      <td>IND</td>\n",
       "      <td>1972 Summer</td>\n",
       "      <td>1972</td>\n",
       "      <td>Summer</td>\n",
       "      <td>Munich</td>\n",
       "      <td>Hockey</td>\n",
       "      <td>Hockey Men's Hockey</td>\n",
       "      <td>Bronze</td>\n",
       "      <td>India</td>\n",
       "    </tr>\n",
       "    <tr>\n",
       "      <th>159360</th>\n",
       "      <td>30913</td>\n",
       "      <td>Yogeshwar Dutt</td>\n",
       "      <td>M</td>\n",
       "      <td>29</td>\n",
       "      <td>168</td>\n",
       "      <td>65</td>\n",
       "      <td>India</td>\n",
       "      <td>IND</td>\n",
       "      <td>2012 Summer</td>\n",
       "      <td>2012</td>\n",
       "      <td>Summer</td>\n",
       "      <td>London</td>\n",
       "      <td>Wrestling</td>\n",
       "      <td>Wrestling Men's Lightweight, Freestyle</td>\n",
       "      <td>Bronze</td>\n",
       "      <td>India</td>\n",
       "    </tr>\n",
       "    <tr>\n",
       "      <th>159385</th>\n",
       "      <td>36928</td>\n",
       "      <td>Manuel Frederick</td>\n",
       "      <td>M</td>\n",
       "      <td>23</td>\n",
       "      <td>172</td>\n",
       "      <td>65</td>\n",
       "      <td>India</td>\n",
       "      <td>IND</td>\n",
       "      <td>1972 Summer</td>\n",
       "      <td>1972</td>\n",
       "      <td>Summer</td>\n",
       "      <td>Munich</td>\n",
       "      <td>Hockey</td>\n",
       "      <td>Hockey Men's Hockey</td>\n",
       "      <td>Bronze</td>\n",
       "      <td>India</td>\n",
       "    </tr>\n",
       "    <tr>\n",
       "      <th>159453</th>\n",
       "      <td>53275</td>\n",
       "      <td>Khashaba Dadasaheb  Jahdav</td>\n",
       "      <td>M</td>\n",
       "      <td>25</td>\n",
       "      <td>0</td>\n",
       "      <td>0</td>\n",
       "      <td>India</td>\n",
       "      <td>IND</td>\n",
       "      <td>1952 Summer</td>\n",
       "      <td>1952</td>\n",
       "      <td>Summer</td>\n",
       "      <td>Helsinki</td>\n",
       "      <td>Wrestling</td>\n",
       "      <td>Wrestling Men's Bantamweight, Freestyle</td>\n",
       "      <td>Bronze</td>\n",
       "      <td>India</td>\n",
       "    </tr>\n",
       "    <tr>\n",
       "      <th>159539</th>\n",
       "      <td>60461</td>\n",
       "      <td>Michael Kindo</td>\n",
       "      <td>M</td>\n",
       "      <td>25</td>\n",
       "      <td>170</td>\n",
       "      <td>62</td>\n",
       "      <td>India</td>\n",
       "      <td>IND</td>\n",
       "      <td>1972 Summer</td>\n",
       "      <td>1972</td>\n",
       "      <td>Summer</td>\n",
       "      <td>Munich</td>\n",
       "      <td>Hockey</td>\n",
       "      <td>Hockey Men's Hockey</td>\n",
       "      <td>Bronze</td>\n",
       "      <td>India</td>\n",
       "    </tr>\n",
       "    <tr>\n",
       "      <th>159542</th>\n",
       "      <td>62303</td>\n",
       "      <td>Mangte Chungneijang Mary Kom</td>\n",
       "      <td>F</td>\n",
       "      <td>29</td>\n",
       "      <td>158</td>\n",
       "      <td>51</td>\n",
       "      <td>India</td>\n",
       "      <td>IND</td>\n",
       "      <td>2012 Summer</td>\n",
       "      <td>2012</td>\n",
       "      <td>Summer</td>\n",
       "      <td>London</td>\n",
       "      <td>Boxing</td>\n",
       "      <td>Boxing Women's Flyweight</td>\n",
       "      <td>Bronze</td>\n",
       "      <td>India</td>\n",
       "    </tr>\n",
       "    <tr>\n",
       "      <th>159556</th>\n",
       "      <td>64886</td>\n",
       "      <td>Ashok Kumar</td>\n",
       "      <td>M</td>\n",
       "      <td>22</td>\n",
       "      <td>170</td>\n",
       "      <td>57</td>\n",
       "      <td>India</td>\n",
       "      <td>IND</td>\n",
       "      <td>1972 Summer</td>\n",
       "      <td>1972</td>\n",
       "      <td>Summer</td>\n",
       "      <td>Munich</td>\n",
       "      <td>Hockey</td>\n",
       "      <td>Hockey Men's Hockey</td>\n",
       "      <td>Bronze</td>\n",
       "      <td>India</td>\n",
       "    </tr>\n",
       "    <tr>\n",
       "      <th>159585</th>\n",
       "      <td>64909</td>\n",
       "      <td>Sushil Kumar Solanki</td>\n",
       "      <td>M</td>\n",
       "      <td>25</td>\n",
       "      <td>166</td>\n",
       "      <td>66</td>\n",
       "      <td>India</td>\n",
       "      <td>IND</td>\n",
       "      <td>2008 Summer</td>\n",
       "      <td>2008</td>\n",
       "      <td>Summer</td>\n",
       "      <td>Beijing</td>\n",
       "      <td>Wrestling</td>\n",
       "      <td>Wrestling Men's Welterweight, Freestyle</td>\n",
       "      <td>Bronze</td>\n",
       "      <td>India</td>\n",
       "    </tr>\n",
       "    <tr>\n",
       "      <th>159657</th>\n",
       "      <td>74069</td>\n",
       "      <td>Sakshi Malik</td>\n",
       "      <td>F</td>\n",
       "      <td>23</td>\n",
       "      <td>162</td>\n",
       "      <td>58</td>\n",
       "      <td>India</td>\n",
       "      <td>IND</td>\n",
       "      <td>2016 Summer</td>\n",
       "      <td>2016</td>\n",
       "      <td>Summer</td>\n",
       "      <td>Rio de Janeiro</td>\n",
       "      <td>Wrestling</td>\n",
       "      <td>Wrestling Women's Lightweight, Freestyle</td>\n",
       "      <td>Bronze</td>\n",
       "      <td>India</td>\n",
       "    </tr>\n",
       "    <tr>\n",
       "      <th>159659</th>\n",
       "      <td>74119</td>\n",
       "      <td>Karnam Malleswari</td>\n",
       "      <td>F</td>\n",
       "      <td>25</td>\n",
       "      <td>163</td>\n",
       "      <td>60</td>\n",
       "      <td>India</td>\n",
       "      <td>IND</td>\n",
       "      <td>2000 Summer</td>\n",
       "      <td>2000</td>\n",
       "      <td>Summer</td>\n",
       "      <td>Sydney</td>\n",
       "      <td>Weightlifting</td>\n",
       "      <td>Weightlifting Women's Light-Heavyweight</td>\n",
       "      <td>Bronze</td>\n",
       "      <td>India</td>\n",
       "    </tr>\n",
       "    <tr>\n",
       "      <th>159710</th>\n",
       "      <td>81205</td>\n",
       "      <td>Ganesh Mollerapoovayya</td>\n",
       "      <td>M</td>\n",
       "      <td>26</td>\n",
       "      <td>172</td>\n",
       "      <td>66</td>\n",
       "      <td>India</td>\n",
       "      <td>IND</td>\n",
       "      <td>1972 Summer</td>\n",
       "      <td>1972</td>\n",
       "      <td>Summer</td>\n",
       "      <td>Munich</td>\n",
       "      <td>Hockey</td>\n",
       "      <td>Hockey Men's Hockey</td>\n",
       "      <td>Bronze</td>\n",
       "      <td>India</td>\n",
       "    </tr>\n",
       "    <tr>\n",
       "      <th>159763</th>\n",
       "      <td>84516</td>\n",
       "      <td>Gagan Narang</td>\n",
       "      <td>M</td>\n",
       "      <td>29</td>\n",
       "      <td>180</td>\n",
       "      <td>115</td>\n",
       "      <td>India</td>\n",
       "      <td>IND</td>\n",
       "      <td>2012 Summer</td>\n",
       "      <td>2012</td>\n",
       "      <td>Summer</td>\n",
       "      <td>London</td>\n",
       "      <td>Shooting</td>\n",
       "      <td>Shooting Men's Air Rifle, 10 metres</td>\n",
       "      <td>Bronze</td>\n",
       "      <td>India</td>\n",
       "    </tr>\n",
       "    <tr>\n",
       "      <th>159778</th>\n",
       "      <td>85112</td>\n",
       "      <td>Saina Nehwal</td>\n",
       "      <td>F</td>\n",
       "      <td>22</td>\n",
       "      <td>167</td>\n",
       "      <td>65</td>\n",
       "      <td>India</td>\n",
       "      <td>IND</td>\n",
       "      <td>2012 Summer</td>\n",
       "      <td>2012</td>\n",
       "      <td>Summer</td>\n",
       "      <td>London</td>\n",
       "      <td>Badminton</td>\n",
       "      <td>Badminton Women's Singles</td>\n",
       "      <td>Bronze</td>\n",
       "      <td>India</td>\n",
       "    </tr>\n",
       "    <tr>\n",
       "      <th>159791</th>\n",
       "      <td>90518</td>\n",
       "      <td>Leander Adrian Paes</td>\n",
       "      <td>M</td>\n",
       "      <td>23</td>\n",
       "      <td>178</td>\n",
       "      <td>77</td>\n",
       "      <td>India</td>\n",
       "      <td>IND</td>\n",
       "      <td>1996 Summer</td>\n",
       "      <td>1996</td>\n",
       "      <td>Summer</td>\n",
       "      <td>Atlanta</td>\n",
       "      <td>Tennis</td>\n",
       "      <td>Tennis Men's Singles</td>\n",
       "      <td>Bronze</td>\n",
       "      <td>India</td>\n",
       "    </tr>\n",
       "    <tr>\n",
       "      <th>159817</th>\n",
       "      <td>93687</td>\n",
       "      <td>Krishnamurty Perumal</td>\n",
       "      <td>M</td>\n",
       "      <td>21</td>\n",
       "      <td>174</td>\n",
       "      <td>78</td>\n",
       "      <td>India</td>\n",
       "      <td>IND</td>\n",
       "      <td>1968 Summer</td>\n",
       "      <td>1968</td>\n",
       "      <td>Summer</td>\n",
       "      <td>Mexico City</td>\n",
       "      <td>Hockey</td>\n",
       "      <td>Hockey Men's Hockey</td>\n",
       "      <td>Bronze</td>\n",
       "      <td>India</td>\n",
       "    </tr>\n",
       "    <tr>\n",
       "      <th>159818</th>\n",
       "      <td>93687</td>\n",
       "      <td>Krishnamurty Perumal</td>\n",
       "      <td>M</td>\n",
       "      <td>24</td>\n",
       "      <td>174</td>\n",
       "      <td>78</td>\n",
       "      <td>India</td>\n",
       "      <td>IND</td>\n",
       "      <td>1972 Summer</td>\n",
       "      <td>1972</td>\n",
       "      <td>Summer</td>\n",
       "      <td>Munich</td>\n",
       "      <td>Hockey</td>\n",
       "      <td>Hockey Men's Hockey</td>\n",
       "      <td>Bronze</td>\n",
       "      <td>India</td>\n",
       "    </tr>\n",
       "    <tr>\n",
       "      <th>159821</th>\n",
       "      <td>93798</td>\n",
       "      <td>Victor John \"V. J.\" Peter</td>\n",
       "      <td>M</td>\n",
       "      <td>31</td>\n",
       "      <td>165</td>\n",
       "      <td>59</td>\n",
       "      <td>India</td>\n",
       "      <td>IND</td>\n",
       "      <td>1968 Summer</td>\n",
       "      <td>1968</td>\n",
       "      <td>Summer</td>\n",
       "      <td>Mexico City</td>\n",
       "      <td>Hockey</td>\n",
       "      <td>Hockey Men's Hockey</td>\n",
       "      <td>Bronze</td>\n",
       "      <td>India</td>\n",
       "    </tr>\n",
       "    <tr>\n",
       "      <th>159885</th>\n",
       "      <td>98361</td>\n",
       "      <td>Inam-ur Rahman</td>\n",
       "      <td>M</td>\n",
       "      <td>24</td>\n",
       "      <td>169</td>\n",
       "      <td>68</td>\n",
       "      <td>India</td>\n",
       "      <td>IND</td>\n",
       "      <td>1968 Summer</td>\n",
       "      <td>1968</td>\n",
       "      <td>Summer</td>\n",
       "      <td>Mexico City</td>\n",
       "      <td>Hockey</td>\n",
       "      <td>Hockey Men's Hockey</td>\n",
       "      <td>Bronze</td>\n",
       "      <td>India</td>\n",
       "    </tr>\n",
       "    <tr>\n",
       "      <th>159974</th>\n",
       "      <td>104413</td>\n",
       "      <td>Munir Sait</td>\n",
       "      <td>M</td>\n",
       "      <td>28</td>\n",
       "      <td>170</td>\n",
       "      <td>65</td>\n",
       "      <td>India</td>\n",
       "      <td>IND</td>\n",
       "      <td>1968 Summer</td>\n",
       "      <td>1968</td>\n",
       "      <td>Summer</td>\n",
       "      <td>Mexico City</td>\n",
       "      <td>Hockey</td>\n",
       "      <td>Hockey Men's Hockey</td>\n",
       "      <td>Bronze</td>\n",
       "      <td>India</td>\n",
       "    </tr>\n",
       "    <tr>\n",
       "      <th>160051</th>\n",
       "      <td>111000</td>\n",
       "      <td>Ajitpal Singh Kular</td>\n",
       "      <td>M</td>\n",
       "      <td>21</td>\n",
       "      <td>178</td>\n",
       "      <td>70</td>\n",
       "      <td>India</td>\n",
       "      <td>IND</td>\n",
       "      <td>1968 Summer</td>\n",
       "      <td>1968</td>\n",
       "      <td>Summer</td>\n",
       "      <td>Mexico City</td>\n",
       "      <td>Hockey</td>\n",
       "      <td>Hockey Men's Hockey</td>\n",
       "      <td>Bronze</td>\n",
       "      <td>India</td>\n",
       "    </tr>\n",
       "    <tr>\n",
       "      <th>160052</th>\n",
       "      <td>111000</td>\n",
       "      <td>Ajitpal Singh Kular</td>\n",
       "      <td>M</td>\n",
       "      <td>25</td>\n",
       "      <td>178</td>\n",
       "      <td>70</td>\n",
       "      <td>India</td>\n",
       "      <td>IND</td>\n",
       "      <td>1972 Summer</td>\n",
       "      <td>1972</td>\n",
       "      <td>Summer</td>\n",
       "      <td>Munich</td>\n",
       "      <td>Hockey</td>\n",
       "      <td>Hockey Men's Hockey</td>\n",
       "      <td>Bronze</td>\n",
       "      <td>India</td>\n",
       "    </tr>\n",
       "    <tr>\n",
       "      <th>160065</th>\n",
       "      <td>111012</td>\n",
       "      <td>Balbir Singh</td>\n",
       "      <td>M</td>\n",
       "      <td>26</td>\n",
       "      <td>168</td>\n",
       "      <td>65</td>\n",
       "      <td>India</td>\n",
       "      <td>IND</td>\n",
       "      <td>1968 Summer</td>\n",
       "      <td>1968</td>\n",
       "      <td>Summer</td>\n",
       "      <td>Mexico City</td>\n",
       "      <td>Hockey</td>\n",
       "      <td>Hockey Men's Hockey</td>\n",
       "      <td>Bronze</td>\n",
       "      <td>India</td>\n",
       "    </tr>\n",
       "    <tr>\n",
       "      <th>160066</th>\n",
       "      <td>111013</td>\n",
       "      <td>Balbir Singh</td>\n",
       "      <td>M</td>\n",
       "      <td>23</td>\n",
       "      <td>178</td>\n",
       "      <td>73</td>\n",
       "      <td>India</td>\n",
       "      <td>IND</td>\n",
       "      <td>1968 Summer</td>\n",
       "      <td>1968</td>\n",
       "      <td>Summer</td>\n",
       "      <td>Mexico City</td>\n",
       "      <td>Hockey</td>\n",
       "      <td>Hockey Men's Hockey</td>\n",
       "      <td>Bronze</td>\n",
       "      <td>India</td>\n",
       "    </tr>\n",
       "    <tr>\n",
       "      <th>160067</th>\n",
       "      <td>111014</td>\n",
       "      <td>Balbir Singh</td>\n",
       "      <td>M</td>\n",
       "      <td>23</td>\n",
       "      <td>173</td>\n",
       "      <td>70</td>\n",
       "      <td>India</td>\n",
       "      <td>IND</td>\n",
       "      <td>1968 Summer</td>\n",
       "      <td>1968</td>\n",
       "      <td>Summer</td>\n",
       "      <td>Mexico City</td>\n",
       "      <td>Hockey</td>\n",
       "      <td>Hockey Men's Hockey</td>\n",
       "      <td>Bronze</td>\n",
       "      <td>India</td>\n",
       "    </tr>\n",
       "    <tr>\n",
       "      <th>160106</th>\n",
       "      <td>111048</td>\n",
       "      <td>Inder \"Gogi\" Singh</td>\n",
       "      <td>M</td>\n",
       "      <td>24</td>\n",
       "      <td>173</td>\n",
       "      <td>68</td>\n",
       "      <td>India</td>\n",
       "      <td>IND</td>\n",
       "      <td>1968 Summer</td>\n",
       "      <td>1968</td>\n",
       "      <td>Summer</td>\n",
       "      <td>Mexico City</td>\n",
       "      <td>Hockey</td>\n",
       "      <td>Hockey Men's Hockey</td>\n",
       "      <td>Bronze</td>\n",
       "      <td>India</td>\n",
       "    </tr>\n",
       "    <tr>\n",
       "      <th>160111</th>\n",
       "      <td>111052</td>\n",
       "      <td>Gurbux Singh</td>\n",
       "      <td>M</td>\n",
       "      <td>33</td>\n",
       "      <td>178</td>\n",
       "      <td>65</td>\n",
       "      <td>India</td>\n",
       "      <td>IND</td>\n",
       "      <td>1968 Summer</td>\n",
       "      <td>1968</td>\n",
       "      <td>Summer</td>\n",
       "      <td>Mexico City</td>\n",
       "      <td>Hockey</td>\n",
       "      <td>Hockey Men's Hockey</td>\n",
       "      <td>Bronze</td>\n",
       "      <td>India</td>\n",
       "    </tr>\n",
       "    <tr>\n",
       "      <th>160126</th>\n",
       "      <td>111063</td>\n",
       "      <td>Harbinder Singh Chimni</td>\n",
       "      <td>M</td>\n",
       "      <td>25</td>\n",
       "      <td>174</td>\n",
       "      <td>60</td>\n",
       "      <td>India</td>\n",
       "      <td>IND</td>\n",
       "      <td>1968 Summer</td>\n",
       "      <td>1968</td>\n",
       "      <td>Summer</td>\n",
       "      <td>Mexico City</td>\n",
       "      <td>Hockey</td>\n",
       "      <td>Hockey Men's Hockey</td>\n",
       "      <td>Bronze</td>\n",
       "      <td>India</td>\n",
       "    </tr>\n",
       "    <tr>\n",
       "      <th>160127</th>\n",
       "      <td>111063</td>\n",
       "      <td>Harbinder Singh Chimni</td>\n",
       "      <td>M</td>\n",
       "      <td>29</td>\n",
       "      <td>174</td>\n",
       "      <td>60</td>\n",
       "      <td>India</td>\n",
       "      <td>IND</td>\n",
       "      <td>1972 Summer</td>\n",
       "      <td>1972</td>\n",
       "      <td>Summer</td>\n",
       "      <td>Munich</td>\n",
       "      <td>Hockey</td>\n",
       "      <td>Hockey Men's Hockey</td>\n",
       "      <td>Bronze</td>\n",
       "      <td>India</td>\n",
       "    </tr>\n",
       "    <tr>\n",
       "      <th>160128</th>\n",
       "      <td>111064</td>\n",
       "      <td>Harcharan Singh</td>\n",
       "      <td>M</td>\n",
       "      <td>22</td>\n",
       "      <td>175</td>\n",
       "      <td>68</td>\n",
       "      <td>India</td>\n",
       "      <td>IND</td>\n",
       "      <td>1972 Summer</td>\n",
       "      <td>1972</td>\n",
       "      <td>Summer</td>\n",
       "      <td>Munich</td>\n",
       "      <td>Hockey</td>\n",
       "      <td>Hockey Men's Hockey</td>\n",
       "      <td>Bronze</td>\n",
       "      <td>India</td>\n",
       "    </tr>\n",
       "    <tr>\n",
       "      <th>160134</th>\n",
       "      <td>111069</td>\n",
       "      <td>Harmik Singh</td>\n",
       "      <td>M</td>\n",
       "      <td>21</td>\n",
       "      <td>174</td>\n",
       "      <td>70</td>\n",
       "      <td>India</td>\n",
       "      <td>IND</td>\n",
       "      <td>1968 Summer</td>\n",
       "      <td>1968</td>\n",
       "      <td>Summer</td>\n",
       "      <td>Mexico City</td>\n",
       "      <td>Hockey</td>\n",
       "      <td>Hockey Men's Hockey</td>\n",
       "      <td>Bronze</td>\n",
       "      <td>India</td>\n",
       "    </tr>\n",
       "    <tr>\n",
       "      <th>160135</th>\n",
       "      <td>111069</td>\n",
       "      <td>Harmik Singh</td>\n",
       "      <td>M</td>\n",
       "      <td>25</td>\n",
       "      <td>174</td>\n",
       "      <td>70</td>\n",
       "      <td>India</td>\n",
       "      <td>IND</td>\n",
       "      <td>1972 Summer</td>\n",
       "      <td>1972</td>\n",
       "      <td>Summer</td>\n",
       "      <td>Munich</td>\n",
       "      <td>Hockey</td>\n",
       "      <td>Hockey Men's Hockey</td>\n",
       "      <td>Bronze</td>\n",
       "      <td>India</td>\n",
       "    </tr>\n",
       "    <tr>\n",
       "      <th>160144</th>\n",
       "      <td>111075</td>\n",
       "      <td>Jagjit Singh Kular</td>\n",
       "      <td>M</td>\n",
       "      <td>24</td>\n",
       "      <td>170</td>\n",
       "      <td>58</td>\n",
       "      <td>India</td>\n",
       "      <td>IND</td>\n",
       "      <td>1968 Summer</td>\n",
       "      <td>1968</td>\n",
       "      <td>Summer</td>\n",
       "      <td>Mexico City</td>\n",
       "      <td>Hockey</td>\n",
       "      <td>Hockey Men's Hockey</td>\n",
       "      <td>Bronze</td>\n",
       "      <td>India</td>\n",
       "    </tr>\n",
       "    <tr>\n",
       "      <th>160165</th>\n",
       "      <td>111092</td>\n",
       "      <td>Kulwant Singh</td>\n",
       "      <td>M</td>\n",
       "      <td>23</td>\n",
       "      <td>172</td>\n",
       "      <td>70</td>\n",
       "      <td>India</td>\n",
       "      <td>IND</td>\n",
       "      <td>1972 Summer</td>\n",
       "      <td>1972</td>\n",
       "      <td>Summer</td>\n",
       "      <td>Munich</td>\n",
       "      <td>Hockey</td>\n",
       "      <td>Hockey Men's Hockey</td>\n",
       "      <td>Bronze</td>\n",
       "      <td>India</td>\n",
       "    </tr>\n",
       "    <tr>\n",
       "      <th>160197</th>\n",
       "      <td>111112</td>\n",
       "      <td>Mukhbain Singh</td>\n",
       "      <td>M</td>\n",
       "      <td>27</td>\n",
       "      <td>173</td>\n",
       "      <td>70</td>\n",
       "      <td>India</td>\n",
       "      <td>IND</td>\n",
       "      <td>1972 Summer</td>\n",
       "      <td>1972</td>\n",
       "      <td>Summer</td>\n",
       "      <td>Munich</td>\n",
       "      <td>Hockey</td>\n",
       "      <td>Hockey Men's Hockey</td>\n",
       "      <td>Bronze</td>\n",
       "      <td>India</td>\n",
       "    </tr>\n",
       "    <tr>\n",
       "      <th>160223</th>\n",
       "      <td>111123</td>\n",
       "      <td>Prithipal Singh</td>\n",
       "      <td>M</td>\n",
       "      <td>36</td>\n",
       "      <td>175</td>\n",
       "      <td>71</td>\n",
       "      <td>India</td>\n",
       "      <td>IND</td>\n",
       "      <td>1968 Summer</td>\n",
       "      <td>1968</td>\n",
       "      <td>Summer</td>\n",
       "      <td>Mexico City</td>\n",
       "      <td>Hockey</td>\n",
       "      <td>Hockey Men's Hockey</td>\n",
       "      <td>Bronze</td>\n",
       "      <td>India</td>\n",
       "    </tr>\n",
       "    <tr>\n",
       "      <th>160271</th>\n",
       "      <td>111156</td>\n",
       "      <td>Tarsem Singh Kular</td>\n",
       "      <td>M</td>\n",
       "      <td>21</td>\n",
       "      <td>173</td>\n",
       "      <td>66</td>\n",
       "      <td>India</td>\n",
       "      <td>IND</td>\n",
       "      <td>1968 Summer</td>\n",
       "      <td>1968</td>\n",
       "      <td>Summer</td>\n",
       "      <td>Mexico City</td>\n",
       "      <td>Hockey</td>\n",
       "      <td>Hockey Men's Hockey</td>\n",
       "      <td>Bronze</td>\n",
       "      <td>India</td>\n",
       "    </tr>\n",
       "    <tr>\n",
       "      <th>160285</th>\n",
       "      <td>111160</td>\n",
       "      <td>Varinder Singh</td>\n",
       "      <td>M</td>\n",
       "      <td>25</td>\n",
       "      <td>160</td>\n",
       "      <td>58</td>\n",
       "      <td>India</td>\n",
       "      <td>IND</td>\n",
       "      <td>1972 Summer</td>\n",
       "      <td>1972</td>\n",
       "      <td>Summer</td>\n",
       "      <td>Munich</td>\n",
       "      <td>Hockey</td>\n",
       "      <td>Hockey Men's Hockey</td>\n",
       "      <td>Bronze</td>\n",
       "      <td>India</td>\n",
       "    </tr>\n",
       "    <tr>\n",
       "      <th>160288</th>\n",
       "      <td>111161</td>\n",
       "      <td>Vijender Kumar Singh</td>\n",
       "      <td>M</td>\n",
       "      <td>22</td>\n",
       "      <td>182</td>\n",
       "      <td>75</td>\n",
       "      <td>India</td>\n",
       "      <td>IND</td>\n",
       "      <td>2008 Summer</td>\n",
       "      <td>2008</td>\n",
       "      <td>Summer</td>\n",
       "      <td>Beijing</td>\n",
       "      <td>Boxing</td>\n",
       "      <td>Boxing Men's Middleweight</td>\n",
       "      <td>Bronze</td>\n",
       "      <td>India</td>\n",
       "    </tr>\n",
       "  </tbody>\n",
       "</table>\n",
       "</div>"
      ],
      "text/plain": [
       "            ID                          Name Sex  Age  Height  Weight   Team  \\\n",
       "159205   11520   Govinda Billimogaputtaswamy   M   20     171      60  India   \n",
       "159294   21339      Rajendra Absolem Christy   M   30     165      58  India   \n",
       "159301   23098             Charles Cornelius   M   26     170      65  India   \n",
       "159360   30913                Yogeshwar Dutt   M   29     168      65  India   \n",
       "159385   36928              Manuel Frederick   M   23     172      65  India   \n",
       "159453   53275    Khashaba Dadasaheb  Jahdav   M   25       0       0  India   \n",
       "159539   60461                 Michael Kindo   M   25     170      62  India   \n",
       "159542   62303  Mangte Chungneijang Mary Kom   F   29     158      51  India   \n",
       "159556   64886                   Ashok Kumar   M   22     170      57  India   \n",
       "159585   64909          Sushil Kumar Solanki   M   25     166      66  India   \n",
       "159657   74069                  Sakshi Malik   F   23     162      58  India   \n",
       "159659   74119             Karnam Malleswari   F   25     163      60  India   \n",
       "159710   81205        Ganesh Mollerapoovayya   M   26     172      66  India   \n",
       "159763   84516                  Gagan Narang   M   29     180     115  India   \n",
       "159778   85112                  Saina Nehwal   F   22     167      65  India   \n",
       "159791   90518           Leander Adrian Paes   M   23     178      77  India   \n",
       "159817   93687          Krishnamurty Perumal   M   21     174      78  India   \n",
       "159818   93687          Krishnamurty Perumal   M   24     174      78  India   \n",
       "159821   93798     Victor John \"V. J.\" Peter   M   31     165      59  India   \n",
       "159885   98361                Inam-ur Rahman   M   24     169      68  India   \n",
       "159974  104413                    Munir Sait   M   28     170      65  India   \n",
       "160051  111000           Ajitpal Singh Kular   M   21     178      70  India   \n",
       "160052  111000           Ajitpal Singh Kular   M   25     178      70  India   \n",
       "160065  111012                  Balbir Singh   M   26     168      65  India   \n",
       "160066  111013                  Balbir Singh   M   23     178      73  India   \n",
       "160067  111014                  Balbir Singh   M   23     173      70  India   \n",
       "160106  111048            Inder \"Gogi\" Singh   M   24     173      68  India   \n",
       "160111  111052                  Gurbux Singh   M   33     178      65  India   \n",
       "160126  111063        Harbinder Singh Chimni   M   25     174      60  India   \n",
       "160127  111063        Harbinder Singh Chimni   M   29     174      60  India   \n",
       "160128  111064               Harcharan Singh   M   22     175      68  India   \n",
       "160134  111069                  Harmik Singh   M   21     174      70  India   \n",
       "160135  111069                  Harmik Singh   M   25     174      70  India   \n",
       "160144  111075            Jagjit Singh Kular   M   24     170      58  India   \n",
       "160165  111092                 Kulwant Singh   M   23     172      70  India   \n",
       "160197  111112                Mukhbain Singh   M   27     173      70  India   \n",
       "160223  111123               Prithipal Singh   M   36     175      71  India   \n",
       "160271  111156            Tarsem Singh Kular   M   21     173      66  India   \n",
       "160285  111160                Varinder Singh   M   25     160      58  India   \n",
       "160288  111161          Vijender Kumar Singh   M   22     182      75  India   \n",
       "\n",
       "        NOC        Games  Year  Season            City          Sport  \\\n",
       "159205  IND  1972 Summer  1972  Summer          Munich         Hockey   \n",
       "159294  IND  1968 Summer  1968  Summer     Mexico City         Hockey   \n",
       "159301  IND  1972 Summer  1972  Summer          Munich         Hockey   \n",
       "159360  IND  2012 Summer  2012  Summer          London      Wrestling   \n",
       "159385  IND  1972 Summer  1972  Summer          Munich         Hockey   \n",
       "159453  IND  1952 Summer  1952  Summer        Helsinki      Wrestling   \n",
       "159539  IND  1972 Summer  1972  Summer          Munich         Hockey   \n",
       "159542  IND  2012 Summer  2012  Summer          London         Boxing   \n",
       "159556  IND  1972 Summer  1972  Summer          Munich         Hockey   \n",
       "159585  IND  2008 Summer  2008  Summer         Beijing      Wrestling   \n",
       "159657  IND  2016 Summer  2016  Summer  Rio de Janeiro      Wrestling   \n",
       "159659  IND  2000 Summer  2000  Summer          Sydney  Weightlifting   \n",
       "159710  IND  1972 Summer  1972  Summer          Munich         Hockey   \n",
       "159763  IND  2012 Summer  2012  Summer          London       Shooting   \n",
       "159778  IND  2012 Summer  2012  Summer          London      Badminton   \n",
       "159791  IND  1996 Summer  1996  Summer         Atlanta         Tennis   \n",
       "159817  IND  1968 Summer  1968  Summer     Mexico City         Hockey   \n",
       "159818  IND  1972 Summer  1972  Summer          Munich         Hockey   \n",
       "159821  IND  1968 Summer  1968  Summer     Mexico City         Hockey   \n",
       "159885  IND  1968 Summer  1968  Summer     Mexico City         Hockey   \n",
       "159974  IND  1968 Summer  1968  Summer     Mexico City         Hockey   \n",
       "160051  IND  1968 Summer  1968  Summer     Mexico City         Hockey   \n",
       "160052  IND  1972 Summer  1972  Summer          Munich         Hockey   \n",
       "160065  IND  1968 Summer  1968  Summer     Mexico City         Hockey   \n",
       "160066  IND  1968 Summer  1968  Summer     Mexico City         Hockey   \n",
       "160067  IND  1968 Summer  1968  Summer     Mexico City         Hockey   \n",
       "160106  IND  1968 Summer  1968  Summer     Mexico City         Hockey   \n",
       "160111  IND  1968 Summer  1968  Summer     Mexico City         Hockey   \n",
       "160126  IND  1968 Summer  1968  Summer     Mexico City         Hockey   \n",
       "160127  IND  1972 Summer  1972  Summer          Munich         Hockey   \n",
       "160128  IND  1972 Summer  1972  Summer          Munich         Hockey   \n",
       "160134  IND  1968 Summer  1968  Summer     Mexico City         Hockey   \n",
       "160135  IND  1972 Summer  1972  Summer          Munich         Hockey   \n",
       "160144  IND  1968 Summer  1968  Summer     Mexico City         Hockey   \n",
       "160165  IND  1972 Summer  1972  Summer          Munich         Hockey   \n",
       "160197  IND  1972 Summer  1972  Summer          Munich         Hockey   \n",
       "160223  IND  1968 Summer  1968  Summer     Mexico City         Hockey   \n",
       "160271  IND  1968 Summer  1968  Summer     Mexico City         Hockey   \n",
       "160285  IND  1972 Summer  1972  Summer          Munich         Hockey   \n",
       "160288  IND  2008 Summer  2008  Summer         Beijing         Boxing   \n",
       "\n",
       "                                           Event   Medal Region  \n",
       "159205                       Hockey Men's Hockey  Bronze  India  \n",
       "159294                       Hockey Men's Hockey  Bronze  India  \n",
       "159301                       Hockey Men's Hockey  Bronze  India  \n",
       "159360    Wrestling Men's Lightweight, Freestyle  Bronze  India  \n",
       "159385                       Hockey Men's Hockey  Bronze  India  \n",
       "159453   Wrestling Men's Bantamweight, Freestyle  Bronze  India  \n",
       "159539                       Hockey Men's Hockey  Bronze  India  \n",
       "159542                  Boxing Women's Flyweight  Bronze  India  \n",
       "159556                       Hockey Men's Hockey  Bronze  India  \n",
       "159585   Wrestling Men's Welterweight, Freestyle  Bronze  India  \n",
       "159657  Wrestling Women's Lightweight, Freestyle  Bronze  India  \n",
       "159659   Weightlifting Women's Light-Heavyweight  Bronze  India  \n",
       "159710                       Hockey Men's Hockey  Bronze  India  \n",
       "159763       Shooting Men's Air Rifle, 10 metres  Bronze  India  \n",
       "159778                 Badminton Women's Singles  Bronze  India  \n",
       "159791                      Tennis Men's Singles  Bronze  India  \n",
       "159817                       Hockey Men's Hockey  Bronze  India  \n",
       "159818                       Hockey Men's Hockey  Bronze  India  \n",
       "159821                       Hockey Men's Hockey  Bronze  India  \n",
       "159885                       Hockey Men's Hockey  Bronze  India  \n",
       "159974                       Hockey Men's Hockey  Bronze  India  \n",
       "160051                       Hockey Men's Hockey  Bronze  India  \n",
       "160052                       Hockey Men's Hockey  Bronze  India  \n",
       "160065                       Hockey Men's Hockey  Bronze  India  \n",
       "160066                       Hockey Men's Hockey  Bronze  India  \n",
       "160067                       Hockey Men's Hockey  Bronze  India  \n",
       "160106                       Hockey Men's Hockey  Bronze  India  \n",
       "160111                       Hockey Men's Hockey  Bronze  India  \n",
       "160126                       Hockey Men's Hockey  Bronze  India  \n",
       "160127                       Hockey Men's Hockey  Bronze  India  \n",
       "160128                       Hockey Men's Hockey  Bronze  India  \n",
       "160134                       Hockey Men's Hockey  Bronze  India  \n",
       "160135                       Hockey Men's Hockey  Bronze  India  \n",
       "160144                       Hockey Men's Hockey  Bronze  India  \n",
       "160165                       Hockey Men's Hockey  Bronze  India  \n",
       "160197                       Hockey Men's Hockey  Bronze  India  \n",
       "160223                       Hockey Men's Hockey  Bronze  India  \n",
       "160271                       Hockey Men's Hockey  Bronze  India  \n",
       "160285                       Hockey Men's Hockey  Bronze  India  \n",
       "160288                 Boxing Men's Middleweight  Bronze  India  "
      ]
     },
     "execution_count": 72,
     "metadata": {},
     "output_type": "execute_result"
    }
   ],
   "source": [
    "B_medal_India = ath_df[(ath_df.Medal == 'Bronze') & (ath_df.Team == 'India')]\n",
    "B_medal_India"
   ]
  },
  {
   "cell_type": "markdown",
   "id": "985b0a41",
   "metadata": {},
   "source": [
    "### Age wise Distribution of Indian Bronzemedalist"
   ]
  },
  {
   "cell_type": "code",
   "execution_count": 73,
   "id": "07aeccb0",
   "metadata": {},
   "outputs": [
    {
     "data": {
      "image/png": "[encoded data removed]",
      "text/plain": [
       "<Figure size 1440x720 with 1 Axes>"
      ]
     },
     "metadata": {},
     "output_type": "display_data"
    }
   ],
   "source": [
    "plt.figure(figsize=(20,10))\n",
    "sns.countplot(B_medal_India['Age'])\n",
    "plt.title('Distribution of Bronze Medals of India')\n",
    "plt.show()"
   ]
  },
  {
   "cell_type": "markdown",
   "id": "937379f7",
   "metadata": {},
   "source": [
    "### Name sport in which India won Bronze Medal"
   ]
  },
  {
   "cell_type": "code",
   "execution_count": 74,
   "id": "2939f55c",
   "metadata": {},
   "outputs": [
    {
     "data": {
      "text/plain": [
       "159205           Hockey\n",
       "159294           Hockey\n",
       "159301           Hockey\n",
       "159360        Wrestling\n",
       "159385           Hockey\n",
       "159453        Wrestling\n",
       "159539           Hockey\n",
       "159542           Boxing\n",
       "159556           Hockey\n",
       "159585        Wrestling\n",
       "159657        Wrestling\n",
       "159659    Weightlifting\n",
       "159710           Hockey\n",
       "159763         Shooting\n",
       "159778        Badminton\n",
       "159791           Tennis\n",
       "159817           Hockey\n",
       "159818           Hockey\n",
       "159821           Hockey\n",
       "159885           Hockey\n",
       "159974           Hockey\n",
       "160051           Hockey\n",
       "160052           Hockey\n",
       "160065           Hockey\n",
       "160066           Hockey\n",
       "160067           Hockey\n",
       "160106           Hockey\n",
       "160111           Hockey\n",
       "160126           Hockey\n",
       "160127           Hockey\n",
       "160128           Hockey\n",
       "160134           Hockey\n",
       "160135           Hockey\n",
       "160144           Hockey\n",
       "160165           Hockey\n",
       "160197           Hockey\n",
       "160223           Hockey\n",
       "160271           Hockey\n",
       "160285           Hockey\n",
       "160288           Boxing\n",
       "Name: Sport, dtype: object"
      ]
     },
     "execution_count": 74,
     "metadata": {},
     "output_type": "execute_result"
    }
   ],
   "source": [
    "sporting_event = B_medal_India['Sport']\n",
    "sporting_event "
   ]
  },
  {
   "cell_type": "markdown",
   "id": "4d1d8769",
   "metadata": {},
   "source": [
    "# Prediction"
   ]
  },
  {
   "cell_type": "code",
   "execution_count": 75,
   "id": "75ac55b5",
   "metadata": {},
   "outputs": [
    {
     "data": {
      "text/html": [
       "<div>\n",
       "<style scoped>\n",
       "    .dataframe tbody tr th:only-of-type {\n",
       "        vertical-align: middle;\n",
       "    }\n",
       "\n",
       "    .dataframe tbody tr th {\n",
       "        vertical-align: top;\n",
       "    }\n",
       "\n",
       "    .dataframe thead th {\n",
       "        text-align: right;\n",
       "    }\n",
       "</style>\n",
       "<table border=\"1\" class=\"dataframe\">\n",
       "  <thead>\n",
       "    <tr style=\"text-align: right;\">\n",
       "      <th></th>\n",
       "      <th>Sex</th>\n",
       "      <th>Age</th>\n",
       "      <th>Height</th>\n",
       "      <th>Weight</th>\n",
       "      <th>Season</th>\n",
       "      <th>Medal</th>\n",
       "    </tr>\n",
       "  </thead>\n",
       "  <tbody>\n",
       "    <tr>\n",
       "      <th>0</th>\n",
       "      <td>M</td>\n",
       "      <td>24</td>\n",
       "      <td>180</td>\n",
       "      <td>80</td>\n",
       "      <td>Summer</td>\n",
       "      <td>No Medal</td>\n",
       "    </tr>\n",
       "    <tr>\n",
       "      <th>1</th>\n",
       "      <td>M</td>\n",
       "      <td>23</td>\n",
       "      <td>170</td>\n",
       "      <td>60</td>\n",
       "      <td>Summer</td>\n",
       "      <td>No Medal</td>\n",
       "    </tr>\n",
       "    <tr>\n",
       "      <th>2</th>\n",
       "      <td>M</td>\n",
       "      <td>22</td>\n",
       "      <td>182</td>\n",
       "      <td>75</td>\n",
       "      <td>Summer</td>\n",
       "      <td>No Medal</td>\n",
       "    </tr>\n",
       "    <tr>\n",
       "      <th>3</th>\n",
       "      <td>M</td>\n",
       "      <td>25</td>\n",
       "      <td>160</td>\n",
       "      <td>62</td>\n",
       "      <td>Summer</td>\n",
       "      <td>No Medal</td>\n",
       "    </tr>\n",
       "    <tr>\n",
       "      <th>4</th>\n",
       "      <td>F</td>\n",
       "      <td>14</td>\n",
       "      <td>168</td>\n",
       "      <td>54</td>\n",
       "      <td>Summer</td>\n",
       "      <td>No Medal</td>\n",
       "    </tr>\n",
       "    <tr>\n",
       "      <th>...</th>\n",
       "      <td>...</td>\n",
       "      <td>...</td>\n",
       "      <td>...</td>\n",
       "      <td>...</td>\n",
       "      <td>...</td>\n",
       "      <td>...</td>\n",
       "    </tr>\n",
       "    <tr>\n",
       "      <th>270762</th>\n",
       "      <td>F</td>\n",
       "      <td>23</td>\n",
       "      <td>150</td>\n",
       "      <td>56</td>\n",
       "      <td>Summer</td>\n",
       "      <td>No Medal</td>\n",
       "    </tr>\n",
       "    <tr>\n",
       "      <th>270763</th>\n",
       "      <td>F</td>\n",
       "      <td>27</td>\n",
       "      <td>150</td>\n",
       "      <td>56</td>\n",
       "      <td>Summer</td>\n",
       "      <td>No Medal</td>\n",
       "    </tr>\n",
       "    <tr>\n",
       "      <th>270764</th>\n",
       "      <td>F</td>\n",
       "      <td>15</td>\n",
       "      <td>0</td>\n",
       "      <td>0</td>\n",
       "      <td>Summer</td>\n",
       "      <td>No Medal</td>\n",
       "    </tr>\n",
       "    <tr>\n",
       "      <th>270765</th>\n",
       "      <td>M</td>\n",
       "      <td>23</td>\n",
       "      <td>170</td>\n",
       "      <td>63</td>\n",
       "      <td>Summer</td>\n",
       "      <td>No Medal</td>\n",
       "    </tr>\n",
       "    <tr>\n",
       "      <th>270766</th>\n",
       "      <td>M</td>\n",
       "      <td>20</td>\n",
       "      <td>175</td>\n",
       "      <td>75</td>\n",
       "      <td>Summer</td>\n",
       "      <td>No Medal</td>\n",
       "    </tr>\n",
       "  </tbody>\n",
       "</table>\n",
       "<p>270767 rows × 6 columns</p>\n",
       "</div>"
      ],
      "text/plain": [
       "       Sex  Age  Height  Weight  Season     Medal\n",
       "0        M   24     180      80  Summer  No Medal\n",
       "1        M   23     170      60  Summer  No Medal\n",
       "2        M   22     182      75  Summer  No Medal\n",
       "3        M   25     160      62  Summer  No Medal\n",
       "4        F   14     168      54  Summer  No Medal\n",
       "...     ..  ...     ...     ...     ...       ...\n",
       "270762   F   23     150      56  Summer  No Medal\n",
       "270763   F   27     150      56  Summer  No Medal\n",
       "270764   F   15       0       0  Summer  No Medal\n",
       "270765   M   23     170      63  Summer  No Medal\n",
       "270766   M   20     175      75  Summer  No Medal\n",
       "\n",
       "[270767 rows x 6 columns]"
      ]
     },
     "execution_count": 75,
     "metadata": {},
     "output_type": "execute_result"
    }
   ],
   "source": [
    "ath_df.drop(['ID','Name','Team','NOC','Games','Year','City','Sport','Event','Region'],axis=1,inplace=True)\n",
    "ath_df"
   ]
  },
  {
   "cell_type": "markdown",
   "id": "44e195b1",
   "metadata": {},
   "source": [
    "## Checking Null Values"
   ]
  },
  {
   "cell_type": "code",
   "execution_count": 76,
   "id": "77f47c0f",
   "metadata": {},
   "outputs": [
    {
     "data": {
      "text/plain": [
       "Sex       0\n",
       "Age       0\n",
       "Height    0\n",
       "Weight    0\n",
       "Season    0\n",
       "Medal     0\n",
       "dtype: int64"
      ]
     },
     "execution_count": 76,
     "metadata": {},
     "output_type": "execute_result"
    }
   ],
   "source": [
    "ath_df.isna().sum()"
   ]
  },
  {
   "cell_type": "markdown",
   "id": "1f1590f5",
   "metadata": {},
   "source": [
    "## Replace Values"
   ]
  },
  {
   "cell_type": "code",
   "execution_count": 77,
   "id": "1c668528",
   "metadata": {},
   "outputs": [],
   "source": [
    "ath_df.Medal=ath_df.Medal.replace({'No Medal':1,'Gold':2,'Silver':3,'Bronze':4})\n",
    "ath_df.Season=ath_df.Season.replace({'Summer':1,'Winter':0})\n",
    "ath_df.Sex=ath_df.Sex.replace({'M':7,'F':9})"
   ]
  },
  {
   "cell_type": "markdown",
   "id": "e4d1c461",
   "metadata": {},
   "source": [
    "## Checking datatypes"
   ]
  },
  {
   "cell_type": "code",
   "execution_count": 78,
   "id": "f95a85f0",
   "metadata": {},
   "outputs": [
    {
     "data": {
      "text/plain": [
       "Sex       int64\n",
       "Age       int32\n",
       "Height    int32\n",
       "Weight    int32\n",
       "Season    int64\n",
       "Medal     int64\n",
       "dtype: object"
      ]
     },
     "execution_count": 78,
     "metadata": {},
     "output_type": "execute_result"
    }
   ],
   "source": [
    "ath_df.dtypes"
   ]
  },
  {
   "cell_type": "markdown",
   "id": "1e1d905e",
   "metadata": {},
   "source": [
    "## Heat Map"
   ]
  },
  {
   "cell_type": "code",
   "execution_count": 79,
   "id": "9b723d76",
   "metadata": {},
   "outputs": [
    {
     "data": {
      "text/html": [
       "<div>\n",
       "<style scoped>\n",
       "    .dataframe tbody tr th:only-of-type {\n",
       "        vertical-align: middle;\n",
       "    }\n",
       "\n",
       "    .dataframe tbody tr th {\n",
       "        vertical-align: top;\n",
       "    }\n",
       "\n",
       "    .dataframe thead th {\n",
       "        text-align: right;\n",
       "    }\n",
       "</style>\n",
       "<table border=\"1\" class=\"dataframe\">\n",
       "  <thead>\n",
       "    <tr style=\"text-align: right;\">\n",
       "      <th></th>\n",
       "      <th>Sex</th>\n",
       "      <th>Age</th>\n",
       "      <th>Height</th>\n",
       "      <th>Weight</th>\n",
       "      <th>Season</th>\n",
       "      <th>Medal</th>\n",
       "    </tr>\n",
       "  </thead>\n",
       "  <tbody>\n",
       "    <tr>\n",
       "      <th>Sex</th>\n",
       "      <td>1.000000</td>\n",
       "      <td>-0.083694</td>\n",
       "      <td>0.128429</td>\n",
       "      <td>-0.010053</td>\n",
       "      <td>-0.037439</td>\n",
       "      <td>0.007252</td>\n",
       "    </tr>\n",
       "    <tr>\n",
       "      <th>Age</th>\n",
       "      <td>-0.083694</td>\n",
       "      <td>1.000000</td>\n",
       "      <td>0.086559</td>\n",
       "      <td>0.114276</td>\n",
       "      <td>-0.013453</td>\n",
       "      <td>0.035378</td>\n",
       "    </tr>\n",
       "    <tr>\n",
       "      <th>Height</th>\n",
       "      <td>0.128429</td>\n",
       "      <td>0.086559</td>\n",
       "      <td>1.000000</td>\n",
       "      <td>0.899510</td>\n",
       "      <td>-0.052609</td>\n",
       "      <td>0.009828</td>\n",
       "    </tr>\n",
       "    <tr>\n",
       "      <th>Weight</th>\n",
       "      <td>-0.010053</td>\n",
       "      <td>0.114276</td>\n",
       "      <td>0.899510</td>\n",
       "      <td>1.000000</td>\n",
       "      <td>-0.047662</td>\n",
       "      <td>0.024583</td>\n",
       "    </tr>\n",
       "    <tr>\n",
       "      <th>Season</th>\n",
       "      <td>-0.037439</td>\n",
       "      <td>-0.013453</td>\n",
       "      <td>-0.052609</td>\n",
       "      <td>-0.047662</td>\n",
       "      <td>1.000000</td>\n",
       "      <td>0.035956</td>\n",
       "    </tr>\n",
       "    <tr>\n",
       "      <th>Medal</th>\n",
       "      <td>0.007252</td>\n",
       "      <td>0.035378</td>\n",
       "      <td>0.009828</td>\n",
       "      <td>0.024583</td>\n",
       "      <td>0.035956</td>\n",
       "      <td>1.000000</td>\n",
       "    </tr>\n",
       "  </tbody>\n",
       "</table>\n",
       "</div>"
      ],
      "text/plain": [
       "             Sex       Age    Height    Weight    Season     Medal\n",
       "Sex     1.000000 -0.083694  0.128429 -0.010053 -0.037439  0.007252\n",
       "Age    -0.083694  1.000000  0.086559  0.114276 -0.013453  0.035378\n",
       "Height  0.128429  0.086559  1.000000  0.899510 -0.052609  0.009828\n",
       "Weight -0.010053  0.114276  0.899510  1.000000 -0.047662  0.024583\n",
       "Season -0.037439 -0.013453 -0.052609 -0.047662  1.000000  0.035956\n",
       "Medal   0.007252  0.035378  0.009828  0.024583  0.035956  1.000000"
      ]
     },
     "execution_count": 79,
     "metadata": {},
     "output_type": "execute_result"
    }
   ],
   "source": [
    "ath_df.corr()"
   ]
  },
  {
   "cell_type": "code",
   "execution_count": 80,
   "id": "3f7cea1a",
   "metadata": {},
   "outputs": [
    {
     "data": {
      "image/png": "[encoded data removed]",
      "text/plain": [
       "<Figure size 432x288 with 2 Axes>"
      ]
     },
     "metadata": {},
     "output_type": "display_data"
    }
   ],
   "source": [
    "sns.heatmap(ath_df.corr(),cmap='RdBu',annot=True,fmt='.1f')\n",
    "plt.show()"
   ]
  },
  {
   "cell_type": "markdown",
   "id": "bb8318e3",
   "metadata": {},
   "source": [
    "We can see there is a positive correlation between Sex(Predictor) & Medal This makes sense since, The greater Sex results in a greater chance of medal.\n",
    "\n",
    "In addition, we see a negative correlation between season & our predictor i.e-sex."
   ]
  },
  {
   "cell_type": "markdown",
   "id": "738989ec",
   "metadata": {},
   "source": [
    "## Seprating Dependent and Indeoendent Variable"
   ]
  },
  {
   "cell_type": "code",
   "execution_count": 81,
   "id": "93ab424f",
   "metadata": {},
   "outputs": [],
   "source": [
    "x=ath_df.drop(['Sex'],axis=1)\n",
    "y=ath_df.Sex"
   ]
  },
  {
   "cell_type": "code",
   "execution_count": 82,
   "id": "28af602e",
   "metadata": {},
   "outputs": [
    {
     "data": {
      "text/html": [
       "<div>\n",
       "<style scoped>\n",
       "    .dataframe tbody tr th:only-of-type {\n",
       "        vertical-align: middle;\n",
       "    }\n",
       "\n",
       "    .dataframe tbody tr th {\n",
       "        vertical-align: top;\n",
       "    }\n",
       "\n",
       "    .dataframe thead th {\n",
       "        text-align: right;\n",
       "    }\n",
       "</style>\n",
       "<table border=\"1\" class=\"dataframe\">\n",
       "  <thead>\n",
       "    <tr style=\"text-align: right;\">\n",
       "      <th></th>\n",
       "      <th>Age</th>\n",
       "      <th>Height</th>\n",
       "      <th>Weight</th>\n",
       "      <th>Season</th>\n",
       "      <th>Medal</th>\n",
       "    </tr>\n",
       "  </thead>\n",
       "  <tbody>\n",
       "    <tr>\n",
       "      <th>0</th>\n",
       "      <td>24</td>\n",
       "      <td>180</td>\n",
       "      <td>80</td>\n",
       "      <td>1</td>\n",
       "      <td>1</td>\n",
       "    </tr>\n",
       "    <tr>\n",
       "      <th>1</th>\n",
       "      <td>23</td>\n",
       "      <td>170</td>\n",
       "      <td>60</td>\n",
       "      <td>1</td>\n",
       "      <td>1</td>\n",
       "    </tr>\n",
       "    <tr>\n",
       "      <th>2</th>\n",
       "      <td>22</td>\n",
       "      <td>182</td>\n",
       "      <td>75</td>\n",
       "      <td>1</td>\n",
       "      <td>1</td>\n",
       "    </tr>\n",
       "    <tr>\n",
       "      <th>3</th>\n",
       "      <td>25</td>\n",
       "      <td>160</td>\n",
       "      <td>62</td>\n",
       "      <td>1</td>\n",
       "      <td>1</td>\n",
       "    </tr>\n",
       "    <tr>\n",
       "      <th>4</th>\n",
       "      <td>14</td>\n",
       "      <td>168</td>\n",
       "      <td>54</td>\n",
       "      <td>1</td>\n",
       "      <td>1</td>\n",
       "    </tr>\n",
       "    <tr>\n",
       "      <th>...</th>\n",
       "      <td>...</td>\n",
       "      <td>...</td>\n",
       "      <td>...</td>\n",
       "      <td>...</td>\n",
       "      <td>...</td>\n",
       "    </tr>\n",
       "    <tr>\n",
       "      <th>270762</th>\n",
       "      <td>23</td>\n",
       "      <td>150</td>\n",
       "      <td>56</td>\n",
       "      <td>1</td>\n",
       "      <td>1</td>\n",
       "    </tr>\n",
       "    <tr>\n",
       "      <th>270763</th>\n",
       "      <td>27</td>\n",
       "      <td>150</td>\n",
       "      <td>56</td>\n",
       "      <td>1</td>\n",
       "      <td>1</td>\n",
       "    </tr>\n",
       "    <tr>\n",
       "      <th>270764</th>\n",
       "      <td>15</td>\n",
       "      <td>0</td>\n",
       "      <td>0</td>\n",
       "      <td>1</td>\n",
       "      <td>1</td>\n",
       "    </tr>\n",
       "    <tr>\n",
       "      <th>270765</th>\n",
       "      <td>23</td>\n",
       "      <td>170</td>\n",
       "      <td>63</td>\n",
       "      <td>1</td>\n",
       "      <td>1</td>\n",
       "    </tr>\n",
       "    <tr>\n",
       "      <th>270766</th>\n",
       "      <td>20</td>\n",
       "      <td>175</td>\n",
       "      <td>75</td>\n",
       "      <td>1</td>\n",
       "      <td>1</td>\n",
       "    </tr>\n",
       "  </tbody>\n",
       "</table>\n",
       "<p>270767 rows × 5 columns</p>\n",
       "</div>"
      ],
      "text/plain": [
       "        Age  Height  Weight  Season  Medal\n",
       "0        24     180      80       1      1\n",
       "1        23     170      60       1      1\n",
       "2        22     182      75       1      1\n",
       "3        25     160      62       1      1\n",
       "4        14     168      54       1      1\n",
       "...     ...     ...     ...     ...    ...\n",
       "270762   23     150      56       1      1\n",
       "270763   27     150      56       1      1\n",
       "270764   15       0       0       1      1\n",
       "270765   23     170      63       1      1\n",
       "270766   20     175      75       1      1\n",
       "\n",
       "[270767 rows x 5 columns]"
      ]
     },
     "execution_count": 82,
     "metadata": {},
     "output_type": "execute_result"
    }
   ],
   "source": [
    "x"
   ]
  },
  {
   "cell_type": "code",
   "execution_count": 83,
   "id": "eebc3c3d",
   "metadata": {},
   "outputs": [
    {
     "data": {
      "text/plain": [
       "0         7\n",
       "1         7\n",
       "2         7\n",
       "3         7\n",
       "4         9\n",
       "         ..\n",
       "270762    9\n",
       "270763    9\n",
       "270764    9\n",
       "270765    7\n",
       "270766    7\n",
       "Name: Sex, Length: 270767, dtype: int64"
      ]
     },
     "execution_count": 83,
     "metadata": {},
     "output_type": "execute_result"
    }
   ],
   "source": [
    "y"
   ]
  },
  {
   "cell_type": "code",
   "execution_count": 84,
   "id": "1ffb4515",
   "metadata": {},
   "outputs": [
    {
     "data": {
      "text/plain": [
       "7    196374\n",
       "9     74393\n",
       "Name: Sex, dtype: int64"
      ]
     },
     "execution_count": 84,
     "metadata": {},
     "output_type": "execute_result"
    }
   ],
   "source": [
    "y.value_counts()"
   ]
  },
  {
   "cell_type": "markdown",
   "id": "129060d5",
   "metadata": {},
   "source": [
    "## Importing train-test split"
   ]
  },
  {
   "cell_type": "code",
   "execution_count": 85,
   "id": "072b076f",
   "metadata": {},
   "outputs": [],
   "source": [
    "from sklearn.model_selection import train_test_split"
   ]
  },
  {
   "cell_type": "code",
   "execution_count": 86,
   "id": "43ea2fbb",
   "metadata": {},
   "outputs": [],
   "source": [
    "x_train,x_test,y_train,y_test=train_test_split(x,y,test_size=0.2)"
   ]
  },
  {
   "cell_type": "code",
   "execution_count": 87,
   "id": "130f7f3f",
   "metadata": {},
   "outputs": [
    {
     "name": "stdout",
     "output_type": "stream",
     "text": [
      "(216613, 5)\n",
      "(54154, 5)\n",
      "(216613,)\n",
      "(54154,)\n"
     ]
    }
   ],
   "source": [
    "print(x_train.shape)\n",
    "print(x_test.shape)\n",
    "print(y_train.shape)\n",
    "print(y_test.shape)"
   ]
  },
  {
   "cell_type": "markdown",
   "id": "3decacad",
   "metadata": {},
   "source": [
    "## 1-Logistic Regression"
   ]
  },
  {
   "cell_type": "code",
   "execution_count": 88,
   "id": "d8135454",
   "metadata": {},
   "outputs": [],
   "source": [
    "from sklearn.linear_model import LogisticRegression"
   ]
  },
  {
   "cell_type": "code",
   "execution_count": 89,
   "id": "2aaa5cda",
   "metadata": {},
   "outputs": [],
   "source": [
    "model=LogisticRegression()"
   ]
  },
  {
   "cell_type": "code",
   "execution_count": 90,
   "id": "378024e9",
   "metadata": {},
   "outputs": [
    {
     "data": {
      "text/plain": [
       "LogisticRegression()"
      ]
     },
     "execution_count": 90,
     "metadata": {},
     "output_type": "execute_result"
    }
   ],
   "source": [
    "model"
   ]
  },
  {
   "cell_type": "code",
   "execution_count": 91,
   "id": "a663ae62",
   "metadata": {},
   "outputs": [
    {
     "data": {
      "text/plain": [
       "LogisticRegression()"
      ]
     },
     "execution_count": 91,
     "metadata": {},
     "output_type": "execute_result"
    }
   ],
   "source": [
    "model.fit(x_train,y_train)"
   ]
  },
  {
   "cell_type": "code",
   "execution_count": 92,
   "id": "2c4d8411",
   "metadata": {},
   "outputs": [
    {
     "data": {
      "text/plain": [
       "74.61140374769751"
      ]
     },
     "execution_count": 92,
     "metadata": {},
     "output_type": "execute_result"
    }
   ],
   "source": [
    "model.score(x_train,y_train)*100"
   ]
  },
  {
   "cell_type": "code",
   "execution_count": 93,
   "id": "b8da4a7f",
   "metadata": {},
   "outputs": [
    {
     "data": {
      "text/plain": [
       "74.50049857812904"
      ]
     },
     "execution_count": 93,
     "metadata": {},
     "output_type": "execute_result"
    }
   ],
   "source": [
    "model.score(x_test,y_test)*100"
   ]
  },
  {
   "cell_type": "code",
   "execution_count": 94,
   "id": "5bf30db0",
   "metadata": {},
   "outputs": [],
   "source": [
    "y_predict=model.predict(x_test)"
   ]
  },
  {
   "cell_type": "code",
   "execution_count": 95,
   "id": "3e99bf01",
   "metadata": {},
   "outputs": [
    {
     "data": {
      "text/plain": [
       "array([7, 7, 7, ..., 7, 7, 7], dtype=int64)"
      ]
     },
     "execution_count": 95,
     "metadata": {},
     "output_type": "execute_result"
    }
   ],
   "source": [
    "y_predict"
   ]
  },
  {
   "cell_type": "code",
   "execution_count": 96,
   "id": "75d73bbf",
   "metadata": {},
   "outputs": [],
   "source": [
    "ath_df=pd.DataFrame({'Actual':y_test,'Predicted':y_predict})"
   ]
  },
  {
   "cell_type": "code",
   "execution_count": 97,
   "id": "8c894382",
   "metadata": {},
   "outputs": [
    {
     "data": {
      "text/html": [
       "<div>\n",
       "<style scoped>\n",
       "    .dataframe tbody tr th:only-of-type {\n",
       "        vertical-align: middle;\n",
       "    }\n",
       "\n",
       "    .dataframe tbody tr th {\n",
       "        vertical-align: top;\n",
       "    }\n",
       "\n",
       "    .dataframe thead th {\n",
       "        text-align: right;\n",
       "    }\n",
       "</style>\n",
       "<table border=\"1\" class=\"dataframe\">\n",
       "  <thead>\n",
       "    <tr style=\"text-align: right;\">\n",
       "      <th></th>\n",
       "      <th>Actual</th>\n",
       "      <th>Predicted</th>\n",
       "    </tr>\n",
       "  </thead>\n",
       "  <tbody>\n",
       "    <tr>\n",
       "      <th>155427</th>\n",
       "      <td>7</td>\n",
       "      <td>7</td>\n",
       "    </tr>\n",
       "    <tr>\n",
       "      <th>254739</th>\n",
       "      <td>7</td>\n",
       "      <td>7</td>\n",
       "    </tr>\n",
       "    <tr>\n",
       "      <th>183098</th>\n",
       "      <td>9</td>\n",
       "      <td>7</td>\n",
       "    </tr>\n",
       "    <tr>\n",
       "      <th>24642</th>\n",
       "      <td>9</td>\n",
       "      <td>7</td>\n",
       "    </tr>\n",
       "    <tr>\n",
       "      <th>42128</th>\n",
       "      <td>9</td>\n",
       "      <td>7</td>\n",
       "    </tr>\n",
       "    <tr>\n",
       "      <th>...</th>\n",
       "      <td>...</td>\n",
       "      <td>...</td>\n",
       "    </tr>\n",
       "    <tr>\n",
       "      <th>120888</th>\n",
       "      <td>7</td>\n",
       "      <td>7</td>\n",
       "    </tr>\n",
       "    <tr>\n",
       "      <th>4939</th>\n",
       "      <td>7</td>\n",
       "      <td>7</td>\n",
       "    </tr>\n",
       "    <tr>\n",
       "      <th>173255</th>\n",
       "      <td>7</td>\n",
       "      <td>7</td>\n",
       "    </tr>\n",
       "    <tr>\n",
       "      <th>24164</th>\n",
       "      <td>7</td>\n",
       "      <td>7</td>\n",
       "    </tr>\n",
       "    <tr>\n",
       "      <th>137657</th>\n",
       "      <td>7</td>\n",
       "      <td>7</td>\n",
       "    </tr>\n",
       "  </tbody>\n",
       "</table>\n",
       "<p>54154 rows × 2 columns</p>\n",
       "</div>"
      ],
      "text/plain": [
       "        Actual  Predicted\n",
       "155427       7          7\n",
       "254739       7          7\n",
       "183098       9          7\n",
       "24642        9          7\n",
       "42128        9          7\n",
       "...        ...        ...\n",
       "120888       7          7\n",
       "4939         7          7\n",
       "173255       7          7\n",
       "24164        7          7\n",
       "137657       7          7\n",
       "\n",
       "[54154 rows x 2 columns]"
      ]
     },
     "execution_count": 97,
     "metadata": {},
     "output_type": "execute_result"
    }
   ],
   "source": [
    "ath_df"
   ]
  },
  {
   "cell_type": "code",
   "execution_count": 98,
   "id": "7efed4c7",
   "metadata": {},
   "outputs": [],
   "source": [
    "#Checking accuracy"
   ]
  },
  {
   "cell_type": "code",
   "execution_count": 99,
   "id": "34e9c092",
   "metadata": {},
   "outputs": [],
   "source": [
    "from sklearn.metrics import accuracy_score"
   ]
  },
  {
   "cell_type": "code",
   "execution_count": 100,
   "id": "5674942d",
   "metadata": {},
   "outputs": [],
   "source": [
    "test_acc = accuracy_score(y_test,y_predict)*100"
   ]
  },
  {
   "cell_type": "code",
   "execution_count": 101,
   "id": "4f82f0fd",
   "metadata": {},
   "outputs": [
    {
     "data": {
      "text/plain": [
       "74.50049857812904"
      ]
     },
     "execution_count": 101,
     "metadata": {},
     "output_type": "execute_result"
    }
   ],
   "source": [
    "test_acc"
   ]
  },
  {
   "cell_type": "markdown",
   "id": "3a1476f0",
   "metadata": {},
   "source": [
    "### Importing confusion matrix"
   ]
  },
  {
   "cell_type": "code",
   "execution_count": 102,
   "id": "b2890f22",
   "metadata": {},
   "outputs": [],
   "source": [
    "from sklearn.metrics import confusion_matrix"
   ]
  },
  {
   "cell_type": "code",
   "execution_count": 103,
   "id": "4711c135",
   "metadata": {},
   "outputs": [],
   "source": [
    "performance=confusion_matrix(y_test,y_predict)"
   ]
  },
  {
   "cell_type": "code",
   "execution_count": 104,
   "id": "f913543b",
   "metadata": {},
   "outputs": [
    {
     "data": {
      "text/plain": [
       "array([[38064,  1074],\n",
       "       [12735,  2281]], dtype=int64)"
      ]
     },
     "execution_count": 104,
     "metadata": {},
     "output_type": "execute_result"
    }
   ],
   "source": [
    "performance"
   ]
  },
  {
   "cell_type": "code",
   "execution_count": 105,
   "id": "0d9d178a",
   "metadata": {},
   "outputs": [],
   "source": [
    "from sklearn.metrics import plot_confusion_matrix"
   ]
  },
  {
   "cell_type": "code",
   "execution_count": 106,
   "id": "16ebfca7",
   "metadata": {},
   "outputs": [
    {
     "data": {
      "image/png": "[encoded data removed]",
      "text/plain": [
       "<Figure size 432x288 with 2 Axes>"
      ]
     },
     "metadata": {},
     "output_type": "display_data"
    }
   ],
   "source": [
    "plot_confusion_matrix(model,x_test,y_test)\n",
    "plt.show()"
   ]
  },
  {
   "cell_type": "markdown",
   "id": "0a31d19a",
   "metadata": {},
   "source": [
    "38064 is the amount of True Positives in our data, while 2281 is the amount of True Negatives.\n",
    "\n",
    "1074 & 12736 are the number of errors.\n",
    "\n",
    "There are 1074 type 1 error (False Positives)- You predicted positive and it’s false.\n",
    "\n",
    "There are 12736 type 2 error (False Negatives)- You predicted negative and it’s false.\n",
    "\n",
    "Hence if we calculate the accuracy its # Correct Predicted/ # Total. In other words, where TP, FN, FP and TN represent the number of true positives, false negatives, false positives and true negatives.\n",
    "\n",
    "(TP + TN)/(TP + TN + FP + FN). (38064 + 2281)/(38064+2281+1074+12736) = 0.7456 = 74.56% accuracy\n",
    "\n",
    "Accuracy = 74.56%"
   ]
  },
  {
   "cell_type": "markdown",
   "id": "776587cc",
   "metadata": {},
   "source": [
    "### Classification report"
   ]
  },
  {
   "cell_type": "code",
   "execution_count": 107,
   "id": "7c6c1e5a",
   "metadata": {},
   "outputs": [],
   "source": [
    "from sklearn.metrics import classification_report"
   ]
  },
  {
   "cell_type": "code",
   "execution_count": 108,
   "id": "98adba13",
   "metadata": {},
   "outputs": [],
   "source": [
    "performance=classification_report(y_test,y_predict)"
   ]
  },
  {
   "cell_type": "code",
   "execution_count": 109,
   "id": "c3502316",
   "metadata": {},
   "outputs": [
    {
     "name": "stdout",
     "output_type": "stream",
     "text": [
      "              precision    recall  f1-score   support\n",
      "\n",
      "           7       0.75      0.97      0.85     39138\n",
      "           9       0.68      0.15      0.25     15016\n",
      "\n",
      "    accuracy                           0.75     54154\n",
      "   macro avg       0.71      0.56      0.55     54154\n",
      "weighted avg       0.73      0.75      0.68     54154\n",
      "\n"
     ]
    }
   ],
   "source": [
    "print(performance)"
   ]
  },
  {
   "cell_type": "markdown",
   "id": "c77591bf",
   "metadata": {},
   "source": [
    "## 2-Decision Tree"
   ]
  },
  {
   "cell_type": "code",
   "execution_count": 110,
   "id": "a6be53b6",
   "metadata": {},
   "outputs": [],
   "source": [
    "from sklearn.tree import DecisionTreeClassifier"
   ]
  },
  {
   "cell_type": "code",
   "execution_count": 111,
   "id": "2f34fa83",
   "metadata": {},
   "outputs": [],
   "source": [
    "model_dt=DecisionTreeClassifier()"
   ]
  },
  {
   "cell_type": "code",
   "execution_count": 112,
   "id": "d12081e0",
   "metadata": {},
   "outputs": [
    {
     "data": {
      "text/plain": [
       "DecisionTreeClassifier()"
      ]
     },
     "execution_count": 112,
     "metadata": {},
     "output_type": "execute_result"
    }
   ],
   "source": [
    "model_dt.fit(x_train,y_train)"
   ]
  },
  {
   "cell_type": "code",
   "execution_count": 113,
   "id": "d8f80ec6",
   "metadata": {},
   "outputs": [
    {
     "data": {
      "text/plain": [
       "88.55378024402968"
      ]
     },
     "execution_count": 113,
     "metadata": {},
     "output_type": "execute_result"
    }
   ],
   "source": [
    "model_dt.score(x_train,y_train)*100"
   ]
  },
  {
   "cell_type": "code",
   "execution_count": 114,
   "id": "49d0b1df",
   "metadata": {},
   "outputs": [
    {
     "data": {
      "text/plain": [
       "82.43343058684492"
      ]
     },
     "execution_count": 114,
     "metadata": {},
     "output_type": "execute_result"
    }
   ],
   "source": [
    "model_dt.score(x_test,y_test)*100"
   ]
  },
  {
   "cell_type": "code",
   "execution_count": 115,
   "id": "76805121",
   "metadata": {},
   "outputs": [],
   "source": [
    "from sklearn.metrics import accuracy_score"
   ]
  },
  {
   "cell_type": "code",
   "execution_count": 116,
   "id": "9a64755d",
   "metadata": {},
   "outputs": [],
   "source": [
    "y_predict=model_dt.predict(x_test)"
   ]
  },
  {
   "cell_type": "code",
   "execution_count": 117,
   "id": "52f51781",
   "metadata": {},
   "outputs": [
    {
     "data": {
      "text/plain": [
       "array([7, 7, 7, ..., 7, 7, 7], dtype=int64)"
      ]
     },
     "execution_count": 117,
     "metadata": {},
     "output_type": "execute_result"
    }
   ],
   "source": [
    "y_predict"
   ]
  },
  {
   "cell_type": "code",
   "execution_count": 118,
   "id": "9deacfd8",
   "metadata": {},
   "outputs": [],
   "source": [
    "test_acc = accuracy_score(y_test,y_predict)*100"
   ]
  },
  {
   "cell_type": "code",
   "execution_count": 119,
   "id": "8a4a539d",
   "metadata": {},
   "outputs": [
    {
     "data": {
      "text/plain": [
       "82.43343058684492"
      ]
     },
     "execution_count": 119,
     "metadata": {},
     "output_type": "execute_result"
    }
   ],
   "source": [
    "test_acc"
   ]
  },
  {
   "cell_type": "markdown",
   "id": "4abaebf7",
   "metadata": {},
   "source": [
    "## 3-Random Forest"
   ]
  },
  {
   "cell_type": "code",
   "execution_count": 120,
   "id": "ec8bcf87",
   "metadata": {},
   "outputs": [],
   "source": [
    "from sklearn.ensemble import RandomForestClassifier"
   ]
  },
  {
   "cell_type": "code",
   "execution_count": 121,
   "id": "c23d7c8b",
   "metadata": {},
   "outputs": [],
   "source": [
    "model_rf=RandomForestClassifier(n_estimators=100)"
   ]
  },
  {
   "cell_type": "code",
   "execution_count": 122,
   "id": "c475c2da",
   "metadata": {},
   "outputs": [
    {
     "data": {
      "text/plain": [
       "RandomForestClassifier()"
      ]
     },
     "execution_count": 122,
     "metadata": {},
     "output_type": "execute_result"
    }
   ],
   "source": [
    "model_rf.fit(x_train,y_train)"
   ]
  },
  {
   "cell_type": "code",
   "execution_count": 123,
   "id": "558a4104",
   "metadata": {},
   "outputs": [
    {
     "data": {
      "text/plain": [
       "88.5528569384109"
      ]
     },
     "execution_count": 123,
     "metadata": {},
     "output_type": "execute_result"
    }
   ],
   "source": [
    "model_rf.score(x_train,y_train)*100"
   ]
  },
  {
   "cell_type": "code",
   "execution_count": 124,
   "id": "08fe7a97",
   "metadata": {},
   "outputs": [
    {
     "data": {
      "text/plain": [
       "82.9874062857776"
      ]
     },
     "execution_count": 124,
     "metadata": {},
     "output_type": "execute_result"
    }
   ],
   "source": [
    "model_rf.score(x_test,y_test)*100"
   ]
  },
  {
   "cell_type": "code",
   "execution_count": 125,
   "id": "796cf7b7",
   "metadata": {},
   "outputs": [],
   "source": [
    "from sklearn.metrics import accuracy_score"
   ]
  },
  {
   "cell_type": "code",
   "execution_count": 126,
   "id": "15e4c0a6",
   "metadata": {},
   "outputs": [],
   "source": [
    "y_predict=model_rf.predict(x_test)"
   ]
  },
  {
   "cell_type": "code",
   "execution_count": 127,
   "id": "f37e9d8a",
   "metadata": {},
   "outputs": [
    {
     "data": {
      "text/plain": [
       "array([7, 7, 9, ..., 7, 7, 7], dtype=int64)"
      ]
     },
     "execution_count": 127,
     "metadata": {},
     "output_type": "execute_result"
    }
   ],
   "source": [
    "y_predict"
   ]
  },
  {
   "cell_type": "code",
   "execution_count": 128,
   "id": "b1f32a90",
   "metadata": {},
   "outputs": [],
   "source": [
    "test_acc = accuracy_score(y_test,y_predict)*100"
   ]
  },
  {
   "cell_type": "code",
   "execution_count": 129,
   "id": "ca06c874",
   "metadata": {},
   "outputs": [
    {
     "data": {
      "text/plain": [
       "82.9874062857776"
      ]
     },
     "execution_count": 129,
     "metadata": {},
     "output_type": "execute_result"
    }
   ],
   "source": [
    "test_acc"
   ]
  },
  {
   "cell_type": "markdown",
   "id": "cc1eb64d",
   "metadata": {},
   "source": [
    "## 4-KNeighborsClassifier"
   ]
  },
  {
   "cell_type": "code",
   "execution_count": 130,
   "id": "312bf5fc",
   "metadata": {},
   "outputs": [],
   "source": [
    "from sklearn.neighbors import KNeighborsClassifier"
   ]
  },
  {
   "cell_type": "code",
   "execution_count": 131,
   "id": "f1a2ba03",
   "metadata": {},
   "outputs": [],
   "source": [
    "model_knn=KNeighborsClassifier(n_neighbors=10)"
   ]
  },
  {
   "cell_type": "code",
   "execution_count": 132,
   "id": "2c188632",
   "metadata": {},
   "outputs": [
    {
     "data": {
      "text/plain": [
       "KNeighborsClassifier(n_neighbors=10)"
      ]
     },
     "execution_count": 132,
     "metadata": {},
     "output_type": "execute_result"
    }
   ],
   "source": [
    "model_knn.fit(x_train,y_train)"
   ]
  },
  {
   "cell_type": "code",
   "execution_count": 133,
   "id": "2e45820f",
   "metadata": {},
   "outputs": [
    {
     "data": {
      "text/plain": [
       "84.53139931583054"
      ]
     },
     "execution_count": 133,
     "metadata": {},
     "output_type": "execute_result"
    }
   ],
   "source": [
    "model_knn.score(x_train,y_train)*100"
   ]
  },
  {
   "cell_type": "code",
   "execution_count": 134,
   "id": "3d6500e1",
   "metadata": {},
   "outputs": [
    {
     "data": {
      "text/plain": [
       "82.50175425637995"
      ]
     },
     "execution_count": 134,
     "metadata": {},
     "output_type": "execute_result"
    }
   ],
   "source": [
    "model_knn.score(x_test,y_test)*100"
   ]
  },
  {
   "cell_type": "code",
   "execution_count": 135,
   "id": "20e4c8e0",
   "metadata": {},
   "outputs": [],
   "source": [
    "from sklearn.metrics import accuracy_score"
   ]
  },
  {
   "cell_type": "code",
   "execution_count": 136,
   "id": "9d7a6137",
   "metadata": {},
   "outputs": [],
   "source": [
    "y_predict=model_knn.predict(x_test)"
   ]
  },
  {
   "cell_type": "code",
   "execution_count": 137,
   "id": "b7743615",
   "metadata": {},
   "outputs": [
    {
     "data": {
      "text/plain": [
       "array([7, 7, 9, ..., 7, 7, 7], dtype=int64)"
      ]
     },
     "execution_count": 137,
     "metadata": {},
     "output_type": "execute_result"
    }
   ],
   "source": [
    "y_predict"
   ]
  },
  {
   "cell_type": "code",
   "execution_count": 138,
   "id": "3a9503b2",
   "metadata": {},
   "outputs": [],
   "source": [
    "test_acc = accuracy_score(y_test,y_predict)*100"
   ]
  },
  {
   "cell_type": "code",
   "execution_count": 139,
   "id": "e584bed6",
   "metadata": {},
   "outputs": [
    {
     "data": {
      "text/plain": [
       "82.50175425637995"
      ]
     },
     "execution_count": 139,
     "metadata": {},
     "output_type": "execute_result"
    }
   ],
   "source": [
    "test_acc"
   ]
  },
  {
   "cell_type": "markdown",
   "id": "e0fde44c",
   "metadata": {},
   "source": [
    "## 5- Naive bayes"
   ]
  },
  {
   "cell_type": "code",
   "execution_count": 140,
   "id": "07124468",
   "metadata": {},
   "outputs": [],
   "source": [
    "from sklearn.naive_bayes import MultinomialNB"
   ]
  },
  {
   "cell_type": "code",
   "execution_count": 141,
   "id": "661c504e",
   "metadata": {},
   "outputs": [],
   "source": [
    "model_nb=MultinomialNB()"
   ]
  },
  {
   "cell_type": "code",
   "execution_count": 142,
   "id": "ec301adc",
   "metadata": {},
   "outputs": [
    {
     "data": {
      "text/plain": [
       "MultinomialNB()"
      ]
     },
     "execution_count": 142,
     "metadata": {},
     "output_type": "execute_result"
    }
   ],
   "source": [
    "model_nb.fit(x_train,y_train)"
   ]
  },
  {
   "cell_type": "code",
   "execution_count": 143,
   "id": "2ab0bcff",
   "metadata": {},
   "outputs": [
    {
     "data": {
      "text/plain": [
       "72.8081878742273"
      ]
     },
     "execution_count": 143,
     "metadata": {},
     "output_type": "execute_result"
    }
   ],
   "source": [
    "model_nb.score(x_train,y_train)*100"
   ]
  },
  {
   "cell_type": "code",
   "execution_count": 144,
   "id": "538b4621",
   "metadata": {},
   "outputs": [
    {
     "data": {
      "text/plain": [
       "72.72223658455516"
      ]
     },
     "execution_count": 144,
     "metadata": {},
     "output_type": "execute_result"
    }
   ],
   "source": [
    "model_nb.score(x_test,y_test)*100"
   ]
  },
  {
   "cell_type": "code",
   "execution_count": 145,
   "id": "bb7666c3",
   "metadata": {},
   "outputs": [],
   "source": [
    "from sklearn.metrics import accuracy_score"
   ]
  },
  {
   "cell_type": "code",
   "execution_count": 146,
   "id": "c6f47571",
   "metadata": {},
   "outputs": [],
   "source": [
    "y_predict=model_nb.predict(x_test)"
   ]
  },
  {
   "cell_type": "code",
   "execution_count": 147,
   "id": "9dbecba9",
   "metadata": {},
   "outputs": [
    {
     "data": {
      "text/plain": [
       "array([7, 9, 9, ..., 7, 7, 7], dtype=int64)"
      ]
     },
     "execution_count": 147,
     "metadata": {},
     "output_type": "execute_result"
    }
   ],
   "source": [
    "y_predict"
   ]
  },
  {
   "cell_type": "code",
   "execution_count": 148,
   "id": "379c8623",
   "metadata": {},
   "outputs": [],
   "source": [
    "test_acc = accuracy_score(y_test,y_predict)*100"
   ]
  },
  {
   "cell_type": "code",
   "execution_count": 149,
   "id": "0f76c3d3",
   "metadata": {},
   "outputs": [
    {
     "data": {
      "text/plain": [
       "72.72223658455516"
      ]
     },
     "execution_count": 149,
     "metadata": {},
     "output_type": "execute_result"
    }
   ],
   "source": [
    "test_acc"
   ]
  },
  {
   "cell_type": "markdown",
   "id": "f5ba2961",
   "metadata": {},
   "source": [
    "# Observation"
   ]
  },
  {
   "cell_type": "markdown",
   "id": "3c2716ca",
   "metadata": {},
   "source": [
    "From comparing the 5 models, we can conclude that RandomForestClassifier Model has highest accuracy. With an accuracy of 82.98%.  \n",
    "\n",
    "We have precision, recall, f1-score and support:\n",
    "\n",
    "Precision : be \"how many are correctly classified among that class\"\n",
    "\n",
    "Recall : \"how many of this class you find over the whole number of element of this class\"\n",
    "\n",
    "F1-score : harmonic mean of precision and recall values. F1 score reaches its best value at 1 and worst value at 0. F1 Score = 2 x ((precision x recall) / (precision + recall))\n",
    "\n",
    "Support: of samples of the true response that lie in that class."
   ]
  },
  {
   "cell_type": "markdown",
   "id": "3c88f0ff",
   "metadata": {},
   "source": [
    "# Analysis of result"
   ]
  },
  {
   "cell_type": "markdown",
   "id": "9b0572c1",
   "metadata": {},
   "source": [
    "We used precision, F1-score, recall and accuracy evaluation metrics for evaluating our models.\n",
    "\n",
    "False Positive(FP) is when a model incorrectly predicts a positive outcome.\n",
    "\n",
    "False Negative(FN) is when a model incorrectly predicts the negative outcome.\n",
    "\n",
    "True Positive(TP) is when model correctly predicts a positive outcome.\n",
    "\n",
    "True Negative(TN) is when a model correctly predicts a negative outcome.\n",
    "\n",
    "Precision=TP/(TP+FP) =\n",
    "\n",
    "Recall = TP / (TP + FN)\n",
    "\n",
    "F1 score = 2 * precision * Recall / (precision + Recall)\n",
    "\n",
    "Machine Learning Models - Accuracy \n",
    "\n",
    "1 - Logistic Regression - 74.50\n",
    "\n",
    "2 - Decision Tree - 82.43\n",
    "\n",
    "3 - Random Forest - 82.98\n",
    "\n",
    "4 - KNeighborsClassifier - 82.50\n",
    "\n",
    "5 - Naive bayes - 72.72"
   ]
  },
  {
   "cell_type": "markdown",
   "id": "5696ddf4",
   "metadata": {},
   "source": [
    "# Conclusions"
   ]
  },
  {
   "cell_type": "markdown",
   "id": "60cb67cf",
   "metadata": {},
   "source": [
    "Our Random Forest algorithm yields the highest accuracy, 82.98 %. Any accuracy above 80% is considered good. Thus, 82.98 % is the ideal accuracy! and Random forest model has Highest testing score i.e-82.9874% and score of train data is 88.5457%.\n",
    "\n",
    "Out of the 17 features we examined the 5 features i.e-Age,Height, Weight ,Season and Medal features that helped us classify between a Male & Female (Sex)\n",
    "\n",
    "As we are getting high accuracy in training as well as testing dataset,it is example of Right fit.\n",
    "\n",
    "​"
   ]
  },
  {
   "cell_type": "code",
   "execution_count": null,
   "id": "a2aed9ca",
   "metadata": {},
   "outputs": [],
   "source": []
  }
 ],
 "metadata": {
  "kernelspec": {
   "display_name": "Python 3 (ipykernel)",
   "language": "python",
   "name": "python3"
  },
  "language_info": {
   "codemirror_mode": {
    "name": "ipython",
    "version": 3
   },
   "file_extension": ".py",
   "mimetype": "text/x-python",
   "name": "python",
   "nbconvert_exporter": "python",
   "pygments_lexer": "ipython3",
   "version": "3.9.12"
  }
 },
 "nbformat": 4,
 "nbformat_minor": 5
}
